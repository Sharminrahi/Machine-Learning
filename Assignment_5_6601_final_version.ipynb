{
  "nbformat": 4,
  "nbformat_minor": 0,
  "metadata": {
    "colab": {
      "provenance": []
    },
    "kernelspec": {
      "name": "python3",
      "display_name": "Python 3"
    },
    "language_info": {
      "name": "python"
    }
  },
  "cells": [
    {
      "cell_type": "markdown",
      "source": [
        "https://scikit-learn.org/stable/auto_examples/classification/plot_digits_classification.html\n",
        "train a classifier using each of the following:\n",
        "1. Decision Tree\n",
        "2. Ensemble of trees\n",
        "3. Random forest\n",
        "4. MLP Neural Network\n",
        "a. With 1 hidden layer\n",
        "b. With 2 hidden layers\n",
        "c. With 3 hidden layers\n",
        "You may experiment with choosing the other hyper-parameters for these models, however, anything that makes the model converge and work is sufficient for this exercise.\n",
        "Use cross-fold validation in order to evaluate the performance of each classifier on the dataset.\n",
        "(2 marks) Split a small amount of data off from the main training set for validation. For each classifier, find which label is predicted with the highest confidence over the validation set and plot the image and its predicted class."
      ],
      "metadata": {
        "id": "mD6RmDGadp6Q"
      }
    },
    {
      "cell_type": "code",
      "execution_count": 101,
      "metadata": {
        "id": "IPx_lx1bWHIp"
      },
      "outputs": [],
      "source": [
        "import pandas as pd\n",
        "from sklearn.model_selection import train_test_split\n",
        "from sklearn import metrics\n",
        "from sklearn.metrics import confusion_matrix\n",
        "from sklearn.metrics import classification_report   \n",
        "from sklearn.metrics import accuracy_score, plot_confusion_matrix\n",
        "from sklearn.model_selection import cross_val_score\n",
        "from sklearn.model_selection import GridSearchCV\n",
        "from sklearn.model_selection import KFold\n",
        "import numpy as np\n",
        "import matplotlib.pyplot as plt\n",
        "from sklearn import datasets, metrics\n",
        "from sklearn.tree import DecisionTreeClassifier\n",
        "from sklearn import tree\n",
        "from sklearn.neural_network import MLPClassifier\n",
        "from sklearn.ensemble import RandomForestClassifier\n",
        "from sklearn.ensemble import BaggingClassifier\n",
        "from sklearn.neighbors import KNeighborsClassifier\n",
        "import warnings\n",
        "warnings.filterwarnings('ignore')"
      ]
    },
    {
      "cell_type": "markdown",
      "source": [
        "# Load and Visiualize Data"
      ],
      "metadata": {
        "id": "NXjjYhMQEL3q"
      }
    },
    {
      "cell_type": "code",
      "source": [
        "digits = datasets.load_digits()"
      ],
      "metadata": {
        "id": "zBoScS4Baogb"
      },
      "execution_count": 102,
      "outputs": []
    },
    {
      "cell_type": "code",
      "source": [
        "import matplotlib.pyplot as plt\n",
        "plt.imshow(digits.images[0], cmap='binary')\n",
        "plt.show()"
      ],
      "metadata": {
        "id": "ap_wh7zdIcAL",
        "colab": {
          "base_uri": "https://localhost:8080/",
          "height": 265
        },
        "outputId": "d53c36da-1de7-4120-ab87-3162f2f5d49a"
      },
      "execution_count": 103,
      "outputs": [
        {
          "output_type": "display_data",
          "data": {
            "text/plain": [
              "<Figure size 432x288 with 1 Axes>"
            ],
            "image/png": "[encoded data removed]"
          },
          "metadata": {
            "needs_background": "light"
          }
        }
      ]
    },
    {
      "cell_type": "markdown",
      "source": [
        "## Reshape of Data"
      ],
      "metadata": {
        "id": "iHT37YJSbcTv"
      }
    },
    {
      "cell_type": "code",
      "source": [
        "# flatten the images\n",
        "n_samples = len(digits.images)\n",
        "data = digits.images.reshape((n_samples, -1))\n",
        "data"
      ],
      "metadata": {
        "colab": {
          "base_uri": "https://localhost:8080/"
        },
        "id": "B9CJmk7FbeUC",
        "outputId": "cba310e9-6d0d-454e-87ec-f7c2743b5c9e"
      },
      "execution_count": 104,
      "outputs": [
        {
          "output_type": "execute_result",
          "data": {
            "text/plain": [
              "array([[ 0.,  0.,  5., ...,  0.,  0.,  0.],\n",
              "       [ 0.,  0.,  0., ..., 10.,  0.,  0.],\n",
              "       [ 0.,  0.,  0., ..., 16.,  9.,  0.],\n",
              "       ...,\n",
              "       [ 0.,  0.,  1., ...,  6.,  0.,  0.],\n",
              "       [ 0.,  0.,  2., ..., 12.,  0.,  0.],\n",
              "       [ 0.,  0., 10., ..., 12.,  1.,  0.]])"
            ]
          },
          "metadata": {},
          "execution_count": 104
        }
      ]
    },
    {
      "cell_type": "markdown",
      "source": [
        "### Shape of data"
      ],
      "metadata": {
        "id": "jZnZF6igxV3u"
      }
    },
    {
      "cell_type": "code",
      "source": [
        "data = digits.images.reshape(digits.images.shape[0], -1)\n",
        "data.shape"
      ],
      "metadata": {
        "colab": {
          "base_uri": "https://localhost:8080/"
        },
        "id": "4AH-FZNxjClg",
        "outputId": "33a89465-c995-4bd5-cbe7-aa9a1016d3f5"
      },
      "execution_count": 105,
      "outputs": [
        {
          "output_type": "execute_result",
          "data": {
            "text/plain": [
              "(1797, 64)"
            ]
          },
          "metadata": {},
          "execution_count": 105
        }
      ]
    },
    {
      "cell_type": "code",
      "source": [
        "print(\"The dimension of train data is:\", data.shape)\n",
        "print(\"The dimension of test data is:\", digits.target.shape)"
      ],
      "metadata": {
        "colab": {
          "base_uri": "https://localhost:8080/"
        },
        "id": "oe2SljALxcXd",
        "outputId": "40d058b6-7cfa-47bc-a936-516470e91dd4"
      },
      "execution_count": 106,
      "outputs": [
        {
          "output_type": "stream",
          "name": "stdout",
          "text": [
            "The dimension of train data is: (1797, 64)\n",
            "The dimension of test data is: (1797,)\n"
          ]
        }
      ]
    },
    {
      "cell_type": "markdown",
      "source": [
        "# Prediction"
      ],
      "metadata": {
        "id": "uqfWlYibxjQG"
      }
    },
    {
      "cell_type": "code",
      "source": [
        "_, axes = plt.subplots(nrows=1, ncols=5, figsize=(10, 3))\n",
        "for ax, image, label in zip(axes, digits.images, digits.target):\n",
        "    ax.set_axis_off()\n",
        "    ax.imshow(image, cmap=plt.cm.gray_r, interpolation=\"nearest\")\n",
        "    ax.set_title(\"Prediction: %i\" % label)"
      ],
      "metadata": {
        "colab": {
          "base_uri": "https://localhost:8080/",
          "height": 143
        },
        "id": "KDLbG0MWxlla",
        "outputId": "4390c4dd-dab8-4acb-9f34-59ba830f6621"
      },
      "execution_count": 107,
      "outputs": [
        {
          "output_type": "display_data",
          "data": {
            "text/plain": [
              "<Figure size 720x216 with 5 Axes>"
            ],
            "image/png": "[encoded data removed]"
          },
          "metadata": {
            "needs_background": "light"
          }
        }
      ]
    },
    {
      "cell_type": "markdown",
      "source": [
        "# Part 1"
      ],
      "metadata": {
        "id": "_N4zYL4id5Yt"
      }
    },
    {
      "cell_type": "markdown",
      "source": [
        "# Model 1: Decision Tree Classifier"
      ],
      "metadata": {
        "id": "-exIvMy1cZ1p"
      }
    },
    {
      "cell_type": "code",
      "source": [
        "from sklearn.tree import DecisionTreeClassifier\n",
        "from sklearn.metrics import accuracy_score"
      ],
      "metadata": {
        "id": "Rj-yRcLpciMj"
      },
      "execution_count": 108,
      "outputs": []
    },
    {
      "cell_type": "markdown",
      "source": [
        "# Split data into 70% train and 30% test subsets"
      ],
      "metadata": {
        "id": "yW4-Yc2qzbSK"
      }
    },
    {
      "cell_type": "code",
      "source": [
        "X_train, X_test, y_train, y_test = train_test_split(data, digits.target, test_size=0.3, shuffle=False, random_state = 42)"
      ],
      "metadata": {
        "id": "LPq474gjcqfO"
      },
      "execution_count": 109,
      "outputs": []
    },
    {
      "cell_type": "code",
      "source": [
        "#Model"
      ],
      "metadata": {
        "id": "KdOsu3M3z5f1"
      },
      "execution_count": 110,
      "outputs": []
    },
    {
      "cell_type": "code",
      "source": [
        "DTC = DecisionTreeClassifier(random_state = 42)\n",
        "fit_model = DTC.fit(X_train, y_train)\n",
        "predicted = DTC.predict(X_test)"
      ],
      "metadata": {
        "id": "eMa4fWpPdBTj"
      },
      "execution_count": 111,
      "outputs": []
    },
    {
      "cell_type": "code",
      "source": [
        "_, axes = plt.subplots(nrows=1, ncols=5, figsize=(10, 3))\n",
        "for ax, image, label in zip(axes, digits.images, predicted):\n",
        "    ax.set_axis_off()\n",
        "    ax.imshow(image, cmap=plt.cm.gray_r, interpolation=\"nearest\")\n",
        "    ax.set_title(\"Prediction: %i\" % label)"
      ],
      "metadata": {
        "colab": {
          "base_uri": "https://localhost:8080/",
          "height": 143
        },
        "id": "oUxV1pfFz_ZP",
        "outputId": "3b75eb64-ffb4-4685-919e-1ad56c10f9f8"
      },
      "execution_count": 112,
      "outputs": [
        {
          "output_type": "display_data",
          "data": {
            "text/plain": [
              "<Figure size 720x216 with 5 Axes>"
            ],
            "image/png": "[encoded data removed]"
          },
          "metadata": {
            "needs_background": "light"
          }
        }
      ]
    },
    {
      "cell_type": "markdown",
      "source": [
        "# Classification report, confusion matrix, Plot"
      ],
      "metadata": {
        "id": "djn-RbnJ0N25"
      }
    },
    {
      "cell_type": "code",
      "source": [
        "confusion_matrix = confusion_matrix(y_test, predicted)\n",
        "\n",
        "print(confusion_matrix)\n",
        "\n",
        "plt.matshow(confusion_matrix)\n",
        "\n",
        "plt.show()"
      ],
      "metadata": {
        "colab": {
          "base_uri": "https://localhost:8080/",
          "height": 454
        },
        "id": "zKjVXRUp0TnX",
        "outputId": "1f9dee9f-c9dd-4c17-a7b0-259495b8639d"
      },
      "execution_count": 113,
      "outputs": [
        {
          "output_type": "stream",
          "name": "stdout",
          "text": [
            "[[46  0  3  0  0  0  0  0  1  3]\n",
            " [ 0 38  0  5  3  0  1  2  1  3]\n",
            " [ 2  2 35  5  0  0  3  0  5  1]\n",
            " [ 0  1  4 37  1  4  0  1  2  3]\n",
            " [ 2  0  1  0 47  0  2  4  0  1]\n",
            " [ 2  0  1  2  0 47  4  0  0  0]\n",
            " [ 0  1  0  0  4  0 43  0  0  6]\n",
            " [ 0  0  0  0  2  1  0 50  0  1]\n",
            " [ 0  5  2  3  3  3  0  1 32  3]\n",
            " [ 1  1  0  1  1  3  0  0  1 47]]\n"
          ]
        },
        {
          "output_type": "display_data",
          "data": {
            "text/plain": [
              "<Figure size 288x288 with 1 Axes>"
            ],
            "image/png": "[encoded data removed]"
          },
          "metadata": {
            "needs_background": "light"
          }
        }
      ]
    },
    {
      "cell_type": "code",
      "source": [
        "print(classification_report(y_test, predicted))\n",
        "\n",
        "print(\"Accuracy\", metrics.accuracy_score(y_test, predicted))"
      ],
      "metadata": {
        "colab": {
          "base_uri": "https://localhost:8080/"
        },
        "id": "i-Gw4VVP0Vzl",
        "outputId": "caabd8f5-5677-4e41-987b-1399156fc13d"
      },
      "execution_count": 114,
      "outputs": [
        {
          "output_type": "stream",
          "name": "stdout",
          "text": [
            "              precision    recall  f1-score   support\n",
            "\n",
            "           0       0.87      0.87      0.87        53\n",
            "           1       0.79      0.72      0.75        53\n",
            "           2       0.76      0.66      0.71        53\n",
            "           3       0.70      0.70      0.70        53\n",
            "           4       0.77      0.82      0.80        57\n",
            "           5       0.81      0.84      0.82        56\n",
            "           6       0.81      0.80      0.80        54\n",
            "           7       0.86      0.93      0.89        54\n",
            "           8       0.76      0.62      0.68        52\n",
            "           9       0.69      0.85      0.76        55\n",
            "\n",
            "    accuracy                           0.78       540\n",
            "   macro avg       0.78      0.78      0.78       540\n",
            "weighted avg       0.78      0.78      0.78       540\n",
            "\n",
            "Accuracy 0.7814814814814814\n"
          ]
        }
      ]
    },
    {
      "cell_type": "markdown",
      "source": [
        "# Using GridsearchCV to get the Optimum value"
      ],
      "metadata": {
        "id": "-gboOpdNAdyR"
      }
    },
    {
      "cell_type": "code",
      "source": [
        "p_gridDTC = {'min_samples_split' : range(10,500,20),\n",
        "                'max_depth': range(1,20,2),\n",
        "                 'criterion' : ['gini', 'entropy']}\n",
        "grid_DTC = GridSearchCV(DTC, param_grid = p_gridDTC, refit=True,verbose=2,n_jobs=-1)\n",
        "\n",
        "p_gridDTC_fit = grid_DTC.fit(X_train, y_train)\n",
        "\n",
        "print(\"Optimum value of Max depth and min sample split for Decision Tree: \", grid_DTC.best_params_)\n",
        "\n",
        "scores_trainDTC = grid_DTC.cv_results_['mean_test_score'];"
      ],
      "metadata": {
        "colab": {
          "base_uri": "https://localhost:8080/"
        },
        "id": "G4SXvOvb1VyS",
        "outputId": "52358732-065f-4874-d7ed-a7af2a8fced9"
      },
      "execution_count": 115,
      "outputs": [
        {
          "output_type": "stream",
          "name": "stdout",
          "text": [
            "Fitting 5 folds for each of 500 candidates, totalling 2500 fits\n",
            "Optimum value of Max depth and min sample split for Decision Tree:  {'criterion': 'gini', 'max_depth': 15, 'min_samples_split': 10}\n"
          ]
        }
      ]
    },
    {
      "cell_type": "markdown",
      "source": [
        "# Using best parameter to get the testing dataset with tuning"
      ],
      "metadata": {
        "id": "EqAP91Yx1f2F"
      }
    },
    {
      "cell_type": "code",
      "source": [
        "clf_DTC = DecisionTreeClassifier(criterion ='gini', max_depth = 15,min_samples_split = 10, random_state = 42)\n",
        "\n",
        "clf3 = clf_DTC.fit(X_train,y_train)\n",
        "\n",
        "yDTC_test_hat=clf3.predict(X_test) \n",
        "\n",
        "testDTC_accuracy=accuracy_score(y_test, yDTC_test_hat)*100"
      ],
      "metadata": {
        "id": "Aj-hHHtS1ZoN"
      },
      "execution_count": 116,
      "outputs": []
    },
    {
      "cell_type": "code",
      "source": [
        "print(\"Accuracy of DTC for our testing dataset with tuning is : {:.2f}%\".format(testDTC_accuracy))"
      ],
      "metadata": {
        "colab": {
          "base_uri": "https://localhost:8080/"
        },
        "id": "Yew1CLlU1mXX",
        "outputId": "93934826-ba40-4956-e9c9-37fdf3c73634"
      },
      "execution_count": 117,
      "outputs": [
        {
          "output_type": "stream",
          "name": "stdout",
          "text": [
            "Accuracy of DTC for our testing dataset with tuning is : 77.04%\n"
          ]
        }
      ]
    },
    {
      "cell_type": "markdown",
      "source": [
        "# Cross Validate to evaluate the performance"
      ],
      "metadata": {
        "id": "VL8eIF3616tf"
      }
    },
    {
      "cell_type": "code",
      "source": [
        "from sklearn import metrics\n",
        "\n",
        "DTC2 = DecisionTreeClassifier()\n",
        "\n",
        "DTC_score = cross_val_score(clf_DTC, data, digits.target, cv=5)"
      ],
      "metadata": {
        "id": "S8ftFtlV16Jx"
      },
      "execution_count": 118,
      "outputs": []
    },
    {
      "cell_type": "code",
      "source": [
        "print(\"The test accuracy is: \",DTC_score)"
      ],
      "metadata": {
        "colab": {
          "base_uri": "https://localhost:8080/"
        },
        "id": "D5coF6EH14xI",
        "outputId": "20d731f4-26d6-488d-f786-54dac060c2f2"
      },
      "execution_count": 119,
      "outputs": [
        {
          "output_type": "stream",
          "name": "stdout",
          "text": [
            "The test accuracy is:  [0.74166667 0.675      0.80501393 0.83286908 0.78272981]\n"
          ]
        }
      ]
    },
    {
      "cell_type": "markdown",
      "source": [
        "# Accuracy with standard deviation and mean"
      ],
      "metadata": {
        "id": "ZfEPkjP92g50"
      }
    },
    {
      "cell_type": "code",
      "source": [
        "print(\"%0.2f accuracy with a standard deviation of %0.2f\" % (DTC_score.mean(), DTC_score.std()))"
      ],
      "metadata": {
        "colab": {
          "base_uri": "https://localhost:8080/"
        },
        "id": "htg_h18h2YBs",
        "outputId": "5c4e9389-c323-4e0c-b0be-83e40f25a74e"
      },
      "execution_count": 120,
      "outputs": [
        {
          "output_type": "stream",
          "name": "stdout",
          "text": [
            "0.77 accuracy with a standard deviation of 0.06\n"
          ]
        }
      ]
    },
    {
      "cell_type": "code",
      "source": [
        "clf_DTC.fit(X_train, y_train)\n",
        "y_preds_DTC = clf_DTC.predict(X_test)\n",
        "\n",
        "print(y_preds[:15])\n",
        "print(y_test[:15])\n",
        "\n",
        "print('Test Accuracy : %.3f'%(y_preds == y_test).mean() )\n",
        "print('Test Accuracy : %.3f'%clf_DTC.score(X_test, y_test))\n",
        "print('Training Accuracy : %.3f'%clf_DTC.score(X_train, y_train));"
      ],
      "metadata": {
        "colab": {
          "base_uri": "https://localhost:8080/"
        },
        "id": "lWcMNiiP2nHz",
        "outputId": "c5ad88d2-4d84-487a-872e-35a41a5a4ba6"
      },
      "execution_count": 227,
      "outputs": [
        {
          "output_type": "stream",
          "name": "stdout",
          "text": [
            "[4 0 5 3 6 9 6 1 7 5 4 4 7 2 8]\n",
            "[4 0 5 3 6 9 6 1 7 5 4 4 7 2 8]\n",
            "Test Accuracy : 0.926\n",
            "Test Accuracy : 0.770\n",
            "Training Accuracy : 0.945\n"
          ]
        }
      ]
    },
    {
      "cell_type": "code",
      "source": [
        "plt.figure(3)\n",
        "plt.plot(scores_trainDTC,color='b')\n",
        "plt.plot(DTC_score, color='r')\n",
        "plt.xlabel('Trails')\n",
        "plt.ylabel('Cross Validation Accuracy')\n",
        "plt.show()"
      ],
      "metadata": {
        "colab": {
          "base_uri": "https://localhost:8080/",
          "height": 279
        },
        "id": "f86Ojvbpir0J",
        "outputId": "54e18d74-55b1-4e70-ba78-d52080da2298"
      },
      "execution_count": 122,
      "outputs": [
        {
          "output_type": "display_data",
          "data": {
            "text/plain": [
              "<Figure size 432x288 with 1 Axes>"
            ],
            "image/png": "[encoded data removed]"
          },
          "metadata": {
            "needs_background": "light"
          }
        }
      ]
    },
    {
      "cell_type": "markdown",
      "source": [
        "# Part 2\n",
        "# Model 2: Ensemble of Trees: \n",
        "## Use Bagging Classifier as a method estimator"
      ],
      "metadata": {
        "id": "ZTpgmEGAzOua"
      }
    },
    {
      "cell_type": "code",
      "source": [
        "#Model\n",
        "bag_model = BaggingClassifier(random_state=1, n_jobs=-1)\n",
        "fit_bag_model = bag_model.fit(X_train, y_train)\n",
        "predicted_bag = bag_model.predict(X_test)\n"
      ],
      "metadata": {
        "id": "YZFyvk5P7xC0"
      },
      "execution_count": 123,
      "outputs": []
    },
    {
      "cell_type": "code",
      "source": [
        "_, axes = plt.subplots(nrows=1, ncols=5, figsize=(10, 3))\n",
        "for ax, image, label in zip(axes, digits.images, predicted_bag):\n",
        "    ax.set_axis_off()\n",
        "    ax.imshow(image, cmap=plt.cm.gray_r, interpolation=\"nearest\")\n",
        "    ax.set_title(\"Prediction: %i\" % label)"
      ],
      "metadata": {
        "colab": {
          "base_uri": "https://localhost:8080/",
          "height": 143
        },
        "id": "MnZmEl2c7t93",
        "outputId": "433f0a62-5e4c-4604-ac6e-7442ae2a549a"
      },
      "execution_count": 124,
      "outputs": [
        {
          "output_type": "display_data",
          "data": {
            "text/plain": [
              "<Figure size 720x216 with 5 Axes>"
            ],
            "image/png": "[encoded data removed]"
          },
          "metadata": {
            "needs_background": "light"
          }
        }
      ]
    },
    {
      "cell_type": "markdown",
      "source": [
        "# Classification report, confusion matrix, Plot"
      ],
      "metadata": {
        "id": "foISQAQE8Q3o"
      }
    },
    {
      "cell_type": "code",
      "source": [
        "import numpy as np\n",
        "from sklearn.metrics import confusion_matrix\n",
        "\n",
        "confusion_matrix_bag = confusion_matrix(y_test, predicted_bag)\n",
        "\n",
        "print(confusion_matrix_bag)\n",
        "\n",
        "plt.matshow(confusion_matrix_bag)\n",
        "\n",
        "plt.show()"
      ],
      "metadata": {
        "colab": {
          "base_uri": "https://localhost:8080/",
          "height": 454
        },
        "id": "yRysxreB8ORa",
        "outputId": "d0918886-8f25-46c9-8381-f7f28f1d2c1a"
      },
      "execution_count": 128,
      "outputs": [
        {
          "output_type": "stream",
          "name": "stdout",
          "text": [
            "[[51  0  0  0  0  0  0  0  2  0]\n",
            " [ 0 44  0  3  1  0  0  1  0  4]\n",
            " [ 2  1 40  6  0  0  0  2  1  1]\n",
            " [ 0  1  4 38  0  2  0  2  6  0]\n",
            " [ 2  0  0  0 50  1  2  2  0  0]\n",
            " [ 0  0  0  0  0 55  1  0  0  0]\n",
            " [ 0  1  0  0  0  0 53  0  0  0]\n",
            " [ 0  0  0  0  1  0  0 53  0  0]\n",
            " [ 1  6  0  0  1  1  0  1 41  1]\n",
            " [ 2  0  0  2  0  1  0  1  1 48]]\n"
          ]
        },
        {
          "output_type": "display_data",
          "data": {
            "text/plain": [
              "<Figure size 288x288 with 1 Axes>"
            ],
            "image/png": "[encoded data removed]"
          },
          "metadata": {
            "needs_background": "light"
          }
        }
      ]
    },
    {
      "cell_type": "code",
      "source": [
        "print(classification_report(y_test, predicted_bag))\n",
        "\n",
        "print(\"Accuracy\", metrics.accuracy_score(y_test, predicted_bag))"
      ],
      "metadata": {
        "colab": {
          "base_uri": "https://localhost:8080/"
        },
        "id": "GL7J7fCI8f8N",
        "outputId": "4e6d3819-4af2-4332-933a-2ced758923d0"
      },
      "execution_count": 129,
      "outputs": [
        {
          "output_type": "stream",
          "name": "stdout",
          "text": [
            "              precision    recall  f1-score   support\n",
            "\n",
            "           0       0.88      0.96      0.92        53\n",
            "           1       0.83      0.83      0.83        53\n",
            "           2       0.91      0.75      0.82        53\n",
            "           3       0.78      0.72      0.75        53\n",
            "           4       0.94      0.88      0.91        57\n",
            "           5       0.92      0.98      0.95        56\n",
            "           6       0.95      0.98      0.96        54\n",
            "           7       0.85      0.98      0.91        54\n",
            "           8       0.80      0.79      0.80        52\n",
            "           9       0.89      0.87      0.88        55\n",
            "\n",
            "    accuracy                           0.88       540\n",
            "   macro avg       0.87      0.87      0.87       540\n",
            "weighted avg       0.88      0.88      0.87       540\n",
            "\n",
            "Accuracy 0.8759259259259259\n"
          ]
        }
      ]
    },
    {
      "cell_type": "code",
      "source": [
        "n_samples = data.shape[0]\n",
        "n_features = data.shape[1]\n",
        "\n",
        "\n",
        "params = {'base_estimator': [None, KNeighborsClassifier(), DecisionTreeClassifier()],\n",
        "          'n_estimators': [20,50,100],\n",
        "          'max_samples': [0.5, 1.0, n_samples//2,],\n",
        "          'max_features': [0.5, 1.0, n_features//2,],\n",
        "          'bootstrap': [True, False],\n",
        "          'bootstrap_features': [True, False]}\n",
        "\n",
        "bagging_classifier_grid = GridSearchCV(bag_model, param_grid =params, cv = 3, n_jobs=-1, verbose=2)\n",
        "\n",
        "bagging_classifier_grid.fit(X_train, y_train);\n",
        "\n",
        "scores_trainbag = bagging_classifier_grid.cv_results_['mean_test_score']"
      ],
      "metadata": {
        "colab": {
          "base_uri": "https://localhost:8080/"
        },
        "id": "bqHnrzrv4Ue4",
        "outputId": "d23dafa9-ecfb-4d0d-924a-2550cdafddd3"
      },
      "execution_count": 130,
      "outputs": [
        {
          "output_type": "stream",
          "name": "stdout",
          "text": [
            "Fitting 3 folds for each of 324 candidates, totalling 972 fits\n"
          ]
        }
      ]
    },
    {
      "cell_type": "code",
      "source": [
        "bagging_classifier_grid.best_params_"
      ],
      "metadata": {
        "colab": {
          "base_uri": "https://localhost:8080/"
        },
        "id": "Pw3ghHrH4lsJ",
        "outputId": "5cff0daf-f81d-48e6-e37e-e2c0deff169a"
      },
      "execution_count": 131,
      "outputs": [
        {
          "output_type": "execute_result",
          "data": {
            "text/plain": [
              "{'base_estimator': KNeighborsClassifier(),\n",
              " 'bootstrap': True,\n",
              " 'bootstrap_features': False,\n",
              " 'max_features': 0.5,\n",
              " 'max_samples': 1.0,\n",
              " 'n_estimators': 100}"
            ]
          },
          "metadata": {},
          "execution_count": 131
        }
      ]
    },
    {
      "cell_type": "markdown",
      "source": [
        "# Cross Validation to get the nested score"
      ],
      "metadata": {
        "id": "ro0ZN8HB5Sdq"
      }
    },
    {
      "cell_type": "code",
      "source": [
        "bag_model2 = BaggingClassifier(KNeighborsClassifier(), bootstrap = True, \n",
        "                             bootstrap_features = False, max_features = 0.5,max_samples = 1.0, n_estimators = 100)\n",
        "bag_score = cross_val_score(bag_model2, data, digits.target, cv = 5, n_jobs = -1)"
      ],
      "metadata": {
        "id": "iGPhpakF5RJm"
      },
      "execution_count": 132,
      "outputs": []
    },
    {
      "cell_type": "code",
      "source": [
        "print(\"The test accuracy is: \",bag_score)"
      ],
      "metadata": {
        "colab": {
          "base_uri": "https://localhost:8080/"
        },
        "id": "i2FpBLa65tp-",
        "outputId": "87459f73-33fb-4893-efb3-d71b69ff1b42"
      },
      "execution_count": 133,
      "outputs": [
        {
          "output_type": "stream",
          "name": "stdout",
          "text": [
            "The test accuracy is:  [0.94722222 0.95555556 0.97214485 0.98050139 0.95821727]\n"
          ]
        }
      ]
    },
    {
      "cell_type": "markdown",
      "source": [
        "# Accuracy with sd and mean"
      ],
      "metadata": {
        "id": "-j1Sdzo05vV5"
      }
    },
    {
      "cell_type": "code",
      "source": [
        "print(\"%0.2f accuracy with a standard deviation of %0.2f\" % (bag_score.mean(), bag_score.std()))"
      ],
      "metadata": {
        "colab": {
          "base_uri": "https://localhost:8080/"
        },
        "id": "R0QtriPN52p0",
        "outputId": "c5b6980d-129e-4a08-9bda-050d1d92b844"
      },
      "execution_count": 134,
      "outputs": [
        {
          "output_type": "stream",
          "name": "stdout",
          "text": [
            "0.96 accuracy with a standard deviation of 0.01\n"
          ]
        }
      ]
    },
    {
      "cell_type": "code",
      "source": [
        "# Training and Testing Accuracy"
      ],
      "metadata": {
        "id": "x0hc_rZM5-Ti"
      },
      "execution_count": 135,
      "outputs": []
    },
    {
      "cell_type": "code",
      "source": [
        "bag_model2.fit(X_train, y_train)\n",
        "y_preds_bag = bag_model2.predict(X_test)\n",
        "\n",
        "print(y_preds[:15])\n",
        "print(y_test[:15])\n",
        "\n",
        "print('Test Accuracy : %.3f'%(y_preds == y_test).mean() )\n",
        "print('Test Accuracy : %.3f'%bag_model2.score(X_test, y_test))\n",
        "print('Training Accuracy : %.3f'%bag_model2.score(X_train, y_train));"
      ],
      "metadata": {
        "colab": {
          "base_uri": "https://localhost:8080/"
        },
        "id": "cu8xBjHw6CYx",
        "outputId": "2a5fcc8f-d105-4891-cd21-dd44a32f0832"
      },
      "execution_count": 226,
      "outputs": [
        {
          "output_type": "stream",
          "name": "stdout",
          "text": [
            "[4 0 5 3 6 9 6 1 7 5 4 4 7 2 8]\n",
            "[4 0 5 3 6 9 6 1 7 5 4 4 7 2 8]\n",
            "Test Accuracy : 0.926\n",
            "Test Accuracy : 0.963\n",
            "Training Accuracy : 0.995\n"
          ]
        }
      ]
    },
    {
      "cell_type": "markdown",
      "source": [
        "# Model: 3 Random Forest"
      ],
      "metadata": {
        "id": "jNVUpIWy-xK-"
      }
    },
    {
      "cell_type": "code",
      "source": [
        "#Model\n",
        "rf_model = RandomForestClassifier(random_state = 12)\n",
        "fit_rf_model = rf_model.fit(X_train, y_train)\n",
        "predicted_rf = rf_model.predict(X_test)\n"
      ],
      "metadata": {
        "id": "C7xrsngI-73J"
      },
      "execution_count": 137,
      "outputs": []
    },
    {
      "cell_type": "code",
      "source": [
        "_, axes = plt.subplots(nrows=1, ncols=5, figsize=(10, 3))\n",
        "for ax, image, label in zip(axes, digits.images, predicted_rf):\n",
        "    ax.set_axis_off()\n",
        "    ax.imshow(image, cmap=plt.cm.gray_r, interpolation=\"nearest\")\n",
        "    ax.set_title(\"Prediction: %i\" % label)"
      ],
      "metadata": {
        "colab": {
          "base_uri": "https://localhost:8080/",
          "height": 143
        },
        "id": "-rTi2ANc6LpL",
        "outputId": "4b7aa2cb-cbd1-45c7-e81b-75ca0cd33511"
      },
      "execution_count": 138,
      "outputs": [
        {
          "output_type": "display_data",
          "data": {
            "text/plain": [
              "<Figure size 720x216 with 5 Axes>"
            ],
            "image/png": "[encoded data removed]"
          },
          "metadata": {
            "needs_background": "light"
          }
        }
      ]
    },
    {
      "cell_type": "markdown",
      "source": [
        "# Classification report, confusion matrix, Plot"
      ],
      "metadata": {
        "id": "cgLFwzmj_zGU"
      }
    },
    {
      "cell_type": "code",
      "source": [
        "import numpy as np\n",
        "\n",
        "confusion_matrix_rf = confusion_matrix(y_test, predicted_rf)\n",
        "\n",
        "print(confusion_matrix_rf)\n",
        "\n",
        "plt.matshow(confusion_matrix_rf)\n",
        "\n",
        "plt.show()"
      ],
      "metadata": {
        "colab": {
          "base_uri": "https://localhost:8080/",
          "height": 454
        },
        "id": "TvAUOW0V_2xW",
        "outputId": "51347137-9665-4a18-d19f-285c3fa9b47e"
      },
      "execution_count": 139,
      "outputs": [
        {
          "output_type": "stream",
          "name": "stdout",
          "text": [
            "[[52  0  0  0  1  0  0  0  0  0]\n",
            " [ 0 44  0  1  0  1  0  0  0  7]\n",
            " [ 1  1 47  3  0  0  0  0  0  1]\n",
            " [ 0  1  0 43  0  2  0  2  5  0]\n",
            " [ 0  0  0  0 54  0  0  2  0  1]\n",
            " [ 0  0  0  0  0 55  1  0  0  0]\n",
            " [ 0  1  0  0  0  0 53  0  0  0]\n",
            " [ 0  0  0  0  0  0  0 53  1  0]\n",
            " [ 0  2  0  0  1  1  0  1 46  1]\n",
            " [ 0  0  0  1  0  1  0  1  0 52]]\n"
          ]
        },
        {
          "output_type": "display_data",
          "data": {
            "text/plain": [
              "<Figure size 288x288 with 1 Axes>"
            ],
            "image/png": "[encoded data removed]"
          },
          "metadata": {
            "needs_background": "light"
          }
        }
      ]
    },
    {
      "cell_type": "code",
      "source": [
        "print(classification_report(y_test, predicted_bag))\n",
        "\n",
        "print(\"Accuracy\", metrics.accuracy_score(y_test, predicted_rf))"
      ],
      "metadata": {
        "colab": {
          "base_uri": "https://localhost:8080/"
        },
        "id": "fHUWu9OVALPa",
        "outputId": "d29af16d-2198-4ae0-9c8c-007a9ed2e777"
      },
      "execution_count": 140,
      "outputs": [
        {
          "output_type": "stream",
          "name": "stdout",
          "text": [
            "              precision    recall  f1-score   support\n",
            "\n",
            "           0       0.88      0.96      0.92        53\n",
            "           1       0.83      0.83      0.83        53\n",
            "           2       0.91      0.75      0.82        53\n",
            "           3       0.78      0.72      0.75        53\n",
            "           4       0.94      0.88      0.91        57\n",
            "           5       0.92      0.98      0.95        56\n",
            "           6       0.95      0.98      0.96        54\n",
            "           7       0.85      0.98      0.91        54\n",
            "           8       0.80      0.79      0.80        52\n",
            "           9       0.89      0.87      0.88        55\n",
            "\n",
            "    accuracy                           0.88       540\n",
            "   macro avg       0.87      0.87      0.87       540\n",
            "weighted avg       0.88      0.88      0.87       540\n",
            "\n",
            "Accuracy 0.924074074074074\n"
          ]
        }
      ]
    },
    {
      "cell_type": "markdown",
      "source": [
        "# Define Classifier\n",
        "# Using GridsearchCV"
      ],
      "metadata": {
        "id": "COqQUYtIAXDV"
      }
    },
    {
      "cell_type": "code",
      "source": [
        "param_rf = {\"n_estimators\": [10,50,100],\n",
        "              \"max_depth\": [3, None],\n",
        "              \"max_features\": [\"sqrt\"],\n",
        "              \"min_samples_split\": [2,11],\n",
        "              \"min_samples_leaf\": [1,11],\n",
        "              \"bootstrap\": [True, False],\n",
        "              \"criterion\": [\"gini\", \"entropy\"]}\n",
        "\n",
        "rf_classifier_grid = GridSearchCV(rf_model, param_grid = param_rf, cv = 5, n_jobs=-1, verbose=2)\n",
        "\n",
        "rf_classifier_grid.fit(X_train, y_train)\n",
        "\n",
        "scores_trainrf = rf_classifier_grid.cv_results_['mean_test_score'];"
      ],
      "metadata": {
        "colab": {
          "base_uri": "https://localhost:8080/"
        },
        "id": "Fdi9Od9LATcI",
        "outputId": "f060695a-616f-47db-eed7-b7412b319a9f"
      },
      "execution_count": 141,
      "outputs": [
        {
          "output_type": "stream",
          "name": "stdout",
          "text": [
            "Fitting 5 folds for each of 96 candidates, totalling 480 fits\n"
          ]
        }
      ]
    },
    {
      "cell_type": "code",
      "source": [
        "print(\"BAG scores:\",scores_trainrf)"
      ],
      "metadata": {
        "colab": {
          "base_uri": "https://localhost:8080/"
        },
        "id": "DigPQLgQAf-n",
        "outputId": "d3696db2-c556-49f2-cc05-4c30fa321a05"
      },
      "execution_count": 142,
      "outputs": [
        {
          "output_type": "stream",
          "name": "stdout",
          "text": [
            "BAG scores: [0.76368494 0.82018592 0.82256055 0.76211345 0.82257636 0.82415101\n",
            " 0.75575476 0.81700816 0.81698919 0.75575476 0.81700816 0.81698919\n",
            " 0.87113135 0.91408019 0.92284513 0.88306141 0.91012142 0.91567381\n",
            " 0.85524885 0.89420414 0.89658825 0.85524885 0.89420414 0.89658825\n",
            " 0.73904382 0.81227155 0.81701132 0.73904382 0.81227155 0.81701132\n",
            " 0.7398438  0.8114779  0.81621451 0.7398438  0.8114779  0.81621451\n",
            " 0.88863909 0.9188832  0.92126731 0.89421678 0.91410864 0.91967369\n",
            " 0.85759818 0.89817871 0.89259154 0.85759818 0.89817871 0.89259154\n",
            " 0.73508822 0.81703029 0.81462721 0.73508822 0.81464934 0.81542086\n",
            " 0.73508822 0.8154335  0.81462721 0.73508822 0.8154335  0.81462721\n",
            " 0.89420097 0.92523557 0.93081009 0.88782963 0.91805793 0.92204199\n",
            " 0.87032821 0.8957946  0.89499779 0.87032821 0.8957946  0.89499779\n",
            " 0.74225005 0.82103649 0.81383672 0.74225005 0.82103649 0.81383672\n",
            " 0.74225005 0.82023651 0.8130399  0.74225005 0.82023651 0.8130399\n",
            " 0.88783912 0.92285145 0.92762284 0.88069626 0.91252134 0.91808955\n",
            " 0.86473787 0.90453108 0.90772149 0.86473787 0.90453108 0.90772149]\n"
          ]
        }
      ]
    },
    {
      "cell_type": "markdown",
      "source": [
        "# Best Parameter"
      ],
      "metadata": {
        "id": "Eu8amRx9BEKd"
      }
    },
    {
      "cell_type": "code",
      "source": [
        "rf_classifier_grid.best_params_"
      ],
      "metadata": {
        "colab": {
          "base_uri": "https://localhost:8080/"
        },
        "id": "bSGGxmdMAi1H",
        "outputId": "277b7c99-b45f-4709-eeec-1ef7bc808028"
      },
      "execution_count": 143,
      "outputs": [
        {
          "output_type": "execute_result",
          "data": {
            "text/plain": [
              "{'bootstrap': False,\n",
              " 'criterion': 'gini',\n",
              " 'max_depth': None,\n",
              " 'max_features': 'sqrt',\n",
              " 'min_samples_leaf': 1,\n",
              " 'min_samples_split': 2,\n",
              " 'n_estimators': 100}"
            ]
          },
          "metadata": {},
          "execution_count": 143
        }
      ]
    },
    {
      "cell_type": "markdown",
      "source": [
        "# Model with best Parameter\n",
        "# Using Cross Validation to evaluate the performance"
      ],
      "metadata": {
        "id": "vKKdBkvyBCKc"
      }
    },
    {
      "cell_type": "code",
      "source": [
        "rf_model2 = RandomForestClassifier(bootstrap = False, \n",
        "                             criterion = \"gini\", max_depth = None, max_features = \"sqrt\", min_samples_leaf = 1,\n",
        "                                  min_samples_split = 2, n_estimators = 100)\n",
        "\n",
        "rf_score = cross_val_score(rf_model2, data, digits.target, cv = 5, n_jobs = -1)\n",
        "\n"
      ],
      "metadata": {
        "id": "DS_Dmzj9Aufd"
      },
      "execution_count": 144,
      "outputs": []
    },
    {
      "cell_type": "code",
      "source": [
        "print(\"The test accuracy is: \",rf_score)"
      ],
      "metadata": {
        "colab": {
          "base_uri": "https://localhost:8080/"
        },
        "id": "4ml9GwX6BUli",
        "outputId": "f1a03d1a-b99a-496b-a84f-566e4f8cb6ef"
      },
      "execution_count": 145,
      "outputs": [
        {
          "output_type": "stream",
          "name": "stdout",
          "text": [
            "The test accuracy is:  [0.94444444 0.91666667 0.95264624 0.96657382 0.94150418]\n"
          ]
        }
      ]
    },
    {
      "cell_type": "markdown",
      "source": [
        "## Accuracy with sd and mean"
      ],
      "metadata": {
        "id": "PxFLJ52eBW4g"
      }
    },
    {
      "cell_type": "code",
      "source": [
        "print(\"%0.2f accuracy with a standard deviation of %0.2f\" % (bag_score.mean(), bag_score.std()))"
      ],
      "metadata": {
        "colab": {
          "base_uri": "https://localhost:8080/"
        },
        "id": "D-tBM_8PBWUl",
        "outputId": "9bdfcebc-27fa-4f00-e40e-7f1b08e1ea1b"
      },
      "execution_count": 146,
      "outputs": [
        {
          "output_type": "stream",
          "name": "stdout",
          "text": [
            "0.96 accuracy with a standard deviation of 0.01\n"
          ]
        }
      ]
    },
    {
      "cell_type": "markdown",
      "source": [
        "## Training and Testing score"
      ],
      "metadata": {
        "id": "a4B-tpuHBkvH"
      }
    },
    {
      "cell_type": "code",
      "source": [
        "rf_model2.fit(X_train, y_train)\n",
        "y_preds_rf = rf_model2.predict(X_test)\n",
        "\n",
        "print(y_preds[:15])\n",
        "print(y_test[:15])\n",
        "\n",
        "print('Test Accuracy : %.3f'%(y_preds == y_test).mean() )\n",
        "print('Test Accuracy : %.3f'%rf_model2.score(X_test, y_test))\n",
        "print('Training Accuracy : %.3f'%rf_model2.score(X_train, y_train))"
      ],
      "metadata": {
        "colab": {
          "base_uri": "https://localhost:8080/"
        },
        "id": "ku1cxzIEBiJw",
        "outputId": "f26f36ba-e688-45f1-c699-c1971c96743e"
      },
      "execution_count": 228,
      "outputs": [
        {
          "output_type": "stream",
          "name": "stdout",
          "text": [
            "[4 0 5 3 6 9 6 1 7 5 4 4 7 2 8]\n",
            "[4 0 5 3 6 9 6 1 7 5 4 4 7 2 8]\n",
            "Test Accuracy : 0.926\n",
            "Test Accuracy : 0.928\n",
            "Training Accuracy : 1.000\n"
          ]
        }
      ]
    },
    {
      "cell_type": "markdown",
      "source": [
        "# Model: 4 MLP Neural Network\n",
        "- with 1 hidden layer\n",
        "- with 2 hidden layers\n",
        "- with 3 hidden layers"
      ],
      "metadata": {
        "id": "oqi7ipMzBszg"
      }
    },
    {
      "cell_type": "code",
      "source": [
        "mlp_model = MLPClassifier(random_state = 12)\n",
        "fit_mlp_model = mlp_model.fit(X_train, y_train)\n",
        "predicted_mlp = mlp_model.predict(X_test)"
      ],
      "metadata": {
        "id": "XD7hripSCzPz"
      },
      "execution_count": 148,
      "outputs": []
    },
    {
      "cell_type": "code",
      "source": [
        "_, axes = plt.subplots(nrows=1, ncols=5, figsize=(10, 3))\n",
        "for ax, image, label in zip(axes, digits.images, predicted_mlp):\n",
        "    ax.set_axis_off()\n",
        "    ax.imshow(image, cmap=plt.cm.gray_r, interpolation=\"nearest\")\n",
        "    ax.set_title(\"Prediction: %i\" % label)"
      ],
      "metadata": {
        "colab": {
          "base_uri": "https://localhost:8080/",
          "height": 143
        },
        "id": "qAvAIjiHDBAS",
        "outputId": "9b335450-510c-4e71-d946-b662e2e65463"
      },
      "execution_count": 149,
      "outputs": [
        {
          "output_type": "display_data",
          "data": {
            "text/plain": [
              "<Figure size 720x216 with 5 Axes>"
            ],
            "image/png": "[encoded data removed]"
          },
          "metadata": {
            "needs_background": "light"
          }
        }
      ]
    },
    {
      "cell_type": "markdown",
      "source": [
        "# Classification report, confusion matrix, Plot"
      ],
      "metadata": {
        "id": "kJKDeLdeDE1Y"
      }
    },
    {
      "cell_type": "code",
      "source": [
        "import numpy as np\n",
        "\n",
        "confusion_matrix_mlp = confusion_matrix(y_test, predicted_mlp)\n",
        "\n",
        "print(confusion_matrix_mlp)\n",
        "\n",
        "plt.matshow(confusion_matrix_mlp)\n",
        "\n",
        "plt.show()"
      ],
      "metadata": {
        "colab": {
          "base_uri": "https://localhost:8080/",
          "height": 454
        },
        "id": "biTTHDf-DK_D",
        "outputId": "54ceee23-7237-452b-b89e-582a29cecca8"
      },
      "execution_count": 150,
      "outputs": [
        {
          "output_type": "stream",
          "name": "stdout",
          "text": [
            "[[50  0  0  0  1  0  2  0  0  0]\n",
            " [ 1 47  0  2  0  1  0  0  0  2]\n",
            " [ 0  0 51  2  0  0  0  0  0  0]\n",
            " [ 0  0  0 44  0  3  0  0  6  0]\n",
            " [ 1  0  0  0 53  0  0  0  0  3]\n",
            " [ 0  1  0  0  0 54  1  0  0  0]\n",
            " [ 0  0  0  0  0  0 53  0  1  0]\n",
            " [ 0  0  0  0  0  0  0 53  1  0]\n",
            " [ 0  1  0  0  2  2  0  0 47  0]\n",
            " [ 0  0  0  0  0  2  0  2  1 50]]\n"
          ]
        },
        {
          "output_type": "display_data",
          "data": {
            "text/plain": [
              "<Figure size 288x288 with 1 Axes>"
            ],
            "image/png": "[encoded data removed]"
          },
          "metadata": {
            "needs_background": "light"
          }
        }
      ]
    },
    {
      "cell_type": "code",
      "source": [
        "print(classification_report(y_test, predicted_mlp))\n",
        "\n",
        "print(\"Accuracy\", metrics.accuracy_score(y_test, predicted_mlp))"
      ],
      "metadata": {
        "colab": {
          "base_uri": "https://localhost:8080/"
        },
        "id": "cM67qgM1DPCE",
        "outputId": "2ea94b2d-d78b-41d7-e47b-8cffa43a7262"
      },
      "execution_count": 151,
      "outputs": [
        {
          "output_type": "stream",
          "name": "stdout",
          "text": [
            "              precision    recall  f1-score   support\n",
            "\n",
            "           0       0.96      0.94      0.95        53\n",
            "           1       0.96      0.89      0.92        53\n",
            "           2       1.00      0.96      0.98        53\n",
            "           3       0.92      0.83      0.87        53\n",
            "           4       0.95      0.93      0.94        57\n",
            "           5       0.87      0.96      0.92        56\n",
            "           6       0.95      0.98      0.96        54\n",
            "           7       0.96      0.98      0.97        54\n",
            "           8       0.84      0.90      0.87        52\n",
            "           9       0.91      0.91      0.91        55\n",
            "\n",
            "    accuracy                           0.93       540\n",
            "   macro avg       0.93      0.93      0.93       540\n",
            "weighted avg       0.93      0.93      0.93       540\n",
            "\n",
            "Accuracy 0.9296296296296296\n"
          ]
        }
      ]
    },
    {
      "cell_type": "markdown",
      "source": [
        "# Define classifier"
      ],
      "metadata": {
        "id": "vH2HK7s3Drnw"
      }
    },
    {
      "cell_type": "code",
      "source": [
        "param_mlp = {'hidden_layer_sizes': [(150,100,50), (120,80,40), (100,50,30)],\n",
        "             'max_iter': [50, 100, 150],\n",
        "             'activation': ['tanh', 'relu', 'sigmoid'],\n",
        "             'solver': ['sgd', 'adam'],\n",
        "             'alpha': [0.0001, 0.05],\n",
        "             'learning_rate': ['constant','adaptive', 'invscaling']}\n",
        "\n",
        "mlp_classifier_grid = GridSearchCV(mlp_model, param_grid = param_mlp, cv = 5, n_jobs= -1,verbose=2)\n",
        "\n",
        "mlp_classifier_grid.fit(X_train, y_train);\n",
        "\n",
        "scores_trainmlp = mlp_classifier_grid.cv_results_['mean_test_score'];"
      ],
      "metadata": {
        "colab": {
          "base_uri": "https://localhost:8080/"
        },
        "id": "btNO8uOXDot7",
        "outputId": "d1e022fc-9ebe-43a9-d0f9-8197395703ab"
      },
      "execution_count": null,
      "outputs": [
        {
          "output_type": "stream",
          "name": "stdout",
          "text": [
            "Fitting 5 folds for each of 324 candidates, totalling 1620 fits\n"
          ]
        }
      ]
    },
    {
      "cell_type": "code",
      "source": [
        "print(\"MLP scores:\",scores_trainmlp)"
      ],
      "metadata": {
        "id": "QO9XAGOnD2CJ"
      },
      "execution_count": null,
      "outputs": []
    },
    {
      "cell_type": "markdown",
      "source": [
        "# Best Parameter"
      ],
      "metadata": {
        "id": "JLitzL9gEO-h"
      }
    },
    {
      "cell_type": "code",
      "source": [
        "mlp_classifier_grid.best_params_"
      ],
      "metadata": {
        "id": "qNdq1172EBZo"
      },
      "execution_count": null,
      "outputs": []
    },
    {
      "cell_type": "markdown",
      "source": [
        "# Using Cross Validation to evaluate the performance"
      ],
      "metadata": {
        "id": "uhAh2c8kERij"
      }
    },
    {
      "cell_type": "code",
      "source": [
        "mlp_model2 = MLPClassifier(activation = 'relu', \n",
        "                           alpha = 0.05, \n",
        "                           hidden_layer_sizes = (150, 100, 50), \n",
        "                           learning_rate = 'constant',   \n",
        "                           max_iter = 100, \n",
        "                           solver = 'adam')\n",
        "\n",
        "mlp_score = cross_val_score(mlp_model2, data, digits.target, cv = 5, n_jobs = -1)"
      ],
      "metadata": {
        "id": "EFKZE2AvENEw"
      },
      "execution_count": null,
      "outputs": []
    },
    {
      "cell_type": "code",
      "source": [
        "print(\"The test accuracy is: \",mlp_score)"
      ],
      "metadata": {
        "id": "kodNjWJvEbZ1",
        "colab": {
          "base_uri": "https://localhost:8080/"
        },
        "outputId": "be8c4c6a-3acd-47bf-ae88-75996fa386bd"
      },
      "execution_count": 156,
      "outputs": [
        {
          "output_type": "stream",
          "name": "stdout",
          "text": [
            "The test accuracy is:  [0.97222222 0.90555556 0.9637883  0.97771588 0.93871866]\n"
          ]
        }
      ]
    },
    {
      "cell_type": "markdown",
      "source": [
        "# Accuracy with mean and sd"
      ],
      "metadata": {
        "id": "8_OUw6dWEgqB"
      }
    },
    {
      "cell_type": "code",
      "source": [
        "print(\"%0.2f accuracy with a standard deviation of %0.2f\" % (mlp_score.mean(), mlp_score.std()))"
      ],
      "metadata": {
        "id": "iQ1OGbfUEjf4",
        "colab": {
          "base_uri": "https://localhost:8080/"
        },
        "outputId": "5295ec84-952e-479e-f9e7-897a1babd9e2"
      },
      "execution_count": 157,
      "outputs": [
        {
          "output_type": "stream",
          "name": "stdout",
          "text": [
            "0.95 accuracy with a standard deviation of 0.03\n"
          ]
        }
      ]
    },
    {
      "cell_type": "code",
      "source": [
        "mlp_model2.fit(X_train, y_train)\n",
        "y_preds_mlp = mlp_model2.predict(X_test)\n",
        "\n",
        "print(y_preds[:15])\n",
        "print(y_test[:15])\n",
        "\n",
        "print('Test Accuracy : %.3f'%(y_preds == y_test).mean() )\n",
        "print('Test Accuracy : %.3f'%mlp_model2.score(X_test, y_test))\n",
        "print('Training Accuracy : %.3f'%mlp_model2.score(X_train, y_train))"
      ],
      "metadata": {
        "id": "pcRyBVayEkfu",
        "colab": {
          "base_uri": "https://localhost:8080/"
        },
        "outputId": "35bdd7eb-b9eb-427f-8c28-6ea17e0b40c0"
      },
      "execution_count": 229,
      "outputs": [
        {
          "output_type": "stream",
          "name": "stdout",
          "text": [
            "[4 0 5 3 6 9 6 1 7 5 4 4 7 2 8]\n",
            "[4 0 5 3 6 9 6 1 7 5 4 4 7 2 8]\n",
            "Test Accuracy : 0.926\n",
            "Test Accuracy : 0.931\n",
            "Training Accuracy : 1.000\n"
          ]
        }
      ]
    },
    {
      "cell_type": "code",
      "source": [
        "plt.plot(mlp_model2.loss_curve_)\n",
        "plt.title(\"Loss Curve\", fontsize=14)\n",
        "plt.xlabel('Iterations')\n",
        "plt.ylabel('Cost')\n",
        "plt.show()"
      ],
      "metadata": {
        "id": "R2JdQRAFFLd1",
        "colab": {
          "base_uri": "https://localhost:8080/",
          "height": 296
        },
        "outputId": "2765db51-a7e2-4c74-c1de-f53d68030288"
      },
      "execution_count": 159,
      "outputs": [
        {
          "output_type": "display_data",
          "data": {
            "text/plain": [
              "<Figure size 432x288 with 1 Axes>"
            ],
            "image/png": "[encoded data removed]"
          },
          "metadata": {
            "needs_background": "light"
          }
        }
      ]
    },
    {
      "cell_type": "markdown",
      "source": [
        "# MLP matshow"
      ],
      "metadata": {
        "id": "V2ge4ysuF163"
      }
    },
    {
      "cell_type": "code",
      "source": [
        "from sklearn.exceptions import ConvergenceWarning\n",
        "import warnings"
      ],
      "metadata": {
        "id": "jnrd4QpmrJKI"
      },
      "execution_count": 161,
      "outputs": []
    },
    {
      "cell_type": "code",
      "source": [
        "mlp_model2 = MLPClassifier(activation = 'relu', \n",
        "                           alpha = 0.05, \n",
        "                           hidden_layer_sizes = (150, 100, 50), \n",
        "                           learning_rate = 'constant',   \n",
        "                           max_iter = 100, \n",
        "                           solver = 'adam')\n",
        "\n",
        "with warnings.catch_warnings():\n",
        "    warnings.filterwarnings(\"ignore\", category=ConvergenceWarning, module=\"sklearn\")\n",
        "    mlp_model2.fit(X_train, y_train)\n",
        "\n",
        "print(\"Training set score: %f\" % mlp_model2.score(X_train, y_train))\n",
        "print(\"Test set score: %f\" % mlp_model2.score(X_test, y_test))\n",
        "\n",
        "fig, axes = plt.subplots(4, 4)\n",
        "# use global min / max to ensure all weights are shown on the same scale\n",
        "vmin, vmax = mlp_model2.coefs_[0].min(), mlp_model2.coefs_[0].max()\n",
        "for coef, ax in zip(mlp_model2.coefs_[0].T, axes.ravel()):\n",
        "    ax.matshow(coef.reshape(8, 8), cmap=plt.cm.gray, vmin=0.5 * vmin, vmax=0.5 * vmax)\n",
        "    ax.set_xticks(())\n",
        "    ax.set_yticks(())\n",
        "plt.show()"
      ],
      "metadata": {
        "id": "5Uq1YcSZFxdc",
        "colab": {
          "base_uri": "https://localhost:8080/",
          "height": 291
        },
        "outputId": "2282eda8-1985-49ac-8cbf-27f8d33ceda8"
      },
      "execution_count": 162,
      "outputs": [
        {
          "output_type": "stream",
          "name": "stdout",
          "text": [
            "Training set score: 1.000000\n",
            "Test set score: 0.938889\n"
          ]
        },
        {
          "output_type": "display_data",
          "data": {
            "text/plain": [
              "<Figure size 432x288 with 16 Axes>"
            ],
            "image/png": "[encoded data removed]"
          },
          "metadata": {}
        }
      ]
    },
    {
      "cell_type": "markdown",
      "source": [
        "# With the different iteration, acivation functions, learnining rate check for convergency of the model"
      ],
      "metadata": {
        "id": "lza2LfQkErFO"
      }
    },
    {
      "cell_type": "code",
      "source": [
        "classifier = MLPClassifier(\n",
        "    hidden_layer_sizes=(500,),\n",
        "    alpha=1e-4,\n",
        "    solver=\"sgd\",\n",
        "    verbose=10,\n",
        "    random_state=1,\n",
        "    learning_rate_init=0.1,\n",
        ")\n",
        "# fit the model on the training data\n",
        "classifier.fit(X_train, y_train)"
      ],
      "metadata": {
        "id": "LPq64pMkF97Q",
        "colab": {
          "base_uri": "https://localhost:8080/"
        },
        "outputId": "ad351243-59a5-4983-d0b2-d298fa71f9f8"
      },
      "execution_count": 193,
      "outputs": [
        {
          "output_type": "stream",
          "name": "stdout",
          "text": [
            "Iteration 1, loss = 19.17889329\n",
            "Iteration 2, loss = 4.75063039\n",
            "Iteration 3, loss = 9.71732011\n",
            "Iteration 4, loss = 2.20745971\n",
            "Iteration 5, loss = 6.06949054\n",
            "Iteration 6, loss = 2.35546078\n",
            "Iteration 7, loss = 2.34565675\n",
            "Iteration 8, loss = 2.35071939\n",
            "Iteration 9, loss = 2.33103515\n",
            "Iteration 10, loss = 2.32305550\n",
            "Iteration 11, loss = 2.32131421\n",
            "Iteration 12, loss = 2.32113000\n",
            "Iteration 13, loss = 2.32151272\n",
            "Iteration 14, loss = 2.32109878\n",
            "Iteration 15, loss = 2.32049819\n",
            "Training loss did not improve more than tol=0.000100 for 10 consecutive epochs. Stopping.\n"
          ]
        },
        {
          "output_type": "execute_result",
          "data": {
            "text/plain": [
              "MLPClassifier(hidden_layer_sizes=(500,), learning_rate_init=0.1, random_state=1,\n",
              "              solver='sgd', verbose=10)"
            ]
          },
          "metadata": {},
          "execution_count": 193
        }
      ]
    },
    {
      "cell_type": "code",
      "source": [
        "classifier2 = MLPClassifier(\n",
        "    hidden_layer_sizes=(500,500,),\n",
        "    alpha=1e-4,\n",
        "    solver=\"sgd\",\n",
        "    verbose=10,\n",
        "    random_state=1,\n",
        "    learning_rate_init=0.05,\n",
        ")\n",
        "# fit the model on the training data\n",
        "classifier2.fit(X_train, y_train)"
      ],
      "metadata": {
        "id": "UTznXBRdF_VO",
        "colab": {
          "base_uri": "https://localhost:8080/"
        },
        "outputId": "adfda15c-3821-494e-bafe-ba41e2a89f31"
      },
      "execution_count": 194,
      "outputs": [
        {
          "output_type": "stream",
          "name": "stdout",
          "text": [
            "Iteration 1, loss = 11.83493097\n",
            "Iteration 2, loss = 16.69729599\n",
            "Iteration 3, loss = 4.34740154\n",
            "Iteration 4, loss = 2.87288101\n",
            "Iteration 5, loss = 2.34561877\n",
            "Iteration 6, loss = 2.32708013\n",
            "Iteration 7, loss = 2.32007129\n",
            "Iteration 8, loss = 2.32089924\n",
            "Iteration 9, loss = 2.31414694\n",
            "Iteration 10, loss = 2.31228103\n",
            "Iteration 11, loss = 2.27619877\n",
            "Iteration 12, loss = 2.39830351\n",
            "Iteration 13, loss = 2.31623874\n",
            "Iteration 14, loss = 2.31408371\n",
            "Iteration 15, loss = 2.31415023\n",
            "Iteration 16, loss = 2.31415990\n",
            "Iteration 17, loss = 2.31130363\n",
            "Iteration 18, loss = 2.31328018\n",
            "Iteration 19, loss = 2.31188316\n",
            "Iteration 20, loss = 2.31257397\n",
            "Iteration 21, loss = 2.31305679\n",
            "Iteration 22, loss = 2.31194527\n",
            "Training loss did not improve more than tol=0.000100 for 10 consecutive epochs. Stopping.\n"
          ]
        },
        {
          "output_type": "execute_result",
          "data": {
            "text/plain": [
              "MLPClassifier(hidden_layer_sizes=(500, 500), learning_rate_init=0.05,\n",
              "              random_state=1, solver='sgd', verbose=10)"
            ]
          },
          "metadata": {},
          "execution_count": 194
        }
      ]
    },
    {
      "cell_type": "code",
      "source": [
        "classifier3 = MLPClassifier(\n",
        "    hidden_layer_sizes=(500,500,500),\n",
        "    alpha=1e-4,\n",
        "    solver=\"sgd\",\n",
        "    verbose=10,\n",
        "    random_state=1,\n",
        "    learning_rate_init=0.05,\n",
        ")\n",
        "# fit the model on the training data\n",
        "classifier3.fit(X_train, y_train)"
      ],
      "metadata": {
        "colab": {
          "base_uri": "https://localhost:8080/"
        },
        "id": "i6gWrgJtruP1",
        "outputId": "8bfd7f1c-efc8-4545-c937-848ab7363ece"
      },
      "execution_count": 195,
      "outputs": [
        {
          "output_type": "stream",
          "name": "stdout",
          "text": [
            "Iteration 1, loss = 9.85107800\n",
            "Iteration 2, loss = 2.30978040\n",
            "Iteration 3, loss = 8.04687019\n",
            "Iteration 4, loss = 3.01102300\n",
            "Iteration 5, loss = 2.18972636\n",
            "Iteration 6, loss = 2.36383154\n",
            "Iteration 7, loss = 2.31724509\n",
            "Iteration 8, loss = 3.48884124\n",
            "Iteration 9, loss = 2.30518116\n",
            "Iteration 10, loss = 2.37105041\n",
            "Iteration 11, loss = 2.31623347\n",
            "Iteration 12, loss = 2.31331879\n",
            "Iteration 13, loss = 2.30599302\n",
            "Iteration 14, loss = 2.30628516\n",
            "Iteration 15, loss = 2.31206687\n",
            "Iteration 16, loss = 2.30994187\n",
            "Training loss did not improve more than tol=0.000100 for 10 consecutive epochs. Stopping.\n"
          ]
        },
        {
          "output_type": "execute_result",
          "data": {
            "text/plain": [
              "MLPClassifier(hidden_layer_sizes=(500, 500, 500), learning_rate_init=0.05,\n",
              "              random_state=1, solver='sgd', verbose=10)"
            ]
          },
          "metadata": {},
          "execution_count": 195
        }
      ]
    },
    {
      "cell_type": "code",
      "source": [
        "print(\"Training set score: %f\" % classifier.score(X_train, y_train))\n",
        "print(\"Test set score: %f\" % classifier.score(X_test, y_test))"
      ],
      "metadata": {
        "id": "XBG8RkxaGF2K",
        "colab": {
          "base_uri": "https://localhost:8080/"
        },
        "outputId": "d8516690-fffc-4fe2-a84d-40e0a2a2ff21"
      },
      "execution_count": 196,
      "outputs": [
        {
          "output_type": "stream",
          "name": "stdout",
          "text": [
            "Training set score: 0.103421\n",
            "Test set score: 0.098148\n"
          ]
        }
      ]
    },
    {
      "cell_type": "code",
      "source": [
        "print(\"Training set score: %f\" % classifier2.score(X_train, y_train))\n",
        "print(\"Test set score: %f\" % classifier2.score(X_test, y_test))"
      ],
      "metadata": {
        "id": "W4L2XZVtGJYV",
        "colab": {
          "base_uri": "https://localhost:8080/"
        },
        "outputId": "28ffaced-386c-4a2b-dea6-8b9f05275a86"
      },
      "execution_count": 197,
      "outputs": [
        {
          "output_type": "stream",
          "name": "stdout",
          "text": [
            "Training set score: 0.101034\n",
            "Test set score: 0.100000\n"
          ]
        }
      ]
    },
    {
      "cell_type": "code",
      "source": [
        "print(\"Training set score: %f\" % classifier3.score(X_train, y_train))\n",
        "print(\"Test set score: %f\" % classifier3.score(X_test, y_test))"
      ],
      "metadata": {
        "colab": {
          "base_uri": "https://localhost:8080/"
        },
        "id": "KT12_RU6r1SQ",
        "outputId": "051aac5e-a514-4fd6-932f-fc63c5443527"
      },
      "execution_count": 198,
      "outputs": [
        {
          "output_type": "stream",
          "name": "stdout",
          "text": [
            "Training set score: 0.103421\n",
            "Test set score: 0.098148\n"
          ]
        }
      ]
    },
    {
      "cell_type": "code",
      "source": [
        "fig, axes = plt.subplots(1, 1)\n",
        "axes.plot(classifier.loss_curve_, 'o-')\n",
        "axes.set_xlabel(\"number of iteration\")\n",
        "axes.set_ylabel(\"loss\")\n",
        "plt.show()"
      ],
      "metadata": {
        "id": "Ug-k3dAWGJ5q",
        "colab": {
          "base_uri": "https://localhost:8080/",
          "height": 283
        },
        "outputId": "a5246e64-ae55-4fe7-c8d5-cf0898c7143a"
      },
      "execution_count": 199,
      "outputs": [
        {
          "output_type": "display_data",
          "data": {
            "text/plain": [
              "<Figure size 432x288 with 1 Axes>"
            ],
            "image/png": "[encoded data removed]"
          },
          "metadata": {
            "needs_background": "light"
          }
        }
      ]
    },
    {
      "cell_type": "code",
      "source": [
        "fig, axes = plt.subplots(1, 1)\n",
        "axes.plot(classifier2.loss_curve_, 'o-')\n",
        "axes.set_xlabel(\"number of iteration\")\n",
        "axes.set_ylabel(\"loss\")\n",
        "plt.show()"
      ],
      "metadata": {
        "id": "hNL__h04GMyK",
        "colab": {
          "base_uri": "https://localhost:8080/",
          "height": 279
        },
        "outputId": "a7b703be-68a3-4ce0-ea77-189d79b157e2"
      },
      "execution_count": 200,
      "outputs": [
        {
          "output_type": "display_data",
          "data": {
            "text/plain": [
              "<Figure size 432x288 with 1 Axes>"
            ],
            "image/png": "[encoded data removed]"
          },
          "metadata": {
            "needs_background": "light"
          }
        }
      ]
    },
    {
      "cell_type": "code",
      "source": [
        "fig, axes = plt.subplots(1, 1)\n",
        "axes.plot(classifier3.loss_curve_, 'o-')\n",
        "axes.set_xlabel(\"number of iteration\")\n",
        "axes.set_ylabel(\"loss\")\n",
        "plt.show()"
      ],
      "metadata": {
        "colab": {
          "base_uri": "https://localhost:8080/",
          "height": 279
        },
        "id": "dDw3DJgAuZIy",
        "outputId": "2980fbf4-76ce-490b-f811-16f6c675ea08"
      },
      "execution_count": 201,
      "outputs": [
        {
          "output_type": "display_data",
          "data": {
            "text/plain": [
              "<Figure size 432x288 with 1 Axes>"
            ],
            "image/png": "[encoded data removed]"
          },
          "metadata": {
            "needs_background": "light"
          }
        }
      ]
    },
    {
      "cell_type": "code",
      "source": [],
      "metadata": {
        "id": "eqTw5qzsuly6"
      },
      "execution_count": 202,
      "outputs": []
    },
    {
      "cell_type": "markdown",
      "source": [
        "# Part 2\n",
        "Split a small amount of data off from the main training set for validation. For each classifier, find which label is predicted with the highest confidence over the validation set and plot the image and its predicted class."
      ],
      "metadata": {
        "id": "_Vl1blriGbMl"
      }
    },
    {
      "cell_type": "code",
      "source": [
        "from keras.models import Sequential\n",
        "from keras.layers import Dense, Activation\n",
        "\n",
        "mpl1 = Sequential()\n",
        "mpl1.add(Dense(10, input_shape=(64,), activation=\"sigmoid\"))\n",
        "\n",
        "mpl1.compile(loss='sparse_categorical_crossentropy', \n",
        "              optimizer='sgd',\n",
        "              metrics=['accuracy'])\n",
        "\n",
        "mpl1.summary()"
      ],
      "metadata": {
        "id": "FT3CBpmVGhGK",
        "colab": {
          "base_uri": "https://localhost:8080/"
        },
        "outputId": "cc48a443-0876-464a-d0bb-8390de0f61cd"
      },
      "execution_count": 206,
      "outputs": [
        {
          "output_type": "stream",
          "name": "stdout",
          "text": [
            "Model: \"sequential_3\"\n",
            "_________________________________________________________________\n",
            " Layer (type)                Output Shape              Param #   \n",
            "=================================================================\n",
            " dense_3 (Dense)             (None, 10)                650       \n",
            "                                                                 \n",
            "=================================================================\n",
            "Total params: 650\n",
            "Trainable params: 650\n",
            "Non-trainable params: 0\n",
            "_________________________________________________________________\n"
          ]
        }
      ]
    },
    {
      "cell_type": "code",
      "source": [
        "history = mpl1.fit(X_train, y_train, validation_split=0.1, epochs=50)"
      ],
      "metadata": {
        "colab": {
          "base_uri": "https://localhost:8080/"
        },
        "id": "bIS9arYxwHfi",
        "outputId": "0788f8fd-9fd6-4bec-db81-9b01fad309b5"
      },
      "execution_count": 207,
      "outputs": [
        {
          "output_type": "stream",
          "name": "stdout",
          "text": [
            "Epoch 1/50\n",
            "36/36 [==============================] - 1s 7ms/step - loss: 3.8975 - accuracy: 0.4253 - val_loss: 1.2426 - val_accuracy: 0.6825\n",
            "Epoch 2/50\n",
            "36/36 [==============================] - 0s 3ms/step - loss: 0.6927 - accuracy: 0.8134 - val_loss: 0.4460 - val_accuracy: 0.8730\n",
            "Epoch 3/50\n",
            "36/36 [==============================] - 0s 3ms/step - loss: 0.3472 - accuracy: 0.8966 - val_loss: 0.3990 - val_accuracy: 0.8889\n",
            "Epoch 4/50\n",
            "36/36 [==============================] - 0s 3ms/step - loss: 0.2738 - accuracy: 0.9169 - val_loss: 0.2870 - val_accuracy: 0.9127\n",
            "Epoch 5/50\n",
            "36/36 [==============================] - 0s 2ms/step - loss: 0.2180 - accuracy: 0.9372 - val_loss: 0.3938 - val_accuracy: 0.8968\n",
            "Epoch 6/50\n",
            "36/36 [==============================] - 0s 2ms/step - loss: 0.1871 - accuracy: 0.9425 - val_loss: 0.2669 - val_accuracy: 0.8968\n",
            "Epoch 7/50\n",
            "36/36 [==============================] - 0s 2ms/step - loss: 0.1463 - accuracy: 0.9567 - val_loss: 0.2470 - val_accuracy: 0.9206\n",
            "Epoch 8/50\n",
            "36/36 [==============================] - 0s 2ms/step - loss: 0.1265 - accuracy: 0.9637 - val_loss: 0.2495 - val_accuracy: 0.9206\n",
            "Epoch 9/50\n",
            "36/36 [==============================] - 0s 3ms/step - loss: 0.1194 - accuracy: 0.9593 - val_loss: 0.2839 - val_accuracy: 0.9048\n",
            "Epoch 10/50\n",
            "36/36 [==============================] - 0s 2ms/step - loss: 0.1079 - accuracy: 0.9646 - val_loss: 0.2615 - val_accuracy: 0.8889\n",
            "Epoch 11/50\n",
            "36/36 [==============================] - 0s 2ms/step - loss: 0.0979 - accuracy: 0.9646 - val_loss: 0.2827 - val_accuracy: 0.9048\n",
            "Epoch 12/50\n",
            "36/36 [==============================] - 0s 4ms/step - loss: 0.0885 - accuracy: 0.9699 - val_loss: 0.3315 - val_accuracy: 0.8968\n",
            "Epoch 13/50\n",
            "36/36 [==============================] - 0s 2ms/step - loss: 0.0859 - accuracy: 0.9691 - val_loss: 0.2768 - val_accuracy: 0.8968\n",
            "Epoch 14/50\n",
            "36/36 [==============================] - 0s 2ms/step - loss: 0.0756 - accuracy: 0.9761 - val_loss: 0.3458 - val_accuracy: 0.8968\n",
            "Epoch 15/50\n",
            "36/36 [==============================] - 0s 3ms/step - loss: 0.0820 - accuracy: 0.9735 - val_loss: 0.2668 - val_accuracy: 0.9365\n",
            "Epoch 16/50\n",
            "36/36 [==============================] - 0s 3ms/step - loss: 0.0705 - accuracy: 0.9779 - val_loss: 0.2677 - val_accuracy: 0.9206\n",
            "Epoch 17/50\n",
            "36/36 [==============================] - 0s 3ms/step - loss: 0.0623 - accuracy: 0.9850 - val_loss: 0.2495 - val_accuracy: 0.9286\n",
            "Epoch 18/50\n",
            "36/36 [==============================] - 0s 3ms/step - loss: 0.0592 - accuracy: 0.9823 - val_loss: 0.4039 - val_accuracy: 0.8651\n",
            "Epoch 19/50\n",
            "36/36 [==============================] - 0s 2ms/step - loss: 0.0639 - accuracy: 0.9814 - val_loss: 0.2341 - val_accuracy: 0.9206\n",
            "Epoch 20/50\n",
            "36/36 [==============================] - 0s 2ms/step - loss: 0.0512 - accuracy: 0.9876 - val_loss: 0.3022 - val_accuracy: 0.9206\n",
            "Epoch 21/50\n",
            "36/36 [==============================] - 0s 2ms/step - loss: 0.0522 - accuracy: 0.9876 - val_loss: 0.2506 - val_accuracy: 0.9206\n",
            "Epoch 22/50\n",
            "36/36 [==============================] - 0s 2ms/step - loss: 0.0492 - accuracy: 0.9894 - val_loss: 0.2198 - val_accuracy: 0.9286\n",
            "Epoch 23/50\n",
            "36/36 [==============================] - 0s 2ms/step - loss: 0.0458 - accuracy: 0.9859 - val_loss: 0.2942 - val_accuracy: 0.8968\n",
            "Epoch 24/50\n",
            "36/36 [==============================] - 0s 2ms/step - loss: 0.0423 - accuracy: 0.9885 - val_loss: 0.2466 - val_accuracy: 0.9365\n",
            "Epoch 25/50\n",
            "36/36 [==============================] - 0s 2ms/step - loss: 0.0410 - accuracy: 0.9912 - val_loss: 0.2381 - val_accuracy: 0.9365\n",
            "Epoch 26/50\n",
            "36/36 [==============================] - 0s 3ms/step - loss: 0.0388 - accuracy: 0.9885 - val_loss: 0.2828 - val_accuracy: 0.9048\n",
            "Epoch 27/50\n",
            "36/36 [==============================] - 0s 2ms/step - loss: 0.0381 - accuracy: 0.9912 - val_loss: 0.2425 - val_accuracy: 0.9286\n",
            "Epoch 28/50\n",
            "36/36 [==============================] - 0s 2ms/step - loss: 0.0372 - accuracy: 0.9920 - val_loss: 0.2362 - val_accuracy: 0.9286\n",
            "Epoch 29/50\n",
            "36/36 [==============================] - 0s 2ms/step - loss: 0.0347 - accuracy: 0.9903 - val_loss: 0.2290 - val_accuracy: 0.9365\n",
            "Epoch 30/50\n",
            "36/36 [==============================] - 0s 3ms/step - loss: 0.0341 - accuracy: 0.9929 - val_loss: 0.2616 - val_accuracy: 0.9365\n",
            "Epoch 31/50\n",
            "36/36 [==============================] - 0s 2ms/step - loss: 0.0322 - accuracy: 0.9938 - val_loss: 0.2824 - val_accuracy: 0.9048\n",
            "Epoch 32/50\n",
            "36/36 [==============================] - 0s 3ms/step - loss: 0.0322 - accuracy: 0.9938 - val_loss: 0.2222 - val_accuracy: 0.9365\n",
            "Epoch 33/50\n",
            "36/36 [==============================] - 0s 3ms/step - loss: 0.0303 - accuracy: 0.9938 - val_loss: 0.2528 - val_accuracy: 0.9365\n",
            "Epoch 34/50\n",
            "36/36 [==============================] - 0s 3ms/step - loss: 0.0295 - accuracy: 0.9947 - val_loss: 0.2314 - val_accuracy: 0.9286\n",
            "Epoch 35/50\n",
            "36/36 [==============================] - 0s 2ms/step - loss: 0.0275 - accuracy: 0.9947 - val_loss: 0.2756 - val_accuracy: 0.9206\n",
            "Epoch 36/50\n",
            "36/36 [==============================] - 0s 3ms/step - loss: 0.0275 - accuracy: 0.9956 - val_loss: 0.2516 - val_accuracy: 0.9365\n",
            "Epoch 37/50\n",
            "36/36 [==============================] - 0s 2ms/step - loss: 0.0265 - accuracy: 0.9956 - val_loss: 0.2421 - val_accuracy: 0.9206\n",
            "Epoch 38/50\n",
            "36/36 [==============================] - 0s 2ms/step - loss: 0.0246 - accuracy: 0.9991 - val_loss: 0.2286 - val_accuracy: 0.9286\n",
            "Epoch 39/50\n",
            "36/36 [==============================] - 0s 2ms/step - loss: 0.0241 - accuracy: 0.9982 - val_loss: 0.2263 - val_accuracy: 0.9365\n",
            "Epoch 40/50\n",
            "36/36 [==============================] - 0s 2ms/step - loss: 0.0240 - accuracy: 0.9982 - val_loss: 0.2389 - val_accuracy: 0.9365\n",
            "Epoch 41/50\n",
            "36/36 [==============================] - 0s 2ms/step - loss: 0.0235 - accuracy: 0.9991 - val_loss: 0.2438 - val_accuracy: 0.9127\n",
            "Epoch 42/50\n",
            "36/36 [==============================] - 0s 3ms/step - loss: 0.0228 - accuracy: 0.9982 - val_loss: 0.2399 - val_accuracy: 0.9206\n",
            "Epoch 43/50\n",
            "36/36 [==============================] - 0s 2ms/step - loss: 0.0217 - accuracy: 0.9973 - val_loss: 0.2498 - val_accuracy: 0.9444\n",
            "Epoch 44/50\n",
            "36/36 [==============================] - 0s 3ms/step - loss: 0.0222 - accuracy: 0.9982 - val_loss: 0.2555 - val_accuracy: 0.9365\n",
            "Epoch 45/50\n",
            "36/36 [==============================] - 0s 2ms/step - loss: 0.0202 - accuracy: 1.0000 - val_loss: 0.2509 - val_accuracy: 0.9365\n",
            "Epoch 46/50\n",
            "36/36 [==============================] - 0s 2ms/step - loss: 0.0209 - accuracy: 1.0000 - val_loss: 0.2468 - val_accuracy: 0.9048\n",
            "Epoch 47/50\n",
            "36/36 [==============================] - 0s 2ms/step - loss: 0.0194 - accuracy: 1.0000 - val_loss: 0.2379 - val_accuracy: 0.9286\n",
            "Epoch 48/50\n",
            "36/36 [==============================] - 0s 2ms/step - loss: 0.0193 - accuracy: 1.0000 - val_loss: 0.2378 - val_accuracy: 0.9286\n",
            "Epoch 49/50\n",
            "36/36 [==============================] - 0s 2ms/step - loss: 0.0187 - accuracy: 1.0000 - val_loss: 0.2676 - val_accuracy: 0.9127\n",
            "Epoch 50/50\n",
            "36/36 [==============================] - 0s 3ms/step - loss: 0.0188 - accuracy: 1.0000 - val_loss: 0.2431 - val_accuracy: 0.9286\n"
          ]
        }
      ]
    },
    {
      "cell_type": "code",
      "source": [
        "plt.plot(history.history['loss']);"
      ],
      "metadata": {
        "colab": {
          "base_uri": "https://localhost:8080/",
          "height": 265
        },
        "id": "SURWIwknwM7N",
        "outputId": "a86dac7f-5353-4564-b958-d3fe392060f1"
      },
      "execution_count": 209,
      "outputs": [
        {
          "output_type": "display_data",
          "data": {
            "text/plain": [
              "<Figure size 432x288 with 1 Axes>"
            ],
            "image/png": "[encoded data removed]"
          },
          "metadata": {
            "needs_background": "light"
          }
        }
      ]
    },
    {
      "cell_type": "code",
      "source": [
        "loss, acc = mpl1.evaluate(X_test, y_test)\n",
        "print(\"Test loss:\", loss)\n",
        "print(\"Test Accuracy:\", acc)"
      ],
      "metadata": {
        "colab": {
          "base_uri": "https://localhost:8080/"
        },
        "id": "pKDPAB9LwPZZ",
        "outputId": "12c6a159-940b-47c6-b11d-d157deb4d058"
      },
      "execution_count": 210,
      "outputs": [
        {
          "output_type": "stream",
          "name": "stdout",
          "text": [
            "17/17 [==============================] - 0s 4ms/step - loss: 0.3937 - accuracy: 0.9000\n",
            "Test loss: 0.3936825692653656\n",
            "Test Accuracy: 0.8999999761581421\n"
          ]
        }
      ]
    },
    {
      "cell_type": "code",
      "source": [
        "# Two hidden layers\n",
        "\n",
        "mpl2 = Sequential()\n",
        "mpl2.add(Dense(128, input_shape=(64,), activation=\"relu\"))\n",
        "mpl2.add(Dense(10,activation=\"softmax\"))\n",
        "\n",
        "mpl2.compile(loss='sparse_categorical_crossentropy', \n",
        "              optimizer='sgd',\n",
        "              metrics=['accuracy'])\n",
        "\n",
        "mpl2.summary()"
      ],
      "metadata": {
        "colab": {
          "base_uri": "https://localhost:8080/"
        },
        "id": "iCbGZg2CwQIG",
        "outputId": "d71d9bb0-8c0b-4d26-ecc2-d155ddbab4d4"
      },
      "execution_count": 211,
      "outputs": [
        {
          "output_type": "stream",
          "name": "stdout",
          "text": [
            "Model: \"sequential_4\"\n",
            "_________________________________________________________________\n",
            " Layer (type)                Output Shape              Param #   \n",
            "=================================================================\n",
            " dense_4 (Dense)             (None, 128)               8320      \n",
            "                                                                 \n",
            " dense_5 (Dense)             (None, 10)                1290      \n",
            "                                                                 \n",
            "=================================================================\n",
            "Total params: 9,610\n",
            "Trainable params: 9,610\n",
            "Non-trainable params: 0\n",
            "_________________________________________________________________\n"
          ]
        }
      ]
    },
    {
      "cell_type": "code",
      "source": [
        "history2 = mpl2.fit(X_train, y_train, validation_split=0.1, epochs=50)"
      ],
      "metadata": {
        "colab": {
          "base_uri": "https://localhost:8080/"
        },
        "id": "aEHBQccAwTbd",
        "outputId": "d4e27ac1-8a69-44cf-c30c-1aad76c5baba"
      },
      "execution_count": 212,
      "outputs": [
        {
          "output_type": "stream",
          "name": "stdout",
          "text": [
            "Epoch 1/50\n",
            "36/36 [==============================] - 1s 7ms/step - loss: 1.7833 - accuracy: 0.6569 - val_loss: 0.5193 - val_accuracy: 0.8413\n",
            "Epoch 2/50\n",
            "36/36 [==============================] - 0s 2ms/step - loss: 0.2615 - accuracy: 0.9187 - val_loss: 0.6964 - val_accuracy: 0.8254\n",
            "Epoch 3/50\n",
            "36/36 [==============================] - 0s 2ms/step - loss: 0.1744 - accuracy: 0.9443 - val_loss: 0.3316 - val_accuracy: 0.9127\n",
            "Epoch 4/50\n",
            "36/36 [==============================] - 0s 2ms/step - loss: 0.1258 - accuracy: 0.9637 - val_loss: 0.2612 - val_accuracy: 0.9365\n",
            "Epoch 5/50\n",
            "36/36 [==============================] - 0s 2ms/step - loss: 0.1030 - accuracy: 0.9717 - val_loss: 0.2573 - val_accuracy: 0.9286\n",
            "Epoch 6/50\n",
            "36/36 [==============================] - 0s 3ms/step - loss: 0.0776 - accuracy: 0.9805 - val_loss: 0.2944 - val_accuracy: 0.8968\n",
            "Epoch 7/50\n",
            "36/36 [==============================] - 0s 3ms/step - loss: 0.0642 - accuracy: 0.9832 - val_loss: 0.2153 - val_accuracy: 0.9365\n",
            "Epoch 8/50\n",
            "36/36 [==============================] - 0s 3ms/step - loss: 0.0569 - accuracy: 0.9894 - val_loss: 0.2393 - val_accuracy: 0.9365\n",
            "Epoch 9/50\n",
            "36/36 [==============================] - 0s 2ms/step - loss: 0.0497 - accuracy: 0.9929 - val_loss: 0.2235 - val_accuracy: 0.9365\n",
            "Epoch 10/50\n",
            "36/36 [==============================] - 0s 3ms/step - loss: 0.0466 - accuracy: 0.9912 - val_loss: 0.2222 - val_accuracy: 0.9286\n",
            "Epoch 11/50\n",
            "36/36 [==============================] - 0s 2ms/step - loss: 0.0397 - accuracy: 0.9965 - val_loss: 0.1913 - val_accuracy: 0.9286\n",
            "Epoch 12/50\n",
            "36/36 [==============================] - 0s 3ms/step - loss: 0.0352 - accuracy: 0.9938 - val_loss: 0.1737 - val_accuracy: 0.9286\n",
            "Epoch 13/50\n",
            "36/36 [==============================] - 0s 2ms/step - loss: 0.0340 - accuracy: 0.9947 - val_loss: 0.1835 - val_accuracy: 0.9365\n",
            "Epoch 14/50\n",
            "36/36 [==============================] - 0s 2ms/step - loss: 0.0300 - accuracy: 0.9965 - val_loss: 0.1794 - val_accuracy: 0.9286\n",
            "Epoch 15/50\n",
            "36/36 [==============================] - 0s 3ms/step - loss: 0.0274 - accuracy: 0.9956 - val_loss: 0.1909 - val_accuracy: 0.9365\n",
            "Epoch 16/50\n",
            "36/36 [==============================] - 0s 3ms/step - loss: 0.0262 - accuracy: 0.9965 - val_loss: 0.2039 - val_accuracy: 0.9365\n",
            "Epoch 17/50\n",
            "36/36 [==============================] - 0s 2ms/step - loss: 0.0236 - accuracy: 0.9973 - val_loss: 0.2188 - val_accuracy: 0.9286\n",
            "Epoch 18/50\n",
            "36/36 [==============================] - 0s 3ms/step - loss: 0.0263 - accuracy: 0.9965 - val_loss: 0.1864 - val_accuracy: 0.9365\n",
            "Epoch 19/50\n",
            "36/36 [==============================] - 0s 2ms/step - loss: 0.0201 - accuracy: 0.9991 - val_loss: 0.1729 - val_accuracy: 0.9365\n",
            "Epoch 20/50\n",
            "36/36 [==============================] - 0s 3ms/step - loss: 0.0197 - accuracy: 0.9973 - val_loss: 0.1856 - val_accuracy: 0.9286\n",
            "Epoch 21/50\n",
            "36/36 [==============================] - 0s 2ms/step - loss: 0.0188 - accuracy: 0.9982 - val_loss: 0.2078 - val_accuracy: 0.9444\n",
            "Epoch 22/50\n",
            "36/36 [==============================] - 0s 3ms/step - loss: 0.0185 - accuracy: 0.9991 - val_loss: 0.1776 - val_accuracy: 0.9365\n",
            "Epoch 23/50\n",
            "36/36 [==============================] - 0s 2ms/step - loss: 0.0173 - accuracy: 1.0000 - val_loss: 0.1835 - val_accuracy: 0.9286\n",
            "Epoch 24/50\n",
            "36/36 [==============================] - 0s 3ms/step - loss: 0.0159 - accuracy: 0.9991 - val_loss: 0.1727 - val_accuracy: 0.9365\n",
            "Epoch 25/50\n",
            "36/36 [==============================] - 0s 3ms/step - loss: 0.0150 - accuracy: 1.0000 - val_loss: 0.1481 - val_accuracy: 0.9365\n",
            "Epoch 26/50\n",
            "36/36 [==============================] - 0s 2ms/step - loss: 0.0151 - accuracy: 1.0000 - val_loss: 0.1890 - val_accuracy: 0.9286\n",
            "Epoch 27/50\n",
            "36/36 [==============================] - 0s 2ms/step - loss: 0.0144 - accuracy: 0.9991 - val_loss: 0.1648 - val_accuracy: 0.9365\n",
            "Epoch 28/50\n",
            "36/36 [==============================] - 0s 2ms/step - loss: 0.0139 - accuracy: 1.0000 - val_loss: 0.1790 - val_accuracy: 0.9286\n",
            "Epoch 29/50\n",
            "36/36 [==============================] - 0s 3ms/step - loss: 0.0128 - accuracy: 1.0000 - val_loss: 0.1778 - val_accuracy: 0.9286\n",
            "Epoch 30/50\n",
            "36/36 [==============================] - 0s 3ms/step - loss: 0.0122 - accuracy: 1.0000 - val_loss: 0.1735 - val_accuracy: 0.9286\n",
            "Epoch 31/50\n",
            "36/36 [==============================] - 0s 2ms/step - loss: 0.0121 - accuracy: 0.9991 - val_loss: 0.1709 - val_accuracy: 0.9286\n",
            "Epoch 32/50\n",
            "36/36 [==============================] - 0s 3ms/step - loss: 0.0118 - accuracy: 1.0000 - val_loss: 0.1677 - val_accuracy: 0.9365\n",
            "Epoch 33/50\n",
            "36/36 [==============================] - 0s 2ms/step - loss: 0.0114 - accuracy: 0.9991 - val_loss: 0.1711 - val_accuracy: 0.9286\n",
            "Epoch 34/50\n",
            "36/36 [==============================] - 0s 2ms/step - loss: 0.0108 - accuracy: 1.0000 - val_loss: 0.1819 - val_accuracy: 0.9286\n",
            "Epoch 35/50\n",
            "36/36 [==============================] - 0s 3ms/step - loss: 0.0107 - accuracy: 1.0000 - val_loss: 0.1740 - val_accuracy: 0.9286\n",
            "Epoch 36/50\n",
            "36/36 [==============================] - 0s 3ms/step - loss: 0.0102 - accuracy: 1.0000 - val_loss: 0.1682 - val_accuracy: 0.9365\n",
            "Epoch 37/50\n",
            "36/36 [==============================] - 0s 2ms/step - loss: 0.0101 - accuracy: 1.0000 - val_loss: 0.1802 - val_accuracy: 0.9365\n",
            "Epoch 38/50\n",
            "36/36 [==============================] - 0s 3ms/step - loss: 0.0095 - accuracy: 1.0000 - val_loss: 0.1679 - val_accuracy: 0.9365\n",
            "Epoch 39/50\n",
            "36/36 [==============================] - 0s 3ms/step - loss: 0.0093 - accuracy: 1.0000 - val_loss: 0.1674 - val_accuracy: 0.9365\n",
            "Epoch 40/50\n",
            "36/36 [==============================] - 0s 3ms/step - loss: 0.0091 - accuracy: 1.0000 - val_loss: 0.1695 - val_accuracy: 0.9365\n",
            "Epoch 41/50\n",
            "36/36 [==============================] - 0s 3ms/step - loss: 0.0089 - accuracy: 1.0000 - val_loss: 0.1681 - val_accuracy: 0.9286\n",
            "Epoch 42/50\n",
            "36/36 [==============================] - 0s 2ms/step - loss: 0.0086 - accuracy: 1.0000 - val_loss: 0.1616 - val_accuracy: 0.9286\n",
            "Epoch 43/50\n",
            "36/36 [==============================] - 0s 3ms/step - loss: 0.0082 - accuracy: 1.0000 - val_loss: 0.1726 - val_accuracy: 0.9365\n",
            "Epoch 44/50\n",
            "36/36 [==============================] - 0s 4ms/step - loss: 0.0082 - accuracy: 1.0000 - val_loss: 0.1684 - val_accuracy: 0.9286\n",
            "Epoch 45/50\n",
            "36/36 [==============================] - 0s 3ms/step - loss: 0.0079 - accuracy: 1.0000 - val_loss: 0.1745 - val_accuracy: 0.9286\n",
            "Epoch 46/50\n",
            "36/36 [==============================] - 0s 3ms/step - loss: 0.0076 - accuracy: 1.0000 - val_loss: 0.1680 - val_accuracy: 0.9365\n",
            "Epoch 47/50\n",
            "36/36 [==============================] - 0s 3ms/step - loss: 0.0076 - accuracy: 1.0000 - val_loss: 0.1755 - val_accuracy: 0.9286\n",
            "Epoch 48/50\n",
            "36/36 [==============================] - 0s 2ms/step - loss: 0.0074 - accuracy: 1.0000 - val_loss: 0.1670 - val_accuracy: 0.9365\n",
            "Epoch 49/50\n",
            "36/36 [==============================] - 0s 3ms/step - loss: 0.0072 - accuracy: 1.0000 - val_loss: 0.1695 - val_accuracy: 0.9365\n",
            "Epoch 50/50\n",
            "36/36 [==============================] - 0s 2ms/step - loss: 0.0069 - accuracy: 1.0000 - val_loss: 0.1743 - val_accuracy: 0.9365\n"
          ]
        }
      ]
    },
    {
      "cell_type": "code",
      "source": [
        "plt.plot(history2.history['loss']);"
      ],
      "metadata": {
        "colab": {
          "base_uri": "https://localhost:8080/",
          "height": 265
        },
        "id": "c1Emym9kwWSa",
        "outputId": "149800c5-f78c-40a6-b250-7985a56267d2"
      },
      "execution_count": 214,
      "outputs": [
        {
          "output_type": "display_data",
          "data": {
            "text/plain": [
              "<Figure size 432x288 with 1 Axes>"
            ],
            "image/png": "[encoded data removed]"
          },
          "metadata": {
            "needs_background": "light"
          }
        }
      ]
    },
    {
      "cell_type": "code",
      "source": [
        "loss, acc = mpl2.evaluate(X_test, y_test)\n",
        "print(\"Test loss:\", loss)\n",
        "print(\"Test Accuracy:\", acc)"
      ],
      "metadata": {
        "colab": {
          "base_uri": "https://localhost:8080/"
        },
        "id": "dtveYUAAwZcx",
        "outputId": "ea3998e0-8e45-4f24-d059-d3fbea49b0a0"
      },
      "execution_count": 216,
      "outputs": [
        {
          "output_type": "stream",
          "name": "stdout",
          "text": [
            "17/17 [==============================] - 0s 4ms/step - loss: 0.2953 - accuracy: 0.9167\n",
            "Test loss: 0.2952825725078583\n",
            "Test Accuracy: 0.9166666865348816\n"
          ]
        }
      ]
    },
    {
      "cell_type": "code",
      "source": [
        "# Three hidden layers\n",
        "\n",
        "mpl3 = Sequential()\n",
        "mpl3.add(Dense(128, input_shape=(64,), activation=\"relu\"))\n",
        "mpl3.add(Dense(256, activation=\"relu\"))\n",
        "mpl3.add(Dense(10,activation=\"softmax\"))\n",
        "\n",
        "mpl3.compile(loss='sparse_categorical_crossentropy', \n",
        "              optimizer='sgd',\n",
        "              metrics=['accuracy'])\n",
        "\n",
        "mpl3.summary()"
      ],
      "metadata": {
        "colab": {
          "base_uri": "https://localhost:8080/"
        },
        "id": "9P6fgiBBwcJx",
        "outputId": "24bdb89f-659d-4e8c-9eda-f7c9f48a8cf6"
      },
      "execution_count": 218,
      "outputs": [
        {
          "output_type": "stream",
          "name": "stdout",
          "text": [
            "Model: \"sequential_6\"\n",
            "_________________________________________________________________\n",
            " Layer (type)                Output Shape              Param #   \n",
            "=================================================================\n",
            " dense_9 (Dense)             (None, 128)               8320      \n",
            "                                                                 \n",
            " dense_10 (Dense)            (None, 256)               33024     \n",
            "                                                                 \n",
            " dense_11 (Dense)            (None, 10)                2570      \n",
            "                                                                 \n",
            "=================================================================\n",
            "Total params: 43,914\n",
            "Trainable params: 43,914\n",
            "Non-trainable params: 0\n",
            "_________________________________________________________________\n"
          ]
        }
      ]
    },
    {
      "cell_type": "code",
      "source": [
        "history3 = mpl3.fit(X_train, y_train, validation_split=0.1, epochs=50)\n",
        "plt.plot(history3.history['loss'])"
      ],
      "metadata": {
        "colab": {
          "base_uri": "https://localhost:8080/",
          "height": 1000
        },
        "id": "fAaSP7vxwe3O",
        "outputId": "32e9136e-d5d8-4c90-c789-c82b142e1379"
      },
      "execution_count": 219,
      "outputs": [
        {
          "output_type": "stream",
          "name": "stdout",
          "text": [
            "Epoch 1/50\n",
            "36/36 [==============================] - 1s 7ms/step - loss: 1.2821 - accuracy: 0.6799 - val_loss: 0.7583 - val_accuracy: 0.7381\n",
            "Epoch 2/50\n",
            "36/36 [==============================] - 0s 4ms/step - loss: 0.2437 - accuracy: 0.9425 - val_loss: 0.2366 - val_accuracy: 0.9286\n",
            "Epoch 3/50\n",
            "36/36 [==============================] - 0s 4ms/step - loss: 0.1599 - accuracy: 0.9576 - val_loss: 0.3047 - val_accuracy: 0.8889\n",
            "Epoch 4/50\n",
            "36/36 [==============================] - 0s 3ms/step - loss: 0.1117 - accuracy: 0.9752 - val_loss: 0.1436 - val_accuracy: 0.9603\n",
            "Epoch 5/50\n",
            "36/36 [==============================] - 0s 3ms/step - loss: 0.0937 - accuracy: 0.9770 - val_loss: 0.1382 - val_accuracy: 0.9683\n",
            "Epoch 6/50\n",
            "36/36 [==============================] - 0s 3ms/step - loss: 0.0758 - accuracy: 0.9859 - val_loss: 0.1412 - val_accuracy: 0.9603\n",
            "Epoch 7/50\n",
            "36/36 [==============================] - 0s 3ms/step - loss: 0.0597 - accuracy: 0.9929 - val_loss: 0.1231 - val_accuracy: 0.9683\n",
            "Epoch 8/50\n",
            "36/36 [==============================] - 0s 3ms/step - loss: 0.0523 - accuracy: 0.9903 - val_loss: 0.1398 - val_accuracy: 0.9444\n",
            "Epoch 9/50\n",
            "36/36 [==============================] - 0s 3ms/step - loss: 0.0438 - accuracy: 0.9973 - val_loss: 0.1094 - val_accuracy: 0.9683\n",
            "Epoch 10/50\n",
            "36/36 [==============================] - 0s 3ms/step - loss: 0.0404 - accuracy: 0.9947 - val_loss: 0.1168 - val_accuracy: 0.9762\n",
            "Epoch 11/50\n",
            "36/36 [==============================] - 0s 3ms/step - loss: 0.0353 - accuracy: 0.9956 - val_loss: 0.1110 - val_accuracy: 0.9762\n",
            "Epoch 12/50\n",
            "36/36 [==============================] - 0s 3ms/step - loss: 0.0321 - accuracy: 0.9973 - val_loss: 0.1128 - val_accuracy: 0.9603\n",
            "Epoch 13/50\n",
            "36/36 [==============================] - 0s 3ms/step - loss: 0.0285 - accuracy: 0.9973 - val_loss: 0.1397 - val_accuracy: 0.9603\n",
            "Epoch 14/50\n",
            "36/36 [==============================] - 0s 3ms/step - loss: 0.0261 - accuracy: 0.9982 - val_loss: 0.1217 - val_accuracy: 0.9683\n",
            "Epoch 15/50\n",
            "36/36 [==============================] - 0s 4ms/step - loss: 0.0237 - accuracy: 0.9982 - val_loss: 0.1423 - val_accuracy: 0.9524\n",
            "Epoch 16/50\n",
            "36/36 [==============================] - 0s 3ms/step - loss: 0.0241 - accuracy: 0.9991 - val_loss: 0.1123 - val_accuracy: 0.9603\n",
            "Epoch 17/50\n",
            "36/36 [==============================] - 0s 3ms/step - loss: 0.0207 - accuracy: 0.9991 - val_loss: 0.1091 - val_accuracy: 0.9762\n",
            "Epoch 18/50\n",
            "36/36 [==============================] - 0s 3ms/step - loss: 0.0193 - accuracy: 0.9991 - val_loss: 0.1236 - val_accuracy: 0.9683\n",
            "Epoch 19/50\n",
            "36/36 [==============================] - 0s 3ms/step - loss: 0.0177 - accuracy: 0.9991 - val_loss: 0.1229 - val_accuracy: 0.9603\n",
            "Epoch 20/50\n",
            "36/36 [==============================] - 0s 3ms/step - loss: 0.0163 - accuracy: 1.0000 - val_loss: 0.1214 - val_accuracy: 0.9762\n",
            "Epoch 21/50\n",
            "36/36 [==============================] - 0s 3ms/step - loss: 0.0150 - accuracy: 1.0000 - val_loss: 0.1329 - val_accuracy: 0.9603\n",
            "Epoch 22/50\n",
            "36/36 [==============================] - 0s 4ms/step - loss: 0.0154 - accuracy: 1.0000 - val_loss: 0.1150 - val_accuracy: 0.9762\n",
            "Epoch 23/50\n",
            "36/36 [==============================] - 0s 3ms/step - loss: 0.0139 - accuracy: 1.0000 - val_loss: 0.1134 - val_accuracy: 0.9683\n",
            "Epoch 24/50\n",
            "36/36 [==============================] - 0s 3ms/step - loss: 0.0129 - accuracy: 1.0000 - val_loss: 0.1192 - val_accuracy: 0.9762\n",
            "Epoch 25/50\n",
            "36/36 [==============================] - 0s 3ms/step - loss: 0.0128 - accuracy: 1.0000 - val_loss: 0.1042 - val_accuracy: 0.9683\n",
            "Epoch 26/50\n",
            "36/36 [==============================] - 0s 3ms/step - loss: 0.0120 - accuracy: 1.0000 - val_loss: 0.1109 - val_accuracy: 0.9603\n",
            "Epoch 27/50\n",
            "36/36 [==============================] - 0s 3ms/step - loss: 0.0109 - accuracy: 1.0000 - val_loss: 0.1057 - val_accuracy: 0.9762\n",
            "Epoch 28/50\n",
            "36/36 [==============================] - 0s 3ms/step - loss: 0.0110 - accuracy: 1.0000 - val_loss: 0.1135 - val_accuracy: 0.9683\n",
            "Epoch 29/50\n",
            "36/36 [==============================] - 0s 3ms/step - loss: 0.0104 - accuracy: 1.0000 - val_loss: 0.1009 - val_accuracy: 0.9762\n",
            "Epoch 30/50\n",
            "36/36 [==============================] - 0s 3ms/step - loss: 0.0100 - accuracy: 1.0000 - val_loss: 0.1023 - val_accuracy: 0.9762\n",
            "Epoch 31/50\n",
            "36/36 [==============================] - 0s 3ms/step - loss: 0.0095 - accuracy: 1.0000 - val_loss: 0.1016 - val_accuracy: 0.9683\n",
            "Epoch 32/50\n",
            "36/36 [==============================] - 0s 3ms/step - loss: 0.0092 - accuracy: 1.0000 - val_loss: 0.1072 - val_accuracy: 0.9683\n",
            "Epoch 33/50\n",
            "36/36 [==============================] - 0s 3ms/step - loss: 0.0088 - accuracy: 1.0000 - val_loss: 0.1104 - val_accuracy: 0.9683\n",
            "Epoch 34/50\n",
            "36/36 [==============================] - 0s 3ms/step - loss: 0.0083 - accuracy: 1.0000 - val_loss: 0.1102 - val_accuracy: 0.9603\n",
            "Epoch 35/50\n",
            "36/36 [==============================] - 0s 3ms/step - loss: 0.0081 - accuracy: 1.0000 - val_loss: 0.1018 - val_accuracy: 0.9683\n",
            "Epoch 36/50\n",
            "36/36 [==============================] - 0s 3ms/step - loss: 0.0078 - accuracy: 1.0000 - val_loss: 0.1208 - val_accuracy: 0.9603\n",
            "Epoch 37/50\n",
            "36/36 [==============================] - 0s 3ms/step - loss: 0.0080 - accuracy: 1.0000 - val_loss: 0.1089 - val_accuracy: 0.9603\n",
            "Epoch 38/50\n",
            "36/36 [==============================] - 0s 3ms/step - loss: 0.0075 - accuracy: 1.0000 - val_loss: 0.1064 - val_accuracy: 0.9683\n",
            "Epoch 39/50\n",
            "36/36 [==============================] - 0s 4ms/step - loss: 0.0070 - accuracy: 1.0000 - val_loss: 0.1059 - val_accuracy: 0.9683\n",
            "Epoch 40/50\n",
            "36/36 [==============================] - 0s 3ms/step - loss: 0.0069 - accuracy: 1.0000 - val_loss: 0.1085 - val_accuracy: 0.9603\n",
            "Epoch 41/50\n",
            "36/36 [==============================] - 0s 3ms/step - loss: 0.0068 - accuracy: 1.0000 - val_loss: 0.1044 - val_accuracy: 0.9683\n",
            "Epoch 42/50\n",
            "36/36 [==============================] - 0s 3ms/step - loss: 0.0066 - accuracy: 1.0000 - val_loss: 0.1033 - val_accuracy: 0.9683\n",
            "Epoch 43/50\n",
            "36/36 [==============================] - 0s 3ms/step - loss: 0.0064 - accuracy: 1.0000 - val_loss: 0.1009 - val_accuracy: 0.9683\n",
            "Epoch 44/50\n",
            "36/36 [==============================] - 0s 3ms/step - loss: 0.0062 - accuracy: 1.0000 - val_loss: 0.1044 - val_accuracy: 0.9683\n",
            "Epoch 45/50\n",
            "36/36 [==============================] - 0s 3ms/step - loss: 0.0059 - accuracy: 1.0000 - val_loss: 0.1065 - val_accuracy: 0.9683\n",
            "Epoch 46/50\n",
            "36/36 [==============================] - 0s 3ms/step - loss: 0.0060 - accuracy: 1.0000 - val_loss: 0.1034 - val_accuracy: 0.9683\n",
            "Epoch 47/50\n",
            "36/36 [==============================] - 0s 3ms/step - loss: 0.0057 - accuracy: 1.0000 - val_loss: 0.1107 - val_accuracy: 0.9603\n",
            "Epoch 48/50\n",
            "36/36 [==============================] - 0s 3ms/step - loss: 0.0056 - accuracy: 1.0000 - val_loss: 0.1080 - val_accuracy: 0.9603\n",
            "Epoch 49/50\n",
            "36/36 [==============================] - 0s 3ms/step - loss: 0.0055 - accuracy: 1.0000 - val_loss: 0.1067 - val_accuracy: 0.9683\n",
            "Epoch 50/50\n",
            "36/36 [==============================] - 0s 3ms/step - loss: 0.0053 - accuracy: 1.0000 - val_loss: 0.1056 - val_accuracy: 0.9683\n"
          ]
        },
        {
          "output_type": "execute_result",
          "data": {
            "text/plain": [
              "[<matplotlib.lines.Line2D at 0x7f78d3dc6b80>]"
            ]
          },
          "metadata": {},
          "execution_count": 219
        },
        {
          "output_type": "display_data",
          "data": {
            "text/plain": [
              "<Figure size 432x288 with 1 Axes>"
            ],
            "image/png": "[encoded data removed]"
          },
          "metadata": {
            "needs_background": "light"
          }
        }
      ]
    },
    {
      "cell_type": "code",
      "source": [
        "loss, acc = mpl3.evaluate(X_test, y_test)\n",
        "print(\"Test loss:\", loss)\n",
        "print(\"Test Accuracy:\", acc)"
      ],
      "metadata": {
        "colab": {
          "base_uri": "https://localhost:8080/"
        },
        "id": "22ZG9kDmwh9S",
        "outputId": "3f1a337b-506f-49ea-cf1f-a400f2e2de3b"
      },
      "execution_count": 220,
      "outputs": [
        {
          "output_type": "stream",
          "name": "stdout",
          "text": [
            "17/17 [==============================] - 0s 2ms/step - loss: 0.2632 - accuracy: 0.9278\n",
            "Test loss: 0.2631639838218689\n",
            "Test Accuracy: 0.9277777671813965\n"
          ]
        }
      ]
    },
    {
      "cell_type": "markdown",
      "source": [
        "# Decision Tree"
      ],
      "metadata": {
        "id": "qkb8NvFz371z"
      }
    },
    {
      "cell_type": "code",
      "source": [
        "res = train_test_split(digits.data, digits.target, \n",
        "                       train_size=0.7,\n",
        "                       test_size=0.3,\n",
        "                       random_state=1)\n",
        "train_data, test_data, train_labels, test_labels = res \n",
        "accuracy_score(test_labels, y_preds_DTC)"
      ],
      "metadata": {
        "colab": {
          "base_uri": "https://localhost:8080/"
        },
        "id": "b2V2GGLl3Dio",
        "outputId": "d9b18edc-c20a-4256-8317-d86b6b7d36ba"
      },
      "execution_count": 230,
      "outputs": [
        {
          "output_type": "execute_result",
          "data": {
            "text/plain": [
              "0.1037037037037037"
            ]
          },
          "metadata": {},
          "execution_count": 230
        }
      ]
    },
    {
      "cell_type": "markdown",
      "source": [
        "# Ensemble Tree"
      ],
      "metadata": {
        "id": "tV4V2zq33_7v"
      }
    },
    {
      "cell_type": "code",
      "source": [
        "res = train_test_split(digits.data, digits.target, \n",
        "                       train_size=0.7,\n",
        "                       test_size=0.3,\n",
        "                       random_state=1)\n",
        "train_data, test_data, train_labels, test_labels = res \n",
        "accuracy_score(test_labels, y_preds_bag)"
      ],
      "metadata": {
        "colab": {
          "base_uri": "https://localhost:8080/"
        },
        "id": "R2X7aTjJ32tK",
        "outputId": "be0f8f0f-e8e5-4ec7-f456-890c9d6eb071"
      },
      "execution_count": 231,
      "outputs": [
        {
          "output_type": "execute_result",
          "data": {
            "text/plain": [
              "0.09074074074074075"
            ]
          },
          "metadata": {},
          "execution_count": 231
        }
      ]
    },
    {
      "cell_type": "markdown",
      "source": [
        "# Random Forest"
      ],
      "metadata": {
        "id": "jhnIKTf34DBW"
      }
    },
    {
      "cell_type": "code",
      "source": [
        "res = train_test_split(digits.data, digits.target, \n",
        "                       train_size=0.7,\n",
        "                       test_size=0.3,\n",
        "                       random_state=1)\n",
        "train_data, test_data, train_labels, test_labels = res \n",
        "accuracy_score(test_labels, y_preds_rf)"
      ],
      "metadata": {
        "colab": {
          "base_uri": "https://localhost:8080/"
        },
        "id": "KQaLbkGT33iq",
        "outputId": "002d1da3-6031-4643-cbc3-2f0775782d9e"
      },
      "execution_count": 232,
      "outputs": [
        {
          "output_type": "execute_result",
          "data": {
            "text/plain": [
              "0.09444444444444444"
            ]
          },
          "metadata": {},
          "execution_count": 232
        }
      ]
    },
    {
      "cell_type": "markdown",
      "source": [
        "# MLP Neural Network"
      ],
      "metadata": {
        "id": "TR48kadL4F98"
      }
    },
    {
      "cell_type": "code",
      "source": [
        "res = train_test_split(digits.data, digits.target, \n",
        "                       train_size=0.7,\n",
        "                       test_size=0.3,\n",
        "                       random_state=1)\n",
        "train_data, test_data, train_labels, test_labels = res \n",
        "accuracy_score(test_labels, y_preds_mlp)"
      ],
      "metadata": {
        "colab": {
          "base_uri": "https://localhost:8080/"
        },
        "id": "0dgLxImU35He",
        "outputId": "3c452b35-cbc8-4b2a-b353-d776506e8f25"
      },
      "execution_count": 233,
      "outputs": [
        {
          "output_type": "execute_result",
          "data": {
            "text/plain": [
              "0.1"
            ]
          },
          "metadata": {},
          "execution_count": 233
        }
      ]
    }
  ]
}