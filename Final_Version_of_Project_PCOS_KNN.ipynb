{
  "cells": [
    {
      "cell_type": "markdown",
      "metadata": {
        "id": "GiBM2q5S9xN0"
      },
      "source": [
        "### Title: \"DSCI 6601: \" Machine Learning Model for Polycystic Overy Syndrome\n",
        "\n",
        "### Name: Sharmin Akhter\n",
        "\n",
        "### ID: 201891112"
      ],
      "id": "GiBM2q5S9xN0"
    },
    {
      "cell_type": "markdown",
      "metadata": {
        "id": "s6mLDTzv9zQg"
      },
      "source": [
        "## Introduction\n",
        "\n",
        "With an increased strain on the healthcare system (especially in the present scenario) , it is often di cult for healthcare services to triage the cases they are presented with an accurate manner. This often results in patients not receiving the care they require, misdiagnosis due to human error and even complications owing to delayed treatment. The use of machine learning models, has recently taken over as a great way to serve as preliminary  lter to allow early diagnosis in the health care sector.\n",
        "\n",
        "In this project I will review the prediction of Polycystic Overy Syndrome using Machine Learning Model. The goal here is to design a robust Machine Learning Model which will help health service provider to predict PCOS quickly reducing misdiagonsis based on the historical data of the patients.\n",
        "\n",
        "Polycystic overy syndrome a ects are to women of reproductive age and is currently diagnosed to 4%-20% women worldwide. Exact prevalence  gures regarding PCOS are limited and unclear. The features which could possibly contritube to diagnose PCOS are Patterns of Length Of The Menstrual Cycle,Patterns Of BMI, Patterns Of Irregularity In Mensuration, Number of Follicles, Some Miscellaneous EDA.\n",
        "Studies have shown that there are 44 physical and clinical parameters to detemine PCOS and infertility\n",
        "related health issues for women. The source of this data is collected from 10 di erent hositals is Kerala, India.\n",
        "The data is obtained from kaggle.com and here is the link for full data [full new]\n",
        "(https://www.kaggle.com/code/jiangqizhu0701/pcos a guide-to practical machine learning/data).\n"
      ],
      "id": "s6mLDTzv9zQg"
    },
    {
      "cell_type": "markdown",
      "metadata": {
        "id": "9b927f95"
      },
      "source": [
        "# Import Libraries"
      ],
      "id": "9b927f95"
    },
    {
      "cell_type": "code",
      "execution_count": null,
      "metadata": {
        "id": "6e448c2c"
      },
      "outputs": [],
      "source": [
        "import pandas as pd\n",
        "from sklearn.preprocessing import LabelEncoder\n",
        "from sklearn.pipeline import Pipeline\n",
        "from sklearn.compose import ColumnTransformer\n",
        "from sklearn.preprocessing import MinMaxScaler\n",
        "from sklearn.model_selection import train_test_split\n",
        "from sklearn.neighbors import KNeighborsClassifier\n",
        "from sklearn.metrics import accuracy_score, plot_confusion_matrix\n",
        "from sklearn.model_selection import cross_val_score\n",
        "from sklearn.model_selection import GridSearchCV\n",
        "from sklearn.model_selection import KFold\n",
        "import numpy as np\n",
        "import seaborn as sn\n",
        "import matplotlib.pyplot as plt\n",
        "from mpl_toolkits.mplot3d import Axes3D\n",
        "import warnings\n",
        "warnings.filterwarnings('ignore')"
      ],
      "id": "6e448c2c"
    },
    {
      "cell_type": "markdown",
      "metadata": {
        "id": "7e7197ca"
      },
      "source": [
        "# Data Encoder"
      ],
      "id": "7e7197ca"
    },
    {
      "cell_type": "code",
      "execution_count": null,
      "metadata": {
        "id": "20073e83"
      },
      "outputs": [],
      "source": [
        "class ColumnLabelEncoder:\n",
        "    def __init__(self,columns = None):\n",
        "        self.columns = columns # array of column names to encode\n",
        "\n",
        "    def fit(self,X,y=None):\n",
        "        return self # not relevant here\n",
        "\n",
        "    def transform(self,X):\n",
        "        '''\n",
        "        Transforms columns of X specified in self.columns using\n",
        "        LabelEncoder(). If no columns specified, transforms all\n",
        "        columns in X.\n",
        "        '''\n",
        "        output = X.copy()\n",
        "        if self.columns is not None:\n",
        "            for col in self.columns:\n",
        "                output[col] = LabelEncoder().fit_transform(output[col])\n",
        "        else:\n",
        "            for colname,col in output.iteritems():\n",
        "                output[colname] = LabelEncoder().fit_transform(col)\n",
        "        return output\n",
        "\n",
        "    def fit_transform(self,X,y=None):\n",
        "        return self.fit(X,y).transform(X)\n",
        "    \n",
        "    "
      ],
      "id": "20073e83"
    },
    {
      "cell_type": "code",
      "execution_count": null,
      "metadata": {
        "colab": {
          "base_uri": "https://localhost:8080/"
        },
        "id": "_wTy8jTSUZth",
        "outputId": "3081defb-2d87-46e8-d215-e1f9a84d0d15"
      },
      "outputs": [
        {
          "name": "stdout",
          "output_type": "stream",
          "text": [
            "/bin/bash: []https://drive.google.com/file/d/1vzAvBiIjlvSq6u5WHHPlGvZd-OAelpDE/view?usp=sharing: No such file or directory\n"
          ]
        }
      ],
      "source": [
        "![]https://drive.google.com/file/d/1vzAvBiIjlvSq6u5WHHPlGvZd-OAelpDE/view?usp=sharing"
      ],
      "id": "_wTy8jTSUZth"
    },
    {
      "cell_type": "code",
      "execution_count": null,
      "metadata": {
        "colab": {
          "base_uri": "https://localhost:8080/",
          "height": 717
        },
        "id": "421c898f",
        "outputId": "b835ff45-d867-40b2-cece-bde22597c727"
      },
      "outputs": [
        {
          "data": {
            "text/html": [
              "\n",
              "     <input type=\"file\" id=\"files-1fa6a892-a289-44c8-947d-852599c62cb6\" name=\"files[]\" multiple disabled\n",
              "        style=\"border:none\" />\n",
              "     <output id=\"result-1fa6a892-a289-44c8-947d-852599c62cb6\">\n",
              "      Upload widget is only available when the cell has been executed in the\n",
              "      current browser session. Please rerun this cell to enable.\n",
              "      </output>\n",
              "      <script>// Copyright 2017 Google LLC\n",
              "//\n",
              "// Licensed under the Apache License, Version 2.0 (the \"License\");\n",
              "// you may not use this file except in compliance with the License.\n",
              "// You may obtain a copy of the License at\n",
              "//\n",
              "//      http://www.apache.org/licenses/LICENSE-2.0\n",
              "//\n",
              "// Unless required by applicable law or agreed to in writing, software\n",
              "// distributed under the License is distributed on an \"AS IS\" BASIS,\n",
              "// WITHOUT WARRANTIES OR CONDITIONS OF ANY KIND, either express or implied.\n",
              "// See the License for the specific language governing permissions and\n",
              "// limitations under the License.\n",
              "\n",
              "/**\n",
              " * @fileoverview Helpers for google.colab Python module.\n",
              " */\n",
              "(function(scope) {\n",
              "function span(text, styleAttributes = {}) {\n",
              "  const element = document.createElement('span');\n",
              "  element.textContent = text;\n",
              "  for (const key of Object.keys(styleAttributes)) {\n",
              "    element.style[key] = styleAttributes[key];\n",
              "  }\n",
              "  return element;\n",
              "}\n",
              "\n",
              "// Max number of bytes which will be uploaded at a time.\n",
              "const MAX_PAYLOAD_SIZE = 100 * 1024;\n",
              "\n",
              "function _uploadFiles(inputId, outputId) {\n",
              "  const steps = uploadFilesStep(inputId, outputId);\n",
              "  const outputElement = document.getElementById(outputId);\n",
              "  // Cache steps on the outputElement to make it available for the next call\n",
              "  // to uploadFilesContinue from Python.\n",
              "  outputElement.steps = steps;\n",
              "\n",
              "  return _uploadFilesContinue(outputId);\n",
              "}\n",
              "\n",
              "// This is roughly an async generator (not supported in the browser yet),\n",
              "// where there are multiple asynchronous steps and the Python side is going\n",
              "// to poll for completion of each step.\n",
              "// This uses a Promise to block the python side on completion of each step,\n",
              "// then passes the result of the previous step as the input to the next step.\n",
              "function _uploadFilesContinue(outputId) {\n",
              "  const outputElement = document.getElementById(outputId);\n",
              "  const steps = outputElement.steps;\n",
              "\n",
              "  const next = steps.next(outputElement.lastPromiseValue);\n",
              "  return Promise.resolve(next.value.promise).then((value) => {\n",
              "    // Cache the last promise value to make it available to the next\n",
              "    // step of the generator.\n",
              "    outputElement.lastPromiseValue = value;\n",
              "    return next.value.response;\n",
              "  });\n",
              "}\n",
              "\n",
              "/**\n",
              " * Generator function which is called between each async step of the upload\n",
              " * process.\n",
              " * @param {string} inputId Element ID of the input file picker element.\n",
              " * @param {string} outputId Element ID of the output display.\n",
              " * @return {!Iterable<!Object>} Iterable of next steps.\n",
              " */\n",
              "function* uploadFilesStep(inputId, outputId) {\n",
              "  const inputElement = document.getElementById(inputId);\n",
              "  inputElement.disabled = false;\n",
              "\n",
              "  const outputElement = document.getElementById(outputId);\n",
              "  outputElement.innerHTML = '';\n",
              "\n",
              "  const pickedPromise = new Promise((resolve) => {\n",
              "    inputElement.addEventListener('change', (e) => {\n",
              "      resolve(e.target.files);\n",
              "    });\n",
              "  });\n",
              "\n",
              "  const cancel = document.createElement('button');\n",
              "  inputElement.parentElement.appendChild(cancel);\n",
              "  cancel.textContent = 'Cancel upload';\n",
              "  const cancelPromise = new Promise((resolve) => {\n",
              "    cancel.onclick = () => {\n",
              "      resolve(null);\n",
              "    };\n",
              "  });\n",
              "\n",
              "  // Wait for the user to pick the files.\n",
              "  const files = yield {\n",
              "    promise: Promise.race([pickedPromise, cancelPromise]),\n",
              "    response: {\n",
              "      action: 'starting',\n",
              "    }\n",
              "  };\n",
              "\n",
              "  cancel.remove();\n",
              "\n",
              "  // Disable the input element since further picks are not allowed.\n",
              "  inputElement.disabled = true;\n",
              "\n",
              "  if (!files) {\n",
              "    return {\n",
              "      response: {\n",
              "        action: 'complete',\n",
              "      }\n",
              "    };\n",
              "  }\n",
              "\n",
              "  for (const file of files) {\n",
              "    const li = document.createElement('li');\n",
              "    li.append(span(file.name, {fontWeight: 'bold'}));\n",
              "    li.append(span(\n",
              "        `(${file.type || 'n/a'}) - ${file.size} bytes, ` +\n",
              "        `last modified: ${\n",
              "            file.lastModifiedDate ? file.lastModifiedDate.toLocaleDateString() :\n",
              "                                    'n/a'} - `));\n",
              "    const percent = span('0% done');\n",
              "    li.appendChild(percent);\n",
              "\n",
              "    outputElement.appendChild(li);\n",
              "\n",
              "    const fileDataPromise = new Promise((resolve) => {\n",
              "      const reader = new FileReader();\n",
              "      reader.onload = (e) => {\n",
              "        resolve(e.target.result);\n",
              "      };\n",
              "      reader.readAsArrayBuffer(file);\n",
              "    });\n",
              "    // Wait for the data to be ready.\n",
              "    let fileData = yield {\n",
              "      promise: fileDataPromise,\n",
              "      response: {\n",
              "        action: 'continue',\n",
              "      }\n",
              "    };\n",
              "\n",
              "    // Use a chunked sending to avoid message size limits. See b/62115660.\n",
              "    let position = 0;\n",
              "    do {\n",
              "      const length = Math.min(fileData.byteLength - position, MAX_PAYLOAD_SIZE);\n",
              "      const chunk = new Uint8Array(fileData, position, length);\n",
              "      position += length;\n",
              "\n",
              "      const base64 = btoa(String.fromCharCode.apply(null, chunk));\n",
              "      yield {\n",
              "        response: {\n",
              "          action: 'append',\n",
              "          file: file.name,\n",
              "          data: base64,\n",
              "        },\n",
              "      };\n",
              "\n",
              "      let percentDone = fileData.byteLength === 0 ?\n",
              "          100 :\n",
              "          Math.round((position / fileData.byteLength) * 100);\n",
              "      percent.textContent = `${percentDone}% done`;\n",
              "\n",
              "    } while (position < fileData.byteLength);\n",
              "  }\n",
              "\n",
              "  // All done.\n",
              "  yield {\n",
              "    response: {\n",
              "      action: 'complete',\n",
              "    }\n",
              "  };\n",
              "}\n",
              "\n",
              "scope.google = scope.google || {};\n",
              "scope.google.colab = scope.google.colab || {};\n",
              "scope.google.colab._files = {\n",
              "  _uploadFiles,\n",
              "  _uploadFilesContinue,\n",
              "};\n",
              "})(self);\n",
              "</script> "
            ],
            "text/plain": [
              "<IPython.core.display.HTML object>"
            ]
          },
          "metadata": {},
          "output_type": "display_data"
        },
        {
          "name": "stdout",
          "output_type": "stream",
          "text": [
            "Saving allData.csv to allData.csv\n",
            "  Period Length     Cycle Length    Age    City PCOS  PCOS_from Overweight  \\\n",
            "0      4-5 days  Keeps Variating  18-25  mumbai   No        NaN        NaN   \n",
            "1      4-5 days       20-28 days  18-25  mumbai   No        NaN         No   \n",
            "2      4-5 days       29-35 days  18-25  mumbai  Yes       20.0        Yes   \n",
            "3      4-5 days       29-35 days  18-25  mumbai   No        NaN        NaN   \n",
            "4      4-5 days       20-28 days  18-25   thane   No        NaN        NaN   \n",
            "\n",
            "  loss weight gain / weight loss irregular or missed periods  \\\n",
            "0                             No                         Yes   \n",
            "1                            Yes                          No   \n",
            "2                            Yes                         Yes   \n",
            "3                             No                          No   \n",
            "4                             No                         Yes   \n",
            "\n",
            "  Difficulty in conceiving  ... Hair growth on Inner thighs Acne or skin tags  \\\n",
            "0           Not Applicable  ...                      normal               Yes   \n",
            "1           Not Applicable  ...                    moderate                No   \n",
            "2                      Yes  ...                    moderate               Yes   \n",
            "3           Not Applicable  ...                      normal                No   \n",
            "4           Not Applicable  ...                      normal               Yes   \n",
            "\n",
            "  Hair thinning or hair loss  Dark patches always tired more Mood Swings  \\\n",
            "0                         Yes           No           No               No   \n",
            "1                         Yes           No          Yes              Yes   \n",
            "2                         Yes          Yes          Yes              Yes   \n",
            "3                          No           No          Yes               No   \n",
            "4                          No          Yes          Yes              Yes   \n",
            "\n",
            "  exercise per week eat outside per week canned food often relocated city  \n",
            "0                 0                    4                No             No  \n",
            "1                 1                    1                No             No  \n",
            "2                 1                    4               Yes             No  \n",
            "3                 5                    1                No             No  \n",
            "4                 0                    4                No             No  \n",
            "\n",
            "[5 rows x 25 columns]\n"
          ]
        }
      ],
      "source": [
        "from google.colab import files\n",
        "uploaded = files.upload()\n",
        "\n",
        "df_val= df=pd.read_csv('allData.csv')\n",
        "print(df_val.head())\n",
        "\n",
        "\n"
      ],
      "id": "421c898f"
    },
    {
      "cell_type": "code",
      "execution_count": null,
      "metadata": {
        "colab": {
          "base_uri": "https://localhost:8080/"
        },
        "id": "132f1daf",
        "outputId": "bf49c327-bc82-4914-ef37-7c83f0a33e38"
      },
      "outputs": [
        {
          "name": "stdout",
          "output_type": "stream",
          "text": [
            "Index(['Period Length', 'Cycle Length', 'Age', 'City', 'PCOS', 'Overweight',\n",
            "       'loss weight gain / weight loss', 'irregular or missed periods',\n",
            "       'Difficulty in conceiving', 'Hair growth on Chin',\n",
            "       'Hair growth  on Cheeks', 'Hair growth Between breasts',\n",
            "       'Hair growth  on Upper lips ', 'Hair growth in Arms',\n",
            "       'Hair growth on Inner thighs', 'Acne or skin tags',\n",
            "       'Hair thinning or hair loss ', 'Dark patches', 'always tired',\n",
            "       'more Mood Swings', 'canned food often', 'relocated city'],\n",
            "      dtype='object')\n",
            "   Period Length  Cycle Length  Age  City  PCOS  PCOS_from  Overweight  \\\n",
            "0              1             5    0    19     0        NaN           3   \n",
            "1              1             1    0    19     0        NaN           1   \n",
            "2              1             3    0    19     1       20.0           2   \n",
            "3              1             3    0    19     0        NaN           3   \n",
            "4              1             1    0    26     0        NaN           3   \n",
            "\n",
            "   loss weight gain / weight loss  irregular or missed periods  \\\n",
            "0                               0                            2   \n",
            "1                               1                            0   \n",
            "2                               1                            2   \n",
            "3                               0                            0   \n",
            "4                               0                            2   \n",
            "\n",
            "   Difficulty in conceiving  ...  Hair growth on Inner thighs  \\\n",
            "0                         1  ...                            2   \n",
            "1                         1  ...                            1   \n",
            "2                         2  ...                            1   \n",
            "3                         1  ...                            2   \n",
            "4                         1  ...                            2   \n",
            "\n",
            "   Acne or skin tags  Hair thinning or hair loss   Dark patches  always tired  \\\n",
            "0                  1                            1             0             0   \n",
            "1                  0                            1             0             1   \n",
            "2                  1                            1             1             1   \n",
            "3                  0                            0             0             1   \n",
            "4                  1                            0             1             1   \n",
            "\n",
            "   more Mood Swings  exercise per week  eat outside per week  \\\n",
            "0                 0                  0                     4   \n",
            "1                 1                  1                     1   \n",
            "2                 1                  1                     4   \n",
            "3                 0                  5                     1   \n",
            "4                 1                  0                     4   \n",
            "\n",
            "   canned food often  relocated city  \n",
            "0                  0               0  \n",
            "1                  0               0  \n",
            "2                  1               0  \n",
            "3                  0               0  \n",
            "4                  0               0  \n",
            "\n",
            "[5 rows x 25 columns]\n"
          ]
        }
      ],
      "source": [
        "catagorical_idx = df.select_dtypes(include=['object','bool']).dtypes\n",
        "print(catagorical_idx.index)\n",
        "df_val = ColumnLabelEncoder(columns= ['Period Length', 'Cycle Length', 'Age', 'City', 'PCOS', 'Overweight',\n",
        "       'loss weight gain / weight loss', 'irregular or missed periods',\n",
        "       'Difficulty in conceiving', 'Hair growth on Chin',\n",
        "       'Hair growth  on Cheeks', 'Hair growth Between breasts',\n",
        "       'Hair growth  on Upper lips ', 'Hair growth in Arms',\n",
        "       'Hair growth on Inner thighs', 'Acne or skin tags',\n",
        "       'Hair thinning or hair loss ', 'Dark patches', 'always tired',\n",
        "       'more Mood Swings', 'canned food often', 'relocated city']).fit_transform(df_val)\n",
        "print(df_val.head())\n",
        "\n"
      ],
      "id": "132f1daf"
    },
    {
      "cell_type": "markdown",
      "metadata": {
        "id": "DNjK67Nb-dRw"
      },
      "source": [
        "## lets see can we reduce the dimensionality of the data,\n",
        "## finding out correlation matrix\n"
      ],
      "id": "DNjK67Nb-dRw"
    },
    {
      "cell_type": "code",
      "execution_count": null,
      "metadata": {
        "colab": {
          "base_uri": "https://localhost:8080/"
        },
        "id": "0fb16360",
        "outputId": "7ac078f5-a184-41bc-a2bf-9a572123282a"
      },
      "outputs": [
        {
          "name": "stdout",
          "output_type": "stream",
          "text": [
            "Index(['PCOS', 'loss weight gain / weight loss', 'irregular or missed periods',\n",
            "       'Cycle Length', 'always tired', 'Hair growth on Chin', 'PCOS_from',\n",
            "       'Hair growth  on Upper lips ', 'Overweight', 'more Mood Swings',\n",
            "       'Difficulty in conceiving'],\n",
            "      dtype='object')\n"
          ]
        }
      ],
      "source": [
        "corr_matrix=df_val.corrwith(df_val[\"PCOS\"]).abs().sort_values(ascending=False)\n",
        "#features with correlation more than 0.15\n",
        "corr_matrix=corr_matrix[corr_matrix>0.2].index\n",
        "print(corr_matrix)"
      ],
      "id": "0fb16360"
    },
    {
      "cell_type": "code",
      "execution_count": null,
      "metadata": {
        "colab": {
          "base_uri": "https://localhost:8080/",
          "height": 461
        },
        "id": "9b093864",
        "outputId": "421a8588-783c-4299-cf79-c320aac08295"
      },
      "outputs": [
        {
          "data": {
            "image/png": "[encoded data removed]",
            "text/plain": [
              "<Figure size 432x360 with 2 Axes>"
            ]
          },
          "metadata": {},
          "output_type": "display_data"
        }
      ],
      "source": [
        "df_val=df_val[corr_matrix]\n",
        "plt.figure(figsize=(6,5))\n",
        "sn.heatmap(df_val.corr(), annot=True)\n",
        "plt.show()"
      ],
      "id": "9b093864"
    },
    {
      "cell_type": "code",
      "execution_count": null,
      "metadata": {
        "colab": {
          "base_uri": "https://localhost:8080/"
        },
        "id": "fh3eAGcq-nHS",
        "outputId": "3a7c4970-82ef-4581-bb93-301341d5baa6"
      },
      "outputs": [
        {
          "name": "stdout",
          "output_type": "stream",
          "text": [
            "PCOS                              0\n",
            "loss weight gain / weight loss    0\n",
            "irregular or missed periods       0\n",
            "Cycle Length                      0\n",
            "always tired                      0\n",
            "Hair growth on Chin               0\n",
            "Hair growth  on Upper lips        0\n",
            "Overweight                        0\n",
            "more Mood Swings                  0\n",
            "Difficulty in conceiving          0\n",
            "dtype: int64\n",
            "Count of NAN 0\n",
            "     PCOS  loss weight gain / weight loss  irregular or missed periods  \\\n",
            "0       0                               0                            2   \n",
            "1       0                               1                            0   \n",
            "2       1                               1                            2   \n",
            "3       0                               0                            0   \n",
            "4       0                               0                            2   \n",
            "..    ...                             ...                          ...   \n",
            "262     0                               0                            0   \n",
            "263     0                               0                            0   \n",
            "264     0                               0                            0   \n",
            "265     0                               0                            0   \n",
            "266     0                               0                            0   \n",
            "\n",
            "     Cycle Length  always tired  Hair growth on Chin  \\\n",
            "0               5             0                    1   \n",
            "1               1             1                    1   \n",
            "2               3             1                    1   \n",
            "3               3             1                    2   \n",
            "4               1             1                    1   \n",
            "..            ...           ...                  ...   \n",
            "262             2             0                    2   \n",
            "263             3             0                    2   \n",
            "264             2             0                    2   \n",
            "265             0             1                    1   \n",
            "266             2             0                    2   \n",
            "\n",
            "     Hair growth  on Upper lips   Overweight  more Mood Swings  \\\n",
            "0                              1           3                 0   \n",
            "1                              0           1                 1   \n",
            "2                              1           2                 1   \n",
            "3                              2           3                 0   \n",
            "4                              1           3                 1   \n",
            "..                           ...         ...               ...   \n",
            "262                            2           3                 0   \n",
            "263                            1           3                 0   \n",
            "264                            2           1                 0   \n",
            "265                            0           1                 0   \n",
            "266                            2           3                 0   \n",
            "\n",
            "     Difficulty in conceiving  \n",
            "0                           1  \n",
            "1                           1  \n",
            "2                           2  \n",
            "3                           1  \n",
            "4                           1  \n",
            "..                        ...  \n",
            "262                         1  \n",
            "263                         1  \n",
            "264                         1  \n",
            "265                         1  \n",
            "266                         0  \n",
            "\n",
            "[267 rows x 10 columns]\n"
          ]
        }
      ],
      "source": [
        "df_val = df_val.drop(['PCOS_from'], axis=1)\n",
        "\n",
        "y=df_val['PCOS']\n",
        "X=df_val.drop(['PCOS'], axis=1)\n",
        "Xval_train,Xval_val,yval_train, yval_val=train_test_split(X,y, test_size=0.9, random_state=42)\n",
        "\n",
        "print(df_val.isnull().sum())\n",
        "print('Count of NAN ' + str(df_val.isnull().sum().sum()))\n",
        "print(df_val)"
      ],
      "id": "fh3eAGcq-nHS"
    },
    {
      "cell_type": "markdown",
      "metadata": {
        "id": "9yGwg9vc-yDh"
      },
      "source": [
        "## Training and test dataset"
      ],
      "id": "9yGwg9vc-yDh"
    },
    {
      "cell_type": "code",
      "execution_count": null,
      "metadata": {
        "colab": {
          "base_uri": "https://localhost:8080/"
        },
        "id": "Z5XgOhDCwhxm",
        "outputId": "32717583-f0da-4c21-8d2e-0a87cf9d5e64"
      },
      "outputs": [
        {
          "name": "stdout",
          "output_type": "stream",
          "text": [
            "/bin/bash: []https://docs.google.com/spreadsheets/d/1VCP2PM3n5ud4hWzm0AVjzhSQDmGMxw9M/edit?usp=sharing: No such file or directory\n"
          ]
        }
      ],
      "source": [
        "![]https://docs.google.com/spreadsheets/d/1VCP2PM3n5ud4hWzm0AVjzhSQDmGMxw9M/edit?usp=sharing&ouid=106310968755348349021&rtpof=true&sd=true"
      ],
      "id": "Z5XgOhDCwhxm"
    },
    {
      "cell_type": "code",
      "execution_count": null,
      "metadata": {
        "colab": {
          "base_uri": "https://localhost:8080/",
          "height": 426
        },
        "id": "f28a1b95",
        "outputId": "a7b5c411-4d73-41e4-fe7b-a3d4063d5da5"
      },
      "outputs": [
        {
          "data": {
            "text/html": [
              "\n",
              "     <input type=\"file\" id=\"files-a995ae8f-032d-450d-9e9f-4609c918bd78\" name=\"files[]\" multiple disabled\n",
              "        style=\"border:none\" />\n",
              "     <output id=\"result-a995ae8f-032d-450d-9e9f-4609c918bd78\">\n",
              "      Upload widget is only available when the cell has been executed in the\n",
              "      current browser session. Please rerun this cell to enable.\n",
              "      </output>\n",
              "      <script>// Copyright 2017 Google LLC\n",
              "//\n",
              "// Licensed under the Apache License, Version 2.0 (the \"License\");\n",
              "// you may not use this file except in compliance with the License.\n",
              "// You may obtain a copy of the License at\n",
              "//\n",
              "//      http://www.apache.org/licenses/LICENSE-2.0\n",
              "//\n",
              "// Unless required by applicable law or agreed to in writing, software\n",
              "// distributed under the License is distributed on an \"AS IS\" BASIS,\n",
              "// WITHOUT WARRANTIES OR CONDITIONS OF ANY KIND, either express or implied.\n",
              "// See the License for the specific language governing permissions and\n",
              "// limitations under the License.\n",
              "\n",
              "/**\n",
              " * @fileoverview Helpers for google.colab Python module.\n",
              " */\n",
              "(function(scope) {\n",
              "function span(text, styleAttributes = {}) {\n",
              "  const element = document.createElement('span');\n",
              "  element.textContent = text;\n",
              "  for (const key of Object.keys(styleAttributes)) {\n",
              "    element.style[key] = styleAttributes[key];\n",
              "  }\n",
              "  return element;\n",
              "}\n",
              "\n",
              "// Max number of bytes which will be uploaded at a time.\n",
              "const MAX_PAYLOAD_SIZE = 100 * 1024;\n",
              "\n",
              "function _uploadFiles(inputId, outputId) {\n",
              "  const steps = uploadFilesStep(inputId, outputId);\n",
              "  const outputElement = document.getElementById(outputId);\n",
              "  // Cache steps on the outputElement to make it available for the next call\n",
              "  // to uploadFilesContinue from Python.\n",
              "  outputElement.steps = steps;\n",
              "\n",
              "  return _uploadFilesContinue(outputId);\n",
              "}\n",
              "\n",
              "// This is roughly an async generator (not supported in the browser yet),\n",
              "// where there are multiple asynchronous steps and the Python side is going\n",
              "// to poll for completion of each step.\n",
              "// This uses a Promise to block the python side on completion of each step,\n",
              "// then passes the result of the previous step as the input to the next step.\n",
              "function _uploadFilesContinue(outputId) {\n",
              "  const outputElement = document.getElementById(outputId);\n",
              "  const steps = outputElement.steps;\n",
              "\n",
              "  const next = steps.next(outputElement.lastPromiseValue);\n",
              "  return Promise.resolve(next.value.promise).then((value) => {\n",
              "    // Cache the last promise value to make it available to the next\n",
              "    // step of the generator.\n",
              "    outputElement.lastPromiseValue = value;\n",
              "    return next.value.response;\n",
              "  });\n",
              "}\n",
              "\n",
              "/**\n",
              " * Generator function which is called between each async step of the upload\n",
              " * process.\n",
              " * @param {string} inputId Element ID of the input file picker element.\n",
              " * @param {string} outputId Element ID of the output display.\n",
              " * @return {!Iterable<!Object>} Iterable of next steps.\n",
              " */\n",
              "function* uploadFilesStep(inputId, outputId) {\n",
              "  const inputElement = document.getElementById(inputId);\n",
              "  inputElement.disabled = false;\n",
              "\n",
              "  const outputElement = document.getElementById(outputId);\n",
              "  outputElement.innerHTML = '';\n",
              "\n",
              "  const pickedPromise = new Promise((resolve) => {\n",
              "    inputElement.addEventListener('change', (e) => {\n",
              "      resolve(e.target.files);\n",
              "    });\n",
              "  });\n",
              "\n",
              "  const cancel = document.createElement('button');\n",
              "  inputElement.parentElement.appendChild(cancel);\n",
              "  cancel.textContent = 'Cancel upload';\n",
              "  const cancelPromise = new Promise((resolve) => {\n",
              "    cancel.onclick = () => {\n",
              "      resolve(null);\n",
              "    };\n",
              "  });\n",
              "\n",
              "  // Wait for the user to pick the files.\n",
              "  const files = yield {\n",
              "    promise: Promise.race([pickedPromise, cancelPromise]),\n",
              "    response: {\n",
              "      action: 'starting',\n",
              "    }\n",
              "  };\n",
              "\n",
              "  cancel.remove();\n",
              "\n",
              "  // Disable the input element since further picks are not allowed.\n",
              "  inputElement.disabled = true;\n",
              "\n",
              "  if (!files) {\n",
              "    return {\n",
              "      response: {\n",
              "        action: 'complete',\n",
              "      }\n",
              "    };\n",
              "  }\n",
              "\n",
              "  for (const file of files) {\n",
              "    const li = document.createElement('li');\n",
              "    li.append(span(file.name, {fontWeight: 'bold'}));\n",
              "    li.append(span(\n",
              "        `(${file.type || 'n/a'}) - ${file.size} bytes, ` +\n",
              "        `last modified: ${\n",
              "            file.lastModifiedDate ? file.lastModifiedDate.toLocaleDateString() :\n",
              "                                    'n/a'} - `));\n",
              "    const percent = span('0% done');\n",
              "    li.appendChild(percent);\n",
              "\n",
              "    outputElement.appendChild(li);\n",
              "\n",
              "    const fileDataPromise = new Promise((resolve) => {\n",
              "      const reader = new FileReader();\n",
              "      reader.onload = (e) => {\n",
              "        resolve(e.target.result);\n",
              "      };\n",
              "      reader.readAsArrayBuffer(file);\n",
              "    });\n",
              "    // Wait for the data to be ready.\n",
              "    let fileData = yield {\n",
              "      promise: fileDataPromise,\n",
              "      response: {\n",
              "        action: 'continue',\n",
              "      }\n",
              "    };\n",
              "\n",
              "    // Use a chunked sending to avoid message size limits. See b/62115660.\n",
              "    let position = 0;\n",
              "    do {\n",
              "      const length = Math.min(fileData.byteLength - position, MAX_PAYLOAD_SIZE);\n",
              "      const chunk = new Uint8Array(fileData, position, length);\n",
              "      position += length;\n",
              "\n",
              "      const base64 = btoa(String.fromCharCode.apply(null, chunk));\n",
              "      yield {\n",
              "        response: {\n",
              "          action: 'append',\n",
              "          file: file.name,\n",
              "          data: base64,\n",
              "        },\n",
              "      };\n",
              "\n",
              "      let percentDone = fileData.byteLength === 0 ?\n",
              "          100 :\n",
              "          Math.round((position / fileData.byteLength) * 100);\n",
              "      percent.textContent = `${percentDone}% done`;\n",
              "\n",
              "    } while (position < fileData.byteLength);\n",
              "  }\n",
              "\n",
              "  // All done.\n",
              "  yield {\n",
              "    response: {\n",
              "      action: 'complete',\n",
              "    }\n",
              "  };\n",
              "}\n",
              "\n",
              "scope.google = scope.google || {};\n",
              "scope.google.colab = scope.google.colab || {};\n",
              "scope.google.colab._files = {\n",
              "  _uploadFiles,\n",
              "  _uploadFilesContinue,\n",
              "};\n",
              "})(self);\n",
              "</script> "
            ],
            "text/plain": [
              "<IPython.core.display.HTML object>"
            ]
          },
          "metadata": {},
          "output_type": "display_data"
        },
        {
          "name": "stdout",
          "output_type": "stream",
          "text": [
            "Saving PCOS_data_without_infertility.xlsx to PCOS_data_without_infertility.xlsx\n"
          ]
        },
        {
          "data": {
            "text/html": [
              "\n",
              "  <div id=\"df-1caa4b7c-2678-4c71-b456-8af79bb9427c\">\n",
              "    <div class=\"colab-df-container\">\n",
              "      <div>\n",
              "<style scoped>\n",
              "    .dataframe tbody tr th:only-of-type {\n",
              "        vertical-align: middle;\n",
              "    }\n",
              "\n",
              "    .dataframe tbody tr th {\n",
              "        vertical-align: top;\n",
              "    }\n",
              "\n",
              "    .dataframe thead th {\n",
              "        text-align: right;\n",
              "    }\n",
              "</style>\n",
              "<table border=\"1\" class=\"dataframe\">\n",
              "  <thead>\n",
              "    <tr style=\"text-align: right;\">\n",
              "      <th></th>\n",
              "      <th>Sl. No</th>\n",
              "      <th>Patient File No.</th>\n",
              "      <th>PCOS (Y/N)</th>\n",
              "      <th>Age (yrs)</th>\n",
              "      <th>Weight (Kg)</th>\n",
              "      <th>Height(Cm)</th>\n",
              "      <th>BMI</th>\n",
              "      <th>Blood Group</th>\n",
              "      <th>Pulse rate(bpm)</th>\n",
              "      <th>RR (breaths/min)</th>\n",
              "      <th>...</th>\n",
              "      <th>Fast food (Y/N)</th>\n",
              "      <th>Reg.Exercise(Y/N)</th>\n",
              "      <th>BP _Systolic (mmHg)</th>\n",
              "      <th>BP _Diastolic (mmHg)</th>\n",
              "      <th>Follicle No. (L)</th>\n",
              "      <th>Follicle No. (R)</th>\n",
              "      <th>Avg. F size (L) (mm)</th>\n",
              "      <th>Avg. F size (R) (mm)</th>\n",
              "      <th>Endometrium (mm)</th>\n",
              "      <th>Unnamed: 44</th>\n",
              "    </tr>\n",
              "  </thead>\n",
              "  <tbody>\n",
              "    <tr>\n",
              "      <th>0</th>\n",
              "      <td>1.0</td>\n",
              "      <td>1.0</td>\n",
              "      <td>0.0</td>\n",
              "      <td>28.0</td>\n",
              "      <td>44.6</td>\n",
              "      <td>152.0</td>\n",
              "      <td>19.300000</td>\n",
              "      <td>15.0</td>\n",
              "      <td>78.0</td>\n",
              "      <td>22.0</td>\n",
              "      <td>...</td>\n",
              "      <td>1.0</td>\n",
              "      <td>0.0</td>\n",
              "      <td>110.0</td>\n",
              "      <td>80.0</td>\n",
              "      <td>3.0</td>\n",
              "      <td>3.0</td>\n",
              "      <td>18.0</td>\n",
              "      <td>18.0</td>\n",
              "      <td>8.5</td>\n",
              "      <td>NaN</td>\n",
              "    </tr>\n",
              "    <tr>\n",
              "      <th>1</th>\n",
              "      <td>2.0</td>\n",
              "      <td>2.0</td>\n",
              "      <td>0.0</td>\n",
              "      <td>36.0</td>\n",
              "      <td>65.0</td>\n",
              "      <td>161.5</td>\n",
              "      <td>24.921163</td>\n",
              "      <td>15.0</td>\n",
              "      <td>74.0</td>\n",
              "      <td>20.0</td>\n",
              "      <td>...</td>\n",
              "      <td>0.0</td>\n",
              "      <td>0.0</td>\n",
              "      <td>120.0</td>\n",
              "      <td>70.0</td>\n",
              "      <td>3.0</td>\n",
              "      <td>5.0</td>\n",
              "      <td>15.0</td>\n",
              "      <td>14.0</td>\n",
              "      <td>3.7</td>\n",
              "      <td>NaN</td>\n",
              "    </tr>\n",
              "    <tr>\n",
              "      <th>2</th>\n",
              "      <td>3.0</td>\n",
              "      <td>3.0</td>\n",
              "      <td>1.0</td>\n",
              "      <td>33.0</td>\n",
              "      <td>68.8</td>\n",
              "      <td>165.0</td>\n",
              "      <td>25.270891</td>\n",
              "      <td>11.0</td>\n",
              "      <td>72.0</td>\n",
              "      <td>18.0</td>\n",
              "      <td>...</td>\n",
              "      <td>1.0</td>\n",
              "      <td>0.0</td>\n",
              "      <td>120.0</td>\n",
              "      <td>80.0</td>\n",
              "      <td>13.0</td>\n",
              "      <td>15.0</td>\n",
              "      <td>18.0</td>\n",
              "      <td>20.0</td>\n",
              "      <td>10.0</td>\n",
              "      <td>NaN</td>\n",
              "    </tr>\n",
              "    <tr>\n",
              "      <th>3</th>\n",
              "      <td>4.0</td>\n",
              "      <td>4.0</td>\n",
              "      <td>0.0</td>\n",
              "      <td>37.0</td>\n",
              "      <td>65.0</td>\n",
              "      <td>148.0</td>\n",
              "      <td>29.674945</td>\n",
              "      <td>13.0</td>\n",
              "      <td>72.0</td>\n",
              "      <td>20.0</td>\n",
              "      <td>...</td>\n",
              "      <td>0.0</td>\n",
              "      <td>0.0</td>\n",
              "      <td>120.0</td>\n",
              "      <td>70.0</td>\n",
              "      <td>2.0</td>\n",
              "      <td>2.0</td>\n",
              "      <td>15.0</td>\n",
              "      <td>14.0</td>\n",
              "      <td>7.5</td>\n",
              "      <td>NaN</td>\n",
              "    </tr>\n",
              "    <tr>\n",
              "      <th>4</th>\n",
              "      <td>5.0</td>\n",
              "      <td>5.0</td>\n",
              "      <td>0.0</td>\n",
              "      <td>25.0</td>\n",
              "      <td>52.0</td>\n",
              "      <td>161.0</td>\n",
              "      <td>20.060954</td>\n",
              "      <td>11.0</td>\n",
              "      <td>72.0</td>\n",
              "      <td>18.0</td>\n",
              "      <td>...</td>\n",
              "      <td>0.0</td>\n",
              "      <td>0.0</td>\n",
              "      <td>120.0</td>\n",
              "      <td>80.0</td>\n",
              "      <td>3.0</td>\n",
              "      <td>4.0</td>\n",
              "      <td>16.0</td>\n",
              "      <td>14.0</td>\n",
              "      <td>7.0</td>\n",
              "      <td>NaN</td>\n",
              "    </tr>\n",
              "  </tbody>\n",
              "</table>\n",
              "<p>5 rows × 45 columns</p>\n",
              "</div>\n",
              "      <button class=\"colab-df-convert\" onclick=\"convertToInteractive('df-1caa4b7c-2678-4c71-b456-8af79bb9427c')\"\n",
              "              title=\"Convert this dataframe to an interactive table.\"\n",
              "              style=\"display:none;\">\n",
              "        \n",
              "  <svg xmlns=\"http://www.w3.org/2000/svg\" height=\"24px\"viewBox=\"0 0 24 24\"\n",
              "       width=\"24px\">\n",
              "    <path d=\"M0 0h24v24H0V0z\" fill=\"none\"/>\n",
              "    <path d=\"M18.56 5.44l.94 2.06.94-2.06 2.06-.94-2.06-.94-.94-2.06-.94 2.06-2.06.94zm-11 1L8.5 8.5l.94-2.06 2.06-.94-2.06-.94L8.5 2.5l-.94 2.06-2.06.94zm10 10l.94 2.06.94-2.06 2.06-.94-2.06-.94-.94-2.06-.94 2.06-2.06.94z\"/><path d=\"M17.41 7.96l-1.37-1.37c-.4-.4-.92-.59-1.43-.59-.52 0-1.04.2-1.43.59L10.3 9.45l-7.72 7.72c-.78.78-.78 2.05 0 2.83L4 21.41c.39.39.9.59 1.41.59.51 0 1.02-.2 1.41-.59l7.78-7.78 2.81-2.81c.8-.78.8-2.07 0-2.86zM5.41 20L4 18.59l7.72-7.72 1.47 1.35L5.41 20z\"/>\n",
              "  </svg>\n",
              "      </button>\n",
              "      \n",
              "  <style>\n",
              "    .colab-df-container {\n",
              "      display:flex;\n",
              "      flex-wrap:wrap;\n",
              "      gap: 12px;\n",
              "    }\n",
              "\n",
              "    .colab-df-convert {\n",
              "      background-color: #E8F0FE;\n",
              "      border: none;\n",
              "      border-radius: 50%;\n",
              "      cursor: pointer;\n",
              "      display: none;\n",
              "      fill: #1967D2;\n",
              "      height: 32px;\n",
              "      padding: 0 0 0 0;\n",
              "      width: 32px;\n",
              "    }\n",
              "\n",
              "    .colab-df-convert:hover {\n",
              "      background-color: #E2EBFA;\n",
              "      box-shadow: 0px 1px 2px rgba(60, 64, 67, 0.3), 0px 1px 3px 1px rgba(60, 64, 67, 0.15);\n",
              "      fill: #174EA6;\n",
              "    }\n",
              "\n",
              "    [theme=dark] .colab-df-convert {\n",
              "      background-color: #3B4455;\n",
              "      fill: #D2E3FC;\n",
              "    }\n",
              "\n",
              "    [theme=dark] .colab-df-convert:hover {\n",
              "      background-color: #434B5C;\n",
              "      box-shadow: 0px 1px 3px 1px rgba(0, 0, 0, 0.15);\n",
              "      filter: drop-shadow(0px 1px 2px rgba(0, 0, 0, 0.3));\n",
              "      fill: #FFFFFF;\n",
              "    }\n",
              "  </style>\n",
              "\n",
              "      <script>\n",
              "        const buttonEl =\n",
              "          document.querySelector('#df-1caa4b7c-2678-4c71-b456-8af79bb9427c button.colab-df-convert');\n",
              "        buttonEl.style.display =\n",
              "          google.colab.kernel.accessAllowed ? 'block' : 'none';\n",
              "\n",
              "        async function convertToInteractive(key) {\n",
              "          const element = document.querySelector('#df-1caa4b7c-2678-4c71-b456-8af79bb9427c');\n",
              "          const dataTable =\n",
              "            await google.colab.kernel.invokeFunction('convertToInteractive',\n",
              "                                                     [key], {});\n",
              "          if (!dataTable) return;\n",
              "\n",
              "          const docLinkHtml = 'Like what you see? Visit the ' +\n",
              "            '<a target=\"_blank\" href=https://colab.research.google.com/notebooks/data_table.ipynb>data table notebook</a>'\n",
              "            + ' to learn more about interactive tables.';\n",
              "          element.innerHTML = '';\n",
              "          dataTable['output_type'] = 'display_data';\n",
              "          await google.colab.output.renderOutput(dataTable, element);\n",
              "          const docLink = document.createElement('div');\n",
              "          docLink.innerHTML = docLinkHtml;\n",
              "          element.appendChild(docLink);\n",
              "        }\n",
              "      </script>\n",
              "    </div>\n",
              "  </div>\n",
              "  "
            ],
            "text/plain": [
              "   Sl. No  Patient File No.  PCOS (Y/N)   Age (yrs)  Weight (Kg)  Height(Cm)   \\\n",
              "0     1.0               1.0         0.0        28.0         44.6        152.0   \n",
              "1     2.0               2.0         0.0        36.0         65.0        161.5   \n",
              "2     3.0               3.0         1.0        33.0         68.8        165.0   \n",
              "3     4.0               4.0         0.0        37.0         65.0        148.0   \n",
              "4     5.0               5.0         0.0        25.0         52.0        161.0   \n",
              "\n",
              "         BMI  Blood Group  Pulse rate(bpm)   RR (breaths/min)  ...  \\\n",
              "0  19.300000         15.0              78.0              22.0  ...   \n",
              "1  24.921163         15.0              74.0              20.0  ...   \n",
              "2  25.270891         11.0              72.0              18.0  ...   \n",
              "3  29.674945         13.0              72.0              20.0  ...   \n",
              "4  20.060954         11.0              72.0              18.0  ...   \n",
              "\n",
              "   Fast food (Y/N)  Reg.Exercise(Y/N)  BP _Systolic (mmHg)  \\\n",
              "0              1.0                0.0                110.0   \n",
              "1              0.0                0.0                120.0   \n",
              "2              1.0                0.0                120.0   \n",
              "3              0.0                0.0                120.0   \n",
              "4              0.0                0.0                120.0   \n",
              "\n",
              "   BP _Diastolic (mmHg)  Follicle No. (L)  Follicle No. (R)  \\\n",
              "0                  80.0               3.0               3.0   \n",
              "1                  70.0               3.0               5.0   \n",
              "2                  80.0              13.0              15.0   \n",
              "3                  70.0               2.0               2.0   \n",
              "4                  80.0               3.0               4.0   \n",
              "\n",
              "   Avg. F size (L) (mm) Avg. F size (R) (mm)  Endometrium (mm)  Unnamed: 44  \n",
              "0                  18.0                 18.0               8.5          NaN  \n",
              "1                  15.0                 14.0               3.7          NaN  \n",
              "2                  18.0                 20.0              10.0          NaN  \n",
              "3                  15.0                 14.0               7.5          NaN  \n",
              "4                  16.0                 14.0               7.0          NaN  \n",
              "\n",
              "[5 rows x 45 columns]"
            ]
          },
          "execution_count": 10,
          "metadata": {},
          "output_type": "execute_result"
        }
      ],
      "source": [
        "from google.colab import files\n",
        "uploaded = files.upload()\n",
        "\n",
        "\n",
        "df = pd.read_excel(\"PCOS_data_without_infertility.xlsx\",sheet_name=\"Full_new\")\n",
        "df.head()"
      ],
      "id": "f28a1b95"
    },
    {
      "cell_type": "code",
      "execution_count": null,
      "metadata": {
        "id": "9b6ba033"
      },
      "outputs": [],
      "source": [
        "pd.set_option('display.max_columns', None)"
      ],
      "id": "9b6ba033"
    },
    {
      "cell_type": "markdown",
      "metadata": {
        "id": "485e7a33"
      },
      "source": [
        "# STEP 1: preprocessing and cleaning of the data\n",
        "# droping unnecassary columns"
      ],
      "id": "485e7a33"
    },
    {
      "cell_type": "code",
      "execution_count": null,
      "metadata": {
        "id": "b6cd7b72"
      },
      "outputs": [],
      "source": [
        "df = df.drop([\"Unnamed: 44\",\"Sl. No\",\"Patient File No.\",\"Fast food (Y/N)\"],axis=1)"
      ],
      "id": "b6cd7b72"
    },
    {
      "cell_type": "markdown",
      "metadata": {
        "id": "e5e84f78"
      },
      "source": [
        "# finding out NAN in the dataframe"
      ],
      "id": "e5e84f78"
    },
    {
      "cell_type": "code",
      "execution_count": null,
      "metadata": {
        "colab": {
          "base_uri": "https://localhost:8080/"
        },
        "id": "7cf86387",
        "outputId": "68813870-b4af-4a62-b5fe-369be2be5971"
      },
      "outputs": [
        {
          "name": "stdout",
          "output_type": "stream",
          "text": [
            "PCOS (Y/N)                0\n",
            " Age (yrs)                0\n",
            "Weight (Kg)               0\n",
            "Height(Cm)                0\n",
            "BMI                       0\n",
            "Blood Group               0\n",
            "Pulse rate(bpm)           0\n",
            "RR (breaths/min)          0\n",
            "Hb(g/dl)                  0\n",
            "Cycle(R/I)                0\n",
            "Cycle length(days)        0\n",
            "Marraige Status (Yrs)     1\n",
            "Pregnant(Y/N)             0\n",
            "No. of aborptions         0\n",
            "  I   beta-HCG(mIU/mL)    0\n",
            "II    beta-HCG(mIU/mL)    0\n",
            "FSH(mIU/mL)               0\n",
            "LH(mIU/mL)                0\n",
            "FSH/LH                    0\n",
            "Hip(inch)                 0\n",
            "Waist(inch)               0\n",
            "Waist:Hip Ratio           0\n",
            "TSH (mIU/L)               0\n",
            "AMH(ng/mL)                0\n",
            "PRL(ng/mL)                0\n",
            "Vit D3 (ng/mL)            0\n",
            "PRG(ng/mL)                0\n",
            "RBS(mg/dl)                0\n",
            "Weight gain(Y/N)          0\n",
            "hair growth(Y/N)          0\n",
            "Skin darkening (Y/N)      0\n",
            "Hair loss(Y/N)            0\n",
            "Pimples(Y/N)              0\n",
            "Reg.Exercise(Y/N)         0\n",
            "BP _Systolic (mmHg)       0\n",
            "BP _Diastolic (mmHg)      0\n",
            "Follicle No. (L)          0\n",
            "Follicle No. (R)          0\n",
            "Avg. F size (L) (mm)      0\n",
            "Avg. F size (R) (mm)      0\n",
            "Endometrium (mm)          0\n",
            "dtype: int64\n",
            "Count of NAN 1\n",
            "     PCOS (Y/N)   Age (yrs)  Weight (Kg)  Height(Cm)         BMI  Blood Group  \\\n",
            "0           0.0        28.0         44.6      152.000  19.300000         15.0   \n",
            "1           0.0        36.0         65.0      161.500  24.921163         15.0   \n",
            "2           1.0        33.0         68.8      165.000  25.270891         11.0   \n",
            "3           0.0        37.0         65.0      148.000  29.674945         13.0   \n",
            "4           0.0        25.0         52.0      161.000  20.060954         11.0   \n",
            "..          ...         ...          ...          ...        ...          ...   \n",
            "536         0.0        35.0         50.0      164.592  18.500000         17.0   \n",
            "537         0.0        30.0         63.2      158.000  25.300000         15.0   \n",
            "538         0.0        36.0         54.0      152.000  23.400000         13.0   \n",
            "539         0.0        27.0         50.0      150.000  22.200000         15.0   \n",
            "540         1.0        23.0         82.0      165.000  30.100000         13.0   \n",
            "\n",
            "     Pulse rate(bpm)   RR (breaths/min)  Hb(g/dl)  Cycle(R/I)  \\\n",
            "0                78.0              22.0     10.48         2.0   \n",
            "1                74.0              20.0     11.70         2.0   \n",
            "2                72.0              18.0     11.80         2.0   \n",
            "3                72.0              20.0     12.00         2.0   \n",
            "4                72.0              18.0     10.00         2.0   \n",
            "..                ...               ...       ...         ...   \n",
            "536              72.0              16.0     11.00         2.0   \n",
            "537              72.0              18.0     10.80         2.0   \n",
            "538              74.0              20.0     10.80         2.0   \n",
            "539              74.0              20.0     12.00         4.0   \n",
            "540              80.0              20.0     10.20         4.0   \n",
            "\n",
            "     Cycle length(days)  Marraige Status (Yrs)  Pregnant(Y/N)  \\\n",
            "0                   5.0                    7.0            0.0   \n",
            "1                   5.0                   11.0            1.0   \n",
            "2                   5.0                   10.0            1.0   \n",
            "3                   5.0                    4.0            0.0   \n",
            "4                   5.0                    1.0            1.0   \n",
            "..                  ...                    ...            ...   \n",
            "536                 5.0                    8.0            0.0   \n",
            "537                 5.0                    4.0            1.0   \n",
            "538                 6.0                    8.0            0.0   \n",
            "539                 2.0                    2.0            0.0   \n",
            "540                 7.0                    2.0            0.0   \n",
            "\n",
            "     No. of aborptions    I   beta-HCG(mIU/mL) II    beta-HCG(mIU/mL)  \\\n",
            "0                  0.0                    1.99                   1.99   \n",
            "1                  0.0                   60.80                   1.99   \n",
            "2                  0.0                  494.08                 494.08   \n",
            "3                  0.0                    1.99                   1.99   \n",
            "4                  0.0                  801.45                 801.45   \n",
            "..                 ...                     ...                    ...   \n",
            "536                1.0                    1.99                   1.99   \n",
            "537                1.0                   80.13                   1.99   \n",
            "538                0.0                    1.99                   1.99   \n",
            "539                0.0                  292.92                   1.99   \n",
            "540                0.0                    1.99                   1.99   \n",
            "\n",
            "     FSH(mIU/mL)  LH(mIU/mL)    FSH/LH  Hip(inch)  Waist(inch)  \\\n",
            "0           7.95        3.68  2.160326       36.0         30.0   \n",
            "1           6.73        1.09  6.174312       38.0         32.0   \n",
            "2           5.54        0.88  6.295455       40.0         36.0   \n",
            "3           8.06        2.36  3.415254       42.0         36.0   \n",
            "4           3.98        0.90  4.422222       37.0         30.0   \n",
            "..           ...         ...       ...        ...          ...   \n",
            "536        10.06        1.81  5.558011       28.0         26.0   \n",
            "537         5.07        2.84  1.785211       34.0         32.0   \n",
            "538        11.96        2.78  4.302158       30.0         28.0   \n",
            "539         4.40        4.33  1.016166       28.0         26.0   \n",
            "540         3.99        4.30  0.927907       48.0         46.0   \n",
            "\n",
            "     Waist:Hip Ratio  TSH (mIU/L) AMH(ng/mL)  PRL(ng/mL)  Vit D3 (ng/mL)  \\\n",
            "0           0.833333         0.68       2.07       45.16            17.1   \n",
            "1           0.842105         3.16       1.53       20.09            61.3   \n",
            "2           0.900000         2.54       6.63       10.52            49.7   \n",
            "3           0.857143        16.41       1.22       36.90            33.4   \n",
            "4           0.810811         3.57       2.26       30.09            43.8   \n",
            "..               ...          ...        ...         ...             ...   \n",
            "536         0.928571         1.11        1.7        5.30            36.6   \n",
            "537         0.941176         2.05        5.6       21.09            23.0   \n",
            "538         0.933333         2.87        3.7       96.41            22.5   \n",
            "539         0.928571         2.50        5.2       38.89            22.4   \n",
            "540         0.958333         1.66       20.0       20.74            17.4   \n",
            "\n",
            "     PRG(ng/mL)  RBS(mg/dl)  Weight gain(Y/N)  hair growth(Y/N)  \\\n",
            "0          0.57        92.0               0.0               0.0   \n",
            "1          0.97        92.0               0.0               0.0   \n",
            "2          0.36        84.0               0.0               0.0   \n",
            "3          0.36        76.0               0.0               0.0   \n",
            "4          0.38        84.0               0.0               0.0   \n",
            "..          ...         ...               ...               ...   \n",
            "536        0.25        92.0               0.0               0.0   \n",
            "537        0.25       108.0               1.0               0.0   \n",
            "538        0.25        92.0               0.0               0.0   \n",
            "539        0.25       115.0               0.0               0.0   \n",
            "540        0.37       108.0               1.0               1.0   \n",
            "\n",
            "     Skin darkening (Y/N)  Hair loss(Y/N)  Pimples(Y/N)  Reg.Exercise(Y/N)  \\\n",
            "0                     0.0             0.0           0.0                0.0   \n",
            "1                     0.0             0.0           0.0                0.0   \n",
            "2                     0.0             1.0           1.0                0.0   \n",
            "3                     0.0             0.0           0.0                0.0   \n",
            "4                     0.0             1.0           0.0                0.0   \n",
            "..                    ...             ...           ...                ...   \n",
            "536                   0.0             0.0           0.0                0.0   \n",
            "537                   0.0             0.0           0.0                0.0   \n",
            "538                   0.0             0.0           0.0                0.0   \n",
            "539                   0.0             0.0           1.0                0.0   \n",
            "540                   1.0             1.0           1.0                0.0   \n",
            "\n",
            "     BP _Systolic (mmHg)  BP _Diastolic (mmHg)  Follicle No. (L)  \\\n",
            "0                  110.0                  80.0               3.0   \n",
            "1                  120.0                  70.0               3.0   \n",
            "2                  120.0                  80.0              13.0   \n",
            "3                  120.0                  70.0               2.0   \n",
            "4                  120.0                  80.0               3.0   \n",
            "..                   ...                   ...               ...   \n",
            "536                110.0                  70.0               1.0   \n",
            "537                110.0                  70.0               9.0   \n",
            "538                110.0                  80.0               1.0   \n",
            "539                110.0                  70.0               7.0   \n",
            "540                120.0                  70.0               9.0   \n",
            "\n",
            "     Follicle No. (R)  Avg. F size (L) (mm)  Avg. F size (R) (mm)  \\\n",
            "0                 3.0                  18.0                  18.0   \n",
            "1                 5.0                  15.0                  14.0   \n",
            "2                15.0                  18.0                  20.0   \n",
            "3                 2.0                  15.0                  14.0   \n",
            "4                 4.0                  16.0                  14.0   \n",
            "..                ...                   ...                   ...   \n",
            "536               0.0                  17.5                  10.0   \n",
            "537               7.0                  19.0                  18.0   \n",
            "538               0.0                  18.0                   9.0   \n",
            "539               6.0                  18.0                  16.0   \n",
            "540              10.0                  19.0                  18.0   \n",
            "\n",
            "     Endometrium (mm)  \n",
            "0                 8.5  \n",
            "1                 3.7  \n",
            "2                10.0  \n",
            "3                 7.5  \n",
            "4                 7.0  \n",
            "..                ...  \n",
            "536               6.7  \n",
            "537               8.2  \n",
            "538               7.3  \n",
            "539              11.5  \n",
            "540               6.9  \n",
            "\n",
            "[541 rows x 41 columns]\n"
          ]
        }
      ],
      "source": [
        "print(df.isnull().sum())\n",
        "print('Count of NAN ' + str(df.isnull().sum().sum()))\n",
        "print(df)"
      ],
      "id": "7cf86387"
    },
    {
      "cell_type": "markdown",
      "metadata": {
        "id": "6998f171"
      },
      "source": [
        "# filling out na with backfill method"
      ],
      "id": "6998f171"
    },
    {
      "cell_type": "code",
      "execution_count": null,
      "metadata": {
        "colab": {
          "base_uri": "https://localhost:8080/"
        },
        "id": "f63424b3",
        "outputId": "4d4576e0-b016-424b-f00a-7b4a3032dfc9"
      },
      "outputs": [
        {
          "name": "stdout",
          "output_type": "stream",
          "text": [
            "1\n"
          ]
        },
        {
          "data": {
            "text/plain": [
              "0       7.0\n",
              "1      11.0\n",
              "2      10.0\n",
              "3       4.0\n",
              "4       1.0\n",
              "       ... \n",
              "536     8.0\n",
              "537     4.0\n",
              "538     8.0\n",
              "539     2.0\n",
              "540     2.0\n",
              "Name: Marraige Status (Yrs), Length: 541, dtype: float64"
            ]
          },
          "execution_count": 14,
          "metadata": {},
          "output_type": "execute_result"
        }
      ],
      "source": [
        "print(str(df['Marraige Status (Yrs)'].isnull().sum().sum()))\n",
        "df['Marraige Status (Yrs)'].bfill()"
      ],
      "id": "f63424b3"
    },
    {
      "cell_type": "markdown",
      "metadata": {
        "id": "c8b3bedb"
      },
      "source": [
        "# again checking na to make sure data looks tidy"
      ],
      "id": "c8b3bedb"
    },
    {
      "cell_type": "code",
      "execution_count": null,
      "metadata": {
        "colab": {
          "base_uri": "https://localhost:8080/"
        },
        "id": "-vi9rcXlyd00",
        "outputId": "a203f4d1-544d-4c92-c33c-db97c5c8f021"
      },
      "outputs": [
        {
          "name": "stdout",
          "output_type": "stream",
          "text": [
            "PCOS (Y/N)                0\n",
            " Age (yrs)                0\n",
            "Weight (Kg)               0\n",
            "Height(Cm)                0\n",
            "BMI                       0\n",
            "Blood Group               0\n",
            "Pulse rate(bpm)           0\n",
            "RR (breaths/min)          0\n",
            "Hb(g/dl)                  0\n",
            "Cycle(R/I)                0\n",
            "Cycle length(days)        0\n",
            "Marraige Status (Yrs)     1\n",
            "Pregnant(Y/N)             0\n",
            "No. of aborptions         0\n",
            "  I   beta-HCG(mIU/mL)    0\n",
            "II    beta-HCG(mIU/mL)    0\n",
            "FSH(mIU/mL)               0\n",
            "LH(mIU/mL)                0\n",
            "FSH/LH                    0\n",
            "Hip(inch)                 0\n",
            "Waist(inch)               0\n",
            "Waist:Hip Ratio           0\n",
            "TSH (mIU/L)               0\n",
            "AMH(ng/mL)                0\n",
            "PRL(ng/mL)                0\n",
            "Vit D3 (ng/mL)            0\n",
            "PRG(ng/mL)                0\n",
            "RBS(mg/dl)                0\n",
            "Weight gain(Y/N)          0\n",
            "hair growth(Y/N)          0\n",
            "Skin darkening (Y/N)      0\n",
            "Hair loss(Y/N)            0\n",
            "Pimples(Y/N)              0\n",
            "Reg.Exercise(Y/N)         0\n",
            "BP _Systolic (mmHg)       0\n",
            "BP _Diastolic (mmHg)      0\n",
            "Follicle No. (L)          0\n",
            "Follicle No. (R)          0\n",
            "Avg. F size (L) (mm)      0\n",
            "Avg. F size (R) (mm)      0\n",
            "Endometrium (mm)          0\n",
            "dtype: int64\n",
            "Count of NAN 1\n",
            "     PCOS (Y/N)   Age (yrs)  Weight (Kg)  Height(Cm)         BMI  Blood Group  \\\n",
            "0           0.0        28.0         44.6      152.000  19.300000         15.0   \n",
            "1           0.0        36.0         65.0      161.500  24.921163         15.0   \n",
            "2           1.0        33.0         68.8      165.000  25.270891         11.0   \n",
            "3           0.0        37.0         65.0      148.000  29.674945         13.0   \n",
            "4           0.0        25.0         52.0      161.000  20.060954         11.0   \n",
            "..          ...         ...          ...          ...        ...          ...   \n",
            "536         0.0        35.0         50.0      164.592  18.500000         17.0   \n",
            "537         0.0        30.0         63.2      158.000  25.300000         15.0   \n",
            "538         0.0        36.0         54.0      152.000  23.400000         13.0   \n",
            "539         0.0        27.0         50.0      150.000  22.200000         15.0   \n",
            "540         1.0        23.0         82.0      165.000  30.100000         13.0   \n",
            "\n",
            "     Pulse rate(bpm)   RR (breaths/min)  Hb(g/dl)  Cycle(R/I)  \\\n",
            "0                78.0              22.0     10.48         2.0   \n",
            "1                74.0              20.0     11.70         2.0   \n",
            "2                72.0              18.0     11.80         2.0   \n",
            "3                72.0              20.0     12.00         2.0   \n",
            "4                72.0              18.0     10.00         2.0   \n",
            "..                ...               ...       ...         ...   \n",
            "536              72.0              16.0     11.00         2.0   \n",
            "537              72.0              18.0     10.80         2.0   \n",
            "538              74.0              20.0     10.80         2.0   \n",
            "539              74.0              20.0     12.00         4.0   \n",
            "540              80.0              20.0     10.20         4.0   \n",
            "\n",
            "     Cycle length(days)  Marraige Status (Yrs)  Pregnant(Y/N)  \\\n",
            "0                   5.0                    7.0            0.0   \n",
            "1                   5.0                   11.0            1.0   \n",
            "2                   5.0                   10.0            1.0   \n",
            "3                   5.0                    4.0            0.0   \n",
            "4                   5.0                    1.0            1.0   \n",
            "..                  ...                    ...            ...   \n",
            "536                 5.0                    8.0            0.0   \n",
            "537                 5.0                    4.0            1.0   \n",
            "538                 6.0                    8.0            0.0   \n",
            "539                 2.0                    2.0            0.0   \n",
            "540                 7.0                    2.0            0.0   \n",
            "\n",
            "     No. of aborptions    I   beta-HCG(mIU/mL) II    beta-HCG(mIU/mL)  \\\n",
            "0                  0.0                    1.99                   1.99   \n",
            "1                  0.0                   60.80                   1.99   \n",
            "2                  0.0                  494.08                 494.08   \n",
            "3                  0.0                    1.99                   1.99   \n",
            "4                  0.0                  801.45                 801.45   \n",
            "..                 ...                     ...                    ...   \n",
            "536                1.0                    1.99                   1.99   \n",
            "537                1.0                   80.13                   1.99   \n",
            "538                0.0                    1.99                   1.99   \n",
            "539                0.0                  292.92                   1.99   \n",
            "540                0.0                    1.99                   1.99   \n",
            "\n",
            "     FSH(mIU/mL)  LH(mIU/mL)    FSH/LH  Hip(inch)  Waist(inch)  \\\n",
            "0           7.95        3.68  2.160326       36.0         30.0   \n",
            "1           6.73        1.09  6.174312       38.0         32.0   \n",
            "2           5.54        0.88  6.295455       40.0         36.0   \n",
            "3           8.06        2.36  3.415254       42.0         36.0   \n",
            "4           3.98        0.90  4.422222       37.0         30.0   \n",
            "..           ...         ...       ...        ...          ...   \n",
            "536        10.06        1.81  5.558011       28.0         26.0   \n",
            "537         5.07        2.84  1.785211       34.0         32.0   \n",
            "538        11.96        2.78  4.302158       30.0         28.0   \n",
            "539         4.40        4.33  1.016166       28.0         26.0   \n",
            "540         3.99        4.30  0.927907       48.0         46.0   \n",
            "\n",
            "     Waist:Hip Ratio  TSH (mIU/L) AMH(ng/mL)  PRL(ng/mL)  Vit D3 (ng/mL)  \\\n",
            "0           0.833333         0.68       2.07       45.16            17.1   \n",
            "1           0.842105         3.16       1.53       20.09            61.3   \n",
            "2           0.900000         2.54       6.63       10.52            49.7   \n",
            "3           0.857143        16.41       1.22       36.90            33.4   \n",
            "4           0.810811         3.57       2.26       30.09            43.8   \n",
            "..               ...          ...        ...         ...             ...   \n",
            "536         0.928571         1.11        1.7        5.30            36.6   \n",
            "537         0.941176         2.05        5.6       21.09            23.0   \n",
            "538         0.933333         2.87        3.7       96.41            22.5   \n",
            "539         0.928571         2.50        5.2       38.89            22.4   \n",
            "540         0.958333         1.66       20.0       20.74            17.4   \n",
            "\n",
            "     PRG(ng/mL)  RBS(mg/dl)  Weight gain(Y/N)  hair growth(Y/N)  \\\n",
            "0          0.57        92.0               0.0               0.0   \n",
            "1          0.97        92.0               0.0               0.0   \n",
            "2          0.36        84.0               0.0               0.0   \n",
            "3          0.36        76.0               0.0               0.0   \n",
            "4          0.38        84.0               0.0               0.0   \n",
            "..          ...         ...               ...               ...   \n",
            "536        0.25        92.0               0.0               0.0   \n",
            "537        0.25       108.0               1.0               0.0   \n",
            "538        0.25        92.0               0.0               0.0   \n",
            "539        0.25       115.0               0.0               0.0   \n",
            "540        0.37       108.0               1.0               1.0   \n",
            "\n",
            "     Skin darkening (Y/N)  Hair loss(Y/N)  Pimples(Y/N)  Reg.Exercise(Y/N)  \\\n",
            "0                     0.0             0.0           0.0                0.0   \n",
            "1                     0.0             0.0           0.0                0.0   \n",
            "2                     0.0             1.0           1.0                0.0   \n",
            "3                     0.0             0.0           0.0                0.0   \n",
            "4                     0.0             1.0           0.0                0.0   \n",
            "..                    ...             ...           ...                ...   \n",
            "536                   0.0             0.0           0.0                0.0   \n",
            "537                   0.0             0.0           0.0                0.0   \n",
            "538                   0.0             0.0           0.0                0.0   \n",
            "539                   0.0             0.0           1.0                0.0   \n",
            "540                   1.0             1.0           1.0                0.0   \n",
            "\n",
            "     BP _Systolic (mmHg)  BP _Diastolic (mmHg)  Follicle No. (L)  \\\n",
            "0                  110.0                  80.0               3.0   \n",
            "1                  120.0                  70.0               3.0   \n",
            "2                  120.0                  80.0              13.0   \n",
            "3                  120.0                  70.0               2.0   \n",
            "4                  120.0                  80.0               3.0   \n",
            "..                   ...                   ...               ...   \n",
            "536                110.0                  70.0               1.0   \n",
            "537                110.0                  70.0               9.0   \n",
            "538                110.0                  80.0               1.0   \n",
            "539                110.0                  70.0               7.0   \n",
            "540                120.0                  70.0               9.0   \n",
            "\n",
            "     Follicle No. (R)  Avg. F size (L) (mm)  Avg. F size (R) (mm)  \\\n",
            "0                 3.0                  18.0                  18.0   \n",
            "1                 5.0                  15.0                  14.0   \n",
            "2                15.0                  18.0                  20.0   \n",
            "3                 2.0                  15.0                  14.0   \n",
            "4                 4.0                  16.0                  14.0   \n",
            "..                ...                   ...                   ...   \n",
            "536               0.0                  17.5                  10.0   \n",
            "537               7.0                  19.0                  18.0   \n",
            "538               0.0                  18.0                   9.0   \n",
            "539               6.0                  18.0                  16.0   \n",
            "540              10.0                  19.0                  18.0   \n",
            "\n",
            "     Endometrium (mm)  \n",
            "0                 8.5  \n",
            "1                 3.7  \n",
            "2                10.0  \n",
            "3                 7.5  \n",
            "4                 7.0  \n",
            "..                ...  \n",
            "536               6.7  \n",
            "537               8.2  \n",
            "538               7.3  \n",
            "539              11.5  \n",
            "540               6.9  \n",
            "\n",
            "[541 rows x 41 columns]\n"
          ]
        }
      ],
      "source": [
        "print(df.isnull().sum())\n",
        "print('Count of NAN ' + str(df.isnull().sum().sum()))\n",
        "print(df)"
      ],
      "id": "-vi9rcXlyd00"
    },
    {
      "cell_type": "markdown",
      "metadata": {
        "id": "62462627"
      },
      "source": [
        "# lets see can we reduce the dimensionality of the data,\n",
        "# finding out correlation matrix\n"
      ],
      "id": "62462627"
    },
    {
      "cell_type": "code",
      "execution_count": null,
      "metadata": {
        "id": "b7f3732f"
      },
      "outputs": [],
      "source": [
        "corr_matrix=df.corrwith(df[\"PCOS (Y/N)\"]).abs().sort_values(ascending=False)\n"
      ],
      "id": "b7f3732f"
    },
    {
      "cell_type": "markdown",
      "metadata": {
        "id": "2edc413f"
      },
      "source": [
        "# features with correlation more than 0.15\n"
      ],
      "id": "2edc413f"
    },
    {
      "cell_type": "code",
      "execution_count": null,
      "metadata": {
        "colab": {
          "base_uri": "https://localhost:8080/"
        },
        "id": "e07a3a6f",
        "outputId": "b2efeca4-fcf1-451d-cece-576e3bcf4196"
      },
      "outputs": [
        {
          "name": "stdout",
          "output_type": "stream",
          "text": [
            "Index(['PCOS (Y/N)', 'Follicle No. (R)', 'Follicle No. (L)',\n",
            "       'Skin darkening (Y/N)', 'hair growth(Y/N)', 'Weight gain(Y/N)',\n",
            "       'Cycle(R/I)', 'Pimples(Y/N)', 'Weight (Kg)', 'BMI',\n",
            "       'Cycle length(days)', 'Hair loss(Y/N)', ' Age (yrs)', 'Waist(inch)',\n",
            "       'Hip(inch)'],\n",
            "      dtype='object')\n",
            "   PCOS (Y/N)  Follicle No. (R)  Follicle No. (L)  Skin darkening (Y/N)  \\\n",
            "0         0.0               3.0               3.0                   0.0   \n",
            "1         0.0               5.0               3.0                   0.0   \n",
            "2         1.0              15.0              13.0                   0.0   \n",
            "3         0.0               2.0               2.0                   0.0   \n",
            "4         0.0               4.0               3.0                   0.0   \n",
            "\n",
            "   hair growth(Y/N)  Weight gain(Y/N)  Cycle(R/I)  Pimples(Y/N)  Weight (Kg)  \\\n",
            "0               0.0               0.0         2.0           0.0         44.6   \n",
            "1               0.0               0.0         2.0           0.0         65.0   \n",
            "2               0.0               0.0         2.0           1.0         68.8   \n",
            "3               0.0               0.0         2.0           0.0         65.0   \n",
            "4               0.0               0.0         2.0           0.0         52.0   \n",
            "\n",
            "         BMI  Cycle length(days)  Hair loss(Y/N)   Age (yrs)  Waist(inch)  \\\n",
            "0  19.300000                 5.0             0.0        28.0         30.0   \n",
            "1  24.921163                 5.0             0.0        36.0         32.0   \n",
            "2  25.270891                 5.0             1.0        33.0         36.0   \n",
            "3  29.674945                 5.0             0.0        37.0         36.0   \n",
            "4  20.060954                 5.0             1.0        25.0         30.0   \n",
            "\n",
            "   Hip(inch)  \n",
            "0       36.0  \n",
            "1       38.0  \n",
            "2       40.0  \n",
            "3       42.0  \n",
            "4       37.0  \n"
          ]
        }
      ],
      "source": [
        "corr_matrix=corr_matrix[corr_matrix>0.15].index\n",
        "print(corr_matrix)\n",
        "\n",
        "df=df[corr_matrix]\n",
        "print(df.head())"
      ],
      "id": "e07a3a6f"
    },
    {
      "cell_type": "code",
      "execution_count": null,
      "metadata": {
        "colab": {
          "base_uri": "https://localhost:8080/",
          "height": 416
        },
        "id": "0be6565c",
        "outputId": "b989c752-e376-45cd-8f02-86decfedf8b7"
      },
      "outputs": [
        {
          "data": {
            "image/png": "[encoded data removed]",
            "text/plain": [
              "<Figure size 432x360 with 2 Axes>"
            ]
          },
          "metadata": {},
          "output_type": "display_data"
        }
      ],
      "source": [
        "plt.figure(figsize=(6,5))\n",
        "sn.heatmap(df.corr(), annot=True)\n",
        "plt.show()"
      ],
      "id": "0be6565c"
    },
    {
      "cell_type": "markdown",
      "metadata": {
        "id": "x1XAmN8Z_Wi5"
      },
      "source": [
        "## STEP2: DATA preparation for modelling"
      ],
      "id": "x1XAmN8Z_Wi5"
    },
    {
      "cell_type": "code",
      "execution_count": null,
      "metadata": {
        "id": "73f19620"
      },
      "outputs": [],
      "source": [
        "y=df['PCOS (Y/N)']\n",
        "X=df.drop(['PCOS (Y/N)'], axis=1)\n",
        "X_train,X_test,y_train, y_test=train_test_split(X,y, test_size=0.25, random_state=42)"
      ],
      "id": "73f19620"
    },
    {
      "cell_type": "markdown",
      "metadata": {
        "id": "-StijrIi_1_5"
      },
      "source": [
        "# STEP 3: Train Model\n",
        "# Model-1 KNN more interpretible less complex"
      ],
      "id": "-StijrIi_1_5"
    },
    {
      "cell_type": "code",
      "execution_count": null,
      "metadata": {
        "colab": {
          "base_uri": "https://localhost:8080/"
        },
        "id": "fbea2e68",
        "outputId": "38e2377e-d7a3-48a2-83ec-efed6d5a43ba"
      },
      "outputs": [
        {
          "name": "stdout",
          "output_type": "stream",
          "text": [
            "GridSearchCV(cv=10, estimator=KNeighborsClassifier(),\n",
            "             param_grid={'n_neighbors': [1, 2, 3, 4, 5, 6, 7, 8, 9, 10, 11, 12,\n",
            "                                         13, 14, 15, 16, 17, 18, 19, 20]},\n",
            "             scoring='accuracy', verbose=1)\n",
            "Fitting 10 folds for each of 20 candidates, totalling 200 fits\n",
            "Optimum value of n-neighbour:  {'n_neighbors': 9}\n",
            "[0.77256098 0.79481707 0.82457317 0.8220122  0.83682927 0.83439024\n",
            " 0.84158537 0.84164634 0.84414634 0.83914634 0.84158537 0.83664634\n",
            " 0.84158537 0.83414634 0.84164634 0.83670732 0.83914634 0.83670732\n",
            " 0.84408537 0.83664634]\n"
          ]
        }
      ],
      "source": [
        "knn = KNeighborsClassifier(algorithm=\"auto\")\n",
        "\n",
        "k_range = list(range(1, 21))\n",
        "\n",
        "param_grid = dict(n_neighbors=k_range)\n",
        "\n",
        "grid = GridSearchCV(estimator=knn, param_grid = param_grid, cv=10, scoring = \"accuracy\", return_train_score=False,verbose=1)\n",
        "print(grid)\n",
        "\n",
        "grid_fit = grid.fit(X_train, y_train)\n",
        "\n",
        "print(\"Optimum value of n-neighbour: \", grid.best_params_)\n",
        "\n",
        "scores_train=grid.cv_results_['mean_test_score']\n",
        "\n",
        "print(scores_train)"
      ],
      "id": "fbea2e68"
    },
    {
      "cell_type": "markdown",
      "metadata": {
        "id": "0O8vqPMFABlZ"
      },
      "source": [
        "## fitting the knn model with optimize n-neighbour value"
      ],
      "id": "0O8vqPMFABlZ"
    },
    {
      "cell_type": "code",
      "execution_count": null,
      "metadata": {
        "colab": {
          "base_uri": "https://localhost:8080/"
        },
        "id": "5b1191a5",
        "outputId": "a0dc23f3-df93-424f-a6f5-646b4c4a8abd"
      },
      "outputs": [
        {
          "name": "stdout",
          "output_type": "stream",
          "text": [
            "Accuracy for our testing dataset with tuning is : 84.56%\n"
          ]
        }
      ],
      "source": [
        "import warnings\n",
        "warnings.filterwarnings('ignore')\n",
        "\n",
        "#fitting the knn model with optimize n-neighbour value\n",
        "knn = KNeighborsClassifier(n_neighbors=9)\n",
        "\n",
        "knn.fit(X, y)\n",
        "#predicting test dataset\n",
        "y_test_hat = knn.predict(X_test) \n",
        "\n",
        "test_accuracy=accuracy_score(y_test,y_test_hat)*100\n",
        "\n",
        "print(\"Accuracy for our testing dataset with tuning is : {:.2f}%\".format(test_accuracy) )\n",
        "\n",
        "\n"
      ],
      "id": "5b1191a5"
    },
    {
      "cell_type": "markdown",
      "metadata": {
        "id": "5SY8aXTUAEaZ"
      },
      "source": [
        "# Cross-validation with KFOLD"
      ],
      "id": "5SY8aXTUAEaZ"
    },
    {
      "cell_type": "code",
      "execution_count": null,
      "metadata": {
        "id": "8675c808"
      },
      "outputs": [],
      "source": [
        "knn2 = KNeighborsClassifier(algorithm=\"auto\")\n",
        "\n",
        "pgrid_knn2 = {\n",
        "     'n_neighbors': (1,21,1),\n",
        "     'leaf_size': (20,40,1),\n",
        "     'p': (1,2),\n",
        "     'weights': ('uniform', 'distance'),\n",
        "     'metric': ('minkowski', 'chebyshev'),}\n",
        "\n",
        "N_TRIALS=21\n",
        "\n",
        "scores = np.zeros(N_TRIALS)\n",
        "\n",
        "for i in  range(N_TRIALS):\n",
        "    inner_cv = KFold(n_splits = 10, shuffle=True, random_state = i)\n",
        "    outer_cv = KFold(n_splits = 10, shuffle=True, random_state = i)\n",
        "    clf = GridSearchCV(estimator = knn2,param_grid = pgrid_knn2, cv = inner_cv, n_jobs = -1)\n",
        "    score = cross_val_score(clf, X_test, y=y_test, cv = outer_cv)\n",
        "    scores[i] = score.mean()"
      ],
      "id": "8675c808"
    },
    {
      "cell_type": "code",
      "execution_count": null,
      "metadata": {
        "colab": {
          "base_uri": "https://localhost:8080/",
          "height": 279
        },
        "id": "adc99eb9",
        "outputId": "f54e15c3-1390-4bda-f870-678066616a45"
      },
      "outputs": [
        {
          "data": {
            "image/png": "[encoded data removed]",
            "text/plain": [
              "<Figure size 432x288 with 1 Axes>"
            ]
          },
          "metadata": {},
          "output_type": "display_data"
        }
      ],
      "source": [
        "plt.figure()\n",
        "plt.plot(k_range,scores_train,color='b')\n",
        "plt.plot(scores,color='r')\n",
        "plt.xlabel('Value of k')\n",
        "plt.ylabel('Cross Validation Accuracy')\n",
        "plt.show()\n",
        "\n"
      ],
      "id": "adc99eb9"
    },
    {
      "cell_type": "markdown",
      "metadata": {
        "id": "NNSaoSSzCknx"
      },
      "source": [
        "# Confusion Matrix"
      ],
      "id": "NNSaoSSzCknx"
    },
    {
      "cell_type": "code",
      "execution_count": null,
      "metadata": {
        "id": "8a7743d1"
      },
      "outputs": [],
      "source": [
        "from sklearn import metrics\n",
        "from sklearn.metrics import confusion_matrix\n",
        "from sklearn.metrics import accuracy_score\n",
        "from sklearn.metrics import classification_report\n",
        "import numpy as np"
      ],
      "id": "8a7743d1"
    },
    {
      "cell_type": "code",
      "execution_count": null,
      "metadata": {
        "colab": {
          "base_uri": "https://localhost:8080/",
          "height": 489
        },
        "id": "09f72da8",
        "outputId": "7af58c83-c618-4cf4-fd21-0a98b9df0938"
      },
      "outputs": [
        {
          "name": "stdout",
          "output_type": "stream",
          "text": [
            "[[87  7]\n",
            " [14 28]]\n"
          ]
        },
        {
          "data": {
            "image/png": "[encoded data removed]",
            "text/plain": [
              "<Figure size 288x288 with 1 Axes>"
            ]
          },
          "metadata": {},
          "output_type": "display_data"
        },
        {
          "name": "stdout",
          "output_type": "stream",
          "text": [
            "              precision    recall  f1-score   support\n",
            "\n",
            "         0.0       0.86      0.93      0.89        94\n",
            "         1.0       0.80      0.67      0.73        42\n",
            "\n",
            "    accuracy                           0.85       136\n",
            "   macro avg       0.83      0.80      0.81       136\n",
            "weighted avg       0.84      0.85      0.84       136\n",
            "\n",
            "Accuracy 0.8455882352941176\n"
          ]
        }
      ],
      "source": [
        "confusion_matrix = confusion_matrix(y_test, y_test_hat)\n",
        "print(confusion_matrix)\n",
        "\n",
        "plt.matshow(confusion_matrix)\n",
        "plt.show()\n",
        "\n",
        "\n",
        "print(classification_report(y_test, y_test_hat))\n",
        "\n",
        "print(\"Accuracy\", metrics.accuracy_score(y_test, y_test_hat))\n",
        "\n"
      ],
      "id": "09f72da8"
    },
    {
      "cell_type": "markdown",
      "metadata": {
        "id": "55Euvt61C3H2"
      },
      "source": [
        "# MODEL 2: SVM"
      ],
      "id": "55Euvt61C3H2"
    },
    {
      "cell_type": "code",
      "execution_count": null,
      "metadata": {
        "id": "6de11445"
      },
      "outputs": [],
      "source": [
        "from matplotlib import pyplot as plt\n",
        "from sklearn.svm import SVC\n",
        "from sklearn.metrics import classification_report, confusion_matrix\n",
        "from sklearn.model_selection import GridSearchCV, cross_val_score, KFold\n",
        "import numpy as np"
      ],
      "id": "6de11445"
    },
    {
      "cell_type": "code",
      "execution_count": null,
      "metadata": {
        "colab": {
          "base_uri": "https://localhost:8080/"
        },
        "id": "5901c98b",
        "outputId": "2d9ca830-25a6-48c8-f081-d3a81b929c14"
      },
      "outputs": [
        {
          "name": "stdout",
          "output_type": "stream",
          "text": [
            "Fitting 5 folds for each of 48 candidates, totalling 240 fits\n",
            "Optimum value of C and Gamma for SVC:  {'C': 1, 'gamma': 0.001, 'kernel': 'poly'}\n"
          ]
        }
      ],
      "source": [
        "svc=SVC()\n",
        "p_gridsvc = {'C': [0.1,1, 10, 100], 'gamma': [1,0.1,0.01,0.001],'kernel': ['rbf', 'poly', 'sigmoid']}\n",
        "grid_svc = GridSearchCV(svc, param_grid = p_gridsvc, refit=True,verbose=2,n_jobs=-1)\n",
        "p_grid_fit = grid_svc.fit(X_train, y_train)\n",
        "print(\"Optimum value of C and Gamma for SVC: \", grid_svc.best_params_)\n",
        "scores_trainsvc = grid_svc.cv_results_['mean_test_score']\n",
        "#print(\"SVC scores:\",scores_trainsvc)\n",
        "\n"
      ],
      "id": "5901c98b"
    },
    {
      "cell_type": "code",
      "execution_count": null,
      "metadata": {
        "colab": {
          "base_uri": "https://localhost:8080/"
        },
        "id": "ab305e75",
        "outputId": "ef55b1f1-2cb8-4e98-8a21-67d2f88582cc"
      },
      "outputs": [
        {
          "name": "stdout",
          "output_type": "stream",
          "text": [
            "Accuracy of SVC for our testing dataset with tuning is : 88.24%\n"
          ]
        }
      ],
      "source": [
        "#fitting model with optimum hyperparameters\n",
        "svc2 = SVC(C=1.0, kernel='poly', gamma=0.001)\n",
        "clf2 = svc2.fit(X_train,y_train)\n",
        "ysvc_test_hat=clf2.predict(X_test) \n",
        "testsvc_accuracy=accuracy_score(y_test,ysvc_test_hat)*100\n",
        "print(\"Accuracy of SVC for our testing dataset with tuning is : {:.2f}%\".format(testsvc_accuracy))"
      ],
      "id": "ab305e75"
    },
    {
      "cell_type": "code",
      "execution_count": null,
      "metadata": {
        "colab": {
          "base_uri": "https://localhost:8080/"
        },
        "id": "QhG-eH3lQXbU",
        "outputId": "83182160-f7d0-41b0-e975-13d2f627d6df"
      },
      "outputs": [
        {
          "name": "stdout",
          "output_type": "stream",
          "text": [
            "Nested score:  [0.81360544 0.79693878 0.78809524 0.82142857 0.80926871 0.79251701\n",
            " 0.78001701 0.81326531 0.78409864 0.78384354 0.78010204 0.80076531\n",
            " 0.77159864 0.78435374 0.83418367 0.77176871 0.77619048 0.80493197\n",
            " 0.81335034 0.80059524 0.76386054 0.78452381 0.79634354 0.78044218\n",
            " 0.82984694 0.81360544 0.79294218 0.77610544 0.80493197 0.79651361\n",
            " 0.75952381 0.80093537 0.80501701 0.80501701 0.80093537 0.77176871\n",
            " 0.80068027 0.79260204 0.81743197 0.81743197 0.8130102  0.77644558\n",
            " 0.79260204 0.82585034 0.76309524 0.76785714 0.79277211 0.78435374]\n"
          ]
        }
      ],
      "source": [
        "#cross validation of SVC model using inner and outer loops\n",
        "p_gridsvm = {'C': [0.1,1, 10, 100], 'gamma': [1,0.1,0.01,0.001],'kernel': ['rbf', 'poly', 'sigmoid']}\n",
        "\n",
        "svm = SVC()\n",
        "N_TRIALS = 48\n",
        "svm_scores = np.zeros(N_TRIALS)\n",
        "\n",
        "for i in range(N_TRIALS):\n",
        "    inner_cv = KFold(n_splits=5, shuffle=True, random_state=i)\n",
        "    outer_cv = KFold(n_splits=5, shuffle=True, random_state=i)\n",
        "    clf_svm = GridSearchCV(estimator=svm, param_grid=p_gridsvm, cv=inner_cv, n_jobs=-1)\n",
        "    svm_score = cross_val_score(clf_svm, X=Xval_val, y=yval_val, cv=outer_cv)\n",
        "    svm_scores[i] = svm_score.mean()\n",
        "print(\"Nested score: \",svm_scores)"
      ],
      "id": "QhG-eH3lQXbU"
    },
    {
      "cell_type": "code",
      "execution_count": null,
      "metadata": {
        "colab": {
          "base_uri": "https://localhost:8080/",
          "height": 279
        },
        "id": "Mq11WDmcSSZI",
        "outputId": "a8e79c55-745e-43e4-a252-71da8dfe41a6"
      },
      "outputs": [
        {
          "data": {
            "image/png": "[encoded data removed]",
            "text/plain": [
              "<Figure size 432x288 with 1 Axes>"
            ]
          },
          "metadata": {},
          "output_type": "display_data"
        }
      ],
      "source": [
        "plt.figure(2)\n",
        "plt.plot(scores_trainsvc,color='b')\n",
        "plt.plot(svm_scores,color='r')\n",
        "plt.xlabel('Trails')\n",
        "plt.ylabel('Cross Validation Accuracy')\n",
        "plt.show()"
      ],
      "id": "Mq11WDmcSSZI"
    },
    {
      "cell_type": "code",
      "execution_count": null,
      "metadata": {
        "id": "ef941273"
      },
      "outputs": [],
      "source": [
        "#COnfusion Matrix for MODEl2 SVM"
      ],
      "id": "ef941273"
    },
    {
      "cell_type": "code",
      "execution_count": null,
      "metadata": {
        "id": "c6e01425"
      },
      "outputs": [],
      "source": [
        "from sklearn.preprocessing import StandardScaler\n",
        "scaler = StandardScaler()\n",
        "X_train = scaler.fit_transform(X_train)\n",
        "X_test = scaler.transform(X_test)\n",
        "\n",
        "svc.fit(X_train,y_train)\n",
        "y_pred_svc=svc.predict(X_test)"
      ],
      "id": "c6e01425"
    },
    {
      "cell_type": "code",
      "execution_count": null,
      "metadata": {
        "colab": {
          "base_uri": "https://localhost:8080/",
          "height": 525
        },
        "id": "6c68f2b2",
        "outputId": "5deb877a-98ca-420a-88d1-86dfe9131d2d"
      },
      "outputs": [
        {
          "name": "stdout",
          "output_type": "stream",
          "text": [
            "Accuracy :  0.9044117647058824\n",
            "Accuracy :  0.9044117647058824\n",
            "[[91  3]\n",
            " [10 32]]\n"
          ]
        },
        {
          "data": {
            "image/png": "[encoded data removed]",
            "text/plain": [
              "<Figure size 288x288 with 1 Axes>"
            ]
          },
          "metadata": {},
          "output_type": "display_data"
        },
        {
          "name": "stdout",
          "output_type": "stream",
          "text": [
            "              precision    recall  f1-score   support\n",
            "\n",
            "         0.0       0.90      0.97      0.93        94\n",
            "         1.0       0.91      0.76      0.83        42\n",
            "\n",
            "    accuracy                           0.90       136\n",
            "   macro avg       0.91      0.86      0.88       136\n",
            "weighted avg       0.91      0.90      0.90       136\n",
            "\n",
            "Accuracy 0.9044117647058824\n"
          ]
        }
      ],
      "source": [
        "from sklearn.metrics import confusion_matrix\n",
        "\n",
        "from sklearn.metrics import confusion_matrix\n",
        "\n",
        "cm = confusion_matrix(y_test, y_pred_svc)\n",
        "from sklearn.metrics import accuracy_score \n",
        "print (\"Accuracy : \", accuracy_score(y_test, y_pred_svc))\n",
        "\n",
        "\n",
        "cm_svc = confusion_matrix(y_test, y_pred_svc)\n",
        "from sklearn.metrics import accuracy_score \n",
        "print (\"Accuracy : \", accuracy_score(y_test, y_pred_svc))\n",
        "print(cm_svc)\n",
        "\n",
        "plt.matshow(cm_svc)\n",
        "plt.show()\n",
        "\n",
        "print(classification_report(y_test, y_pred_svc))\n",
        "\n",
        "print(\"Accuracy\", metrics.accuracy_score(y_test, y_pred_svc))\n",
        "\n"
      ],
      "id": "6c68f2b2"
    },
    {
      "cell_type": "code",
      "execution_count": null,
      "metadata": {
        "id": "13f1890f"
      },
      "outputs": [],
      "source": [],
      "id": "13f1890f"
    }
  ],
  "metadata": {
    "colab": {
      "provenance": []
    },
    "kernelspec": {
      "display_name": "Python 3 (ipykernel)",
      "language": "python",
      "name": "python3"
    },
    "language_info": {
      "codemirror_mode": {
        "name": "ipython",
        "version": 3
      },
      "file_extension": ".py",
      "mimetype": "text/x-python",
      "name": "python",
      "nbconvert_exporter": "python",
      "pygments_lexer": "ipython3",
      "version": "3.9.13"
    }
  },
  "nbformat": 4,
  "nbformat_minor": 5
}